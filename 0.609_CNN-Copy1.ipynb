{
 "cells": [
  {
   "cell_type": "code",
   "execution_count": 128,
   "id": "71a60dfb-9814-4f97-b4f2-9b4698822794",
   "metadata": {},
   "outputs": [],
   "source": [
    "import pandas as pd\n",
    "import numpy as np\n",
    "from sklearn.model_selection import train_test_split\n",
    "from sklearn.preprocessing import OneHotEncoder\n",
    "from sklearn.utils import class_weight\n",
    "from sklearn.metrics import classification_report\n",
    "\n",
    "import tensorflow as tf\n",
    "from tensorflow.keras.models import Model\n",
    "from tensorflow.keras.layers import Input, Embedding, Conv1D, GlobalMaxPooling1D, Dense, Dropout, Concatenate\n",
    "from tensorflow.keras.preprocessing.text import Tokenizer\n",
    "from tensorflow.keras.preprocessing.sequence import pad_sequences\n",
    "from tensorflow.keras.optimizers import Adam\n",
    "from tensorflow.keras.callbacks import EarlyStopping\n",
    "from tensorflow.keras.regularizers import l2\n",
    "\n"
   ]
  },
  {
   "cell_type": "code",
   "execution_count": 129,
   "id": "20f380d3-3d0a-4d0a-8c61-760402834cc8",
   "metadata": {},
   "outputs": [],
   "source": [
    "train_df = pd.read_csv(r\"C:\\Users\\Day\\Documents\\LBBYs_CH2-ana\\LBBYs_CH2-ana\\data\\processed\\train_preprocess_v1.csv\")\n",
    "test_df = pd.read_csv(r\"C:\\Users\\Day\\Documents\\LBBYs_CH2-ana\\LBBYs_CH2-ana\\data\\processed\\test_preprocess_v1.csv\")\n"
   ]
  },
  {
   "cell_type": "code",
   "execution_count": 130,
   "id": "842bc200-7c94-47fa-b20e-cfb045e92192",
   "metadata": {},
   "outputs": [],
   "source": [
    "MAX_VOCAB = 20000\n",
    "MAX_LEN = 100\n",
    "EMBEDDING_DIM = 100\n",
    "\n",
    "tokenizer = Tokenizer(num_words=MAX_VOCAB)\n",
    "tokenizer.fit_on_texts(train_df['statement'])\n",
    "\n",
    "X_train_text = tokenizer.texts_to_sequences(train_df['statement'])\n",
    "X_train_text = pad_sequences(X_train_text, maxlen=MAX_LEN)\n",
    "\n",
    "X_test_text = tokenizer.texts_to_sequences(test_df['statement'])\n",
    "X_test_text = pad_sequences(X_test_text, maxlen=MAX_LEN)\n"
   ]
  },
  {
   "cell_type": "code",
   "execution_count": 131,
   "id": "db9e4297-3b23-46b2-8991-3ff69e303ec5",
   "metadata": {},
   "outputs": [],
   "source": [
    "cat_columns = [\n",
    "    'subject', 'speaker', 'speaker_job', 'state_info',\n",
    "    'party_affiliation', 'party_affiliation_uni', 'party_affiliation_category_map',\n",
    "    'processed_subject', 'speaker_type'\n",
    "]\n",
    "\n",
    "\n",
    "encoder = OneHotEncoder(handle_unknown='ignore', sparse_output=False)\n",
    "\n",
    "X_train_cats = encoder.fit_transform(train_df[cat_columns])\n",
    "X_test_cats = encoder.transform(test_df[cat_columns])\n"
   ]
  },
  {
   "cell_type": "code",
   "execution_count": 132,
   "id": "daa81e2f-f742-417c-b6c6-6a20bdfaa954",
   "metadata": {},
   "outputs": [
    {
     "name": "stdout",
     "output_type": "stream",
     "text": [
      "Index(['id', 'label', 'statement', 'subject', 'speaker', 'speaker_job',\n",
      "       'state_info', 'party_affiliation', 'party_affiliation_uni',\n",
      "       'party_affiliation_category_map', 'statement_tokens', 'num_tokens',\n",
      "       'num_sentences', 'pos_info', 'pos_freq', 'lemma_freq', 'tag_freq',\n",
      "       'entities', 'stopwords', 'statement_tokens_without_stopwords',\n",
      "       'num_tokens_without_stopwords', 'pos_info_without_stopwords',\n",
      "       'pos_freq_without_stopwords', 'lemma_freq_without_stopwords',\n",
      "       'tag_freq_without_stopwords', 'processed_subject', 'speaker_entities',\n",
      "       'speaker_type', 'speaker_job_tokens', 'state_info_tokens',\n",
      "       'party_affiliation_tokens'],\n",
      "      dtype='object')\n"
     ]
    }
   ],
   "source": [
    "print(train_df.columns)\n"
   ]
  },
  {
   "cell_type": "code",
   "execution_count": 133,
   "id": "770b3585-d752-4f2c-8ba0-31fcca4a213c",
   "metadata": {},
   "outputs": [],
   "source": [
    "X_train_text, X_val_text, X_train_cats, X_val_cats, y_train, y_val = train_test_split(\n",
    "    X_train_text, X_train_cats, train_df['label'], test_size=0.2, random_state=42)\n"
   ]
  },
  {
   "cell_type": "code",
   "execution_count": 134,
   "id": "3de6b863-d69d-4d4c-9cbe-02e7aa41f6bf",
   "metadata": {},
   "outputs": [],
   "source": [
    "class_weights_array = class_weight.compute_class_weight(class_weight='balanced', classes=np.unique(y_train), y=y_train)\n",
    "class_weights_dict = dict(enumerate(class_weights_array))\n"
   ]
  },
  {
   "cell_type": "code",
   "execution_count": 135,
   "id": "8ae23ec0-b965-4d51-8914-38420e6967f1",
   "metadata": {},
   "outputs": [],
   "source": [
    "def build_improved_cnn_model_with_features():\n",
    "    input_text = Input(shape=(MAX_LEN,), name='text_input')\n",
    "    x = Embedding(input_dim=MAX_VOCAB, output_dim=EMBEDDING_DIM, embeddings_regularizer=l2(1e-6))(input_text)\n",
    "\n",
    "    convs = []\n",
    "    for size in [3, 4, 5]:\n",
    "        c = Conv1D(256, size, activation='relu')(x)\n",
    "        c = GlobalMaxPooling1D()(c)\n",
    "        convs.append(c)\n",
    "    x_text = Concatenate()(convs)\n",
    "    x_text = Dropout(0.5)(x_text)\n",
    "\n",
    "    input_cats = Input(shape=(X_train_cats.shape[1],), name='cats_input')\n",
    "    x_cats = Dense(64, activation='relu', kernel_regularizer=l2(1e-4))(input_cats)\n",
    "    x_cats = Dropout(0.3)(x_cats)\n",
    "\n",
    "    x = Concatenate()([x_text, x_cats])\n",
    "    x = Dense(128, activation='relu', kernel_regularizer=l2(1e-4))(x)\n",
    "    x = Dropout(0.5)(x)\n",
    "    output = Dense(1, activation='sigmoid')(x)\n",
    "\n",
    "    model = Model(inputs=[input_text, input_cats], outputs=output)\n",
    "    model.compile(optimizer=Adam(learning_rate=1e-4), loss='binary_crossentropy', metrics=['accuracy'])\n",
    "    return model\n"
   ]
  },
  {
   "cell_type": "code",
   "execution_count": 136,
   "id": "94a1b5d4-51bb-43f6-8e38-fc7d2b31989b",
   "metadata": {},
   "outputs": [
    {
     "name": "stdout",
     "output_type": "stream",
     "text": [
      "Epoch 1/30\n",
      "\u001b[1m224/224\u001b[0m \u001b[32m━━━━━━━━━━━━━━━━━━━━\u001b[0m\u001b[37m\u001b[0m \u001b[1m29s\u001b[0m 89ms/step - accuracy: 0.5164 - loss: 0.7239 - val_accuracy: 0.6642 - val_loss: 0.7053\n",
      "Epoch 2/30\n",
      "\u001b[1m224/224\u001b[0m \u001b[32m━━━━━━━━━━━━━━━━━━━━\u001b[0m\u001b[37m\u001b[0m \u001b[1m19s\u001b[0m 82ms/step - accuracy: 0.5824 - loss: 0.7097 - val_accuracy: 0.5441 - val_loss: 0.7121\n",
      "Epoch 3/30\n",
      "\u001b[1m224/224\u001b[0m \u001b[32m━━━━━━━━━━━━━━━━━━━━\u001b[0m\u001b[37m\u001b[0m \u001b[1m19s\u001b[0m 83ms/step - accuracy: 0.6028 - loss: 0.6907 - val_accuracy: 0.6106 - val_loss: 0.6815\n",
      "Epoch 4/30\n",
      "\u001b[1m224/224\u001b[0m \u001b[32m━━━━━━━━━━━━━━━━━━━━\u001b[0m\u001b[37m\u001b[0m \u001b[1m19s\u001b[0m 84ms/step - accuracy: 0.6674 - loss: 0.6531 - val_accuracy: 0.5816 - val_loss: 0.6923\n",
      "Epoch 5/30\n",
      "\u001b[1m224/224\u001b[0m \u001b[32m━━━━━━━━━━━━━━━━━━━━\u001b[0m\u001b[37m\u001b[0m \u001b[1m18s\u001b[0m 82ms/step - accuracy: 0.7046 - loss: 0.6156 - val_accuracy: 0.6078 - val_loss: 0.6764\n",
      "Epoch 6/30\n",
      "\u001b[1m224/224\u001b[0m \u001b[32m━━━━━━━━━━━━━━━━━━━━\u001b[0m\u001b[37m\u001b[0m \u001b[1m18s\u001b[0m 82ms/step - accuracy: 0.7730 - loss: 0.5524 - val_accuracy: 0.6101 - val_loss: 0.6783\n",
      "Epoch 7/30\n",
      "\u001b[1m224/224\u001b[0m \u001b[32m━━━━━━━━━━━━━━━━━━━━\u001b[0m\u001b[37m\u001b[0m \u001b[1m18s\u001b[0m 82ms/step - accuracy: 0.8151 - loss: 0.4783 - val_accuracy: 0.5983 - val_loss: 0.7021\n",
      "Epoch 8/30\n",
      "\u001b[1m224/224\u001b[0m \u001b[32m━━━━━━━━━━━━━━━━━━━━\u001b[0m\u001b[37m\u001b[0m \u001b[1m19s\u001b[0m 82ms/step - accuracy: 0.8726 - loss: 0.3885 - val_accuracy: 0.6168 - val_loss: 0.6986\n",
      "Epoch 9/30\n",
      "\u001b[1m224/224\u001b[0m \u001b[32m━━━━━━━━━━━━━━━━━━━━\u001b[0m\u001b[37m\u001b[0m \u001b[1m19s\u001b[0m 85ms/step - accuracy: 0.9185 - loss: 0.2978 - val_accuracy: 0.6028 - val_loss: 0.7613\n"
     ]
    }
   ],
   "source": [
    "model = build_improved_cnn_model_with_features()\n",
    "\n",
    "early_stopping = EarlyStopping(monitor='val_loss', patience=4, restore_best_weights=True)\n",
    "\n",
    "history = model.fit([X_train_text, X_train_cats],\n",
    "                    y_train,\n",
    "                    validation_data=([X_val_text, X_val_cats], y_val),\n",
    "                    epochs=30,\n",
    "                    batch_size=32,\n",
    "                    class_weight=class_weights_dict,\n",
    "                    callbacks=[early_stopping])\n"
   ]
  },
  {
   "cell_type": "code",
   "execution_count": 137,
   "id": "c9c9d05b-f8aa-4d44-871b-341c2e8b554f",
   "metadata": {},
   "outputs": [
    {
     "name": "stdout",
     "output_type": "stream",
     "text": [
      "\u001b[1m56/56\u001b[0m \u001b[32m━━━━━━━━━━━━━━━━━━━━\u001b[0m\u001b[37m\u001b[0m \u001b[1m2s\u001b[0m 27ms/step\n",
      "Reporte de métricas en VALIDACIÓN:\n",
      "              precision    recall  f1-score   support\n",
      "\n",
      "           0       0.45      0.61      0.52       611\n",
      "           1       0.75      0.61      0.67      1179\n",
      "\n",
      "    accuracy                           0.61      1790\n",
      "   macro avg       0.60      0.61      0.59      1790\n",
      "weighted avg       0.65      0.61      0.62      1790\n",
      "\n"
     ]
    }
   ],
   "source": [
    "y_val_probs = model.predict([X_val_text, X_val_cats])\n",
    "y_val_pred = (y_val_probs > 0.5).astype(int)\n",
    "\n",
    "print(\"Reporte de métricas en VALIDACIÓN:\")\n",
    "print(classification_report(y_val, y_val_pred, digits=2))\n"
   ]
  },
  {
   "cell_type": "code",
   "execution_count": 151,
   "id": "7e5e2e2a-9c41-477b-9fc2-743e0f1a1052",
   "metadata": {},
   "outputs": [
    {
     "name": "stdout",
     "output_type": "stream",
     "text": [
      "\u001b[1m120/120\u001b[0m \u001b[32m━━━━━━━━━━━━━━━━━━━━\u001b[0m\u001b[37m\u001b[0m \u001b[1m2s\u001b[0m 20ms/step\n",
      "Predicciones guardadas en 'predicciones_finales_mejoradas.csv'\n"
     ]
    }
   ],
   "source": [
    "y_test_probs = model.predict([X_test_text, X_test_cats])\n",
    "y_test_pred = (y_test_probs > 0.5).astype(int)\n",
    "\n",
    "predictions = pd.DataFrame({\n",
    "    'id': test_df['id'],\n",
    "    'label': y_test_pred.flatten()\n",
    "})\n",
    "\n",
    "predictions.to_csv(\"CNN_16.csv\", index=False)\n",
    "print(\"Predicciones guardadas en 'predicciones_finales_mejoradas.csv'\")\n"
   ]
  },
  {
   "cell_type": "code",
   "execution_count": null,
   "id": "20d233bf-940b-4d58-b1e3-42107350514a",
   "metadata": {},
   "outputs": [],
   "source": []
  }
 ],
 "metadata": {
  "kernelspec": {
   "display_name": "Python [conda env:fake_news_env]",
   "language": "python",
   "name": "conda-env-fake_news_env-py"
  },
  "language_info": {
   "codemirror_mode": {
    "name": "ipython",
    "version": 3
   },
   "file_extension": ".py",
   "mimetype": "text/x-python",
   "name": "python",
   "nbconvert_exporter": "python",
   "pygments_lexer": "ipython3",
   "version": "3.10.17"
  }
 },
 "nbformat": 4,
 "nbformat_minor": 5
}
