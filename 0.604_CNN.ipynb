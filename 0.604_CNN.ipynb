{
 "cells": [
  {
   "cell_type": "code",
   "execution_count": 70,
   "id": "71a60dfb-9814-4f97-b4f2-9b4698822794",
   "metadata": {},
   "outputs": [],
   "source": [
    "import pandas as pd\n",
    "import numpy as np\n",
    "from sklearn.model_selection import train_test_split\n",
    "from sklearn.preprocessing import OneHotEncoder\n",
    "from sklearn.utils import class_weight\n",
    "from sklearn.metrics import classification_report\n",
    "\n",
    "import tensorflow as tf\n",
    "from tensorflow.keras.models import Model\n",
    "from tensorflow.keras.layers import Input, Embedding, Conv1D, GlobalMaxPooling1D, Dense, Dropout, Concatenate\n",
    "from tensorflow.keras.preprocessing.text import Tokenizer\n",
    "from tensorflow.keras.preprocessing.sequence import pad_sequences\n",
    "from tensorflow.keras.optimizers import Adam\n",
    "from tensorflow.keras.callbacks import EarlyStopping\n",
    "from tensorflow.keras.regularizers import l2\n",
    "\n"
   ]
  },
  {
   "cell_type": "code",
   "execution_count": 74,
   "id": "20f380d3-3d0a-4d0a-8c61-760402834cc8",
   "metadata": {},
   "outputs": [],
   "source": [
    "train_df = pd.read_csv(r\"C:\\Users\\Day\\Documents\\LBBYs_CH2-ana\\LBBYs_CH2-ana\\data\\processed\\train_limpieza_v1.csv\")\n",
    "test_df = pd.read_csv(r\"C:\\Users\\Day\\Documents\\LBBYs_CH2-ana\\LBBYs_CH2-ana\\data\\processed\\test_limpieza_v1.csv\")\n"
   ]
  },
  {
   "cell_type": "code",
   "execution_count": 76,
   "id": "842bc200-7c94-47fa-b20e-cfb045e92192",
   "metadata": {},
   "outputs": [],
   "source": [
    "MAX_VOCAB = 20000\n",
    "MAX_LEN = 100\n",
    "EMBEDDING_DIM = 100\n",
    "\n",
    "tokenizer = Tokenizer(num_words=MAX_VOCAB)\n",
    "tokenizer.fit_on_texts(train_df['statement'])\n",
    "\n",
    "X_train_text = tokenizer.texts_to_sequences(train_df['statement'])\n",
    "X_train_text = pad_sequences(X_train_text, maxlen=MAX_LEN)\n",
    "\n",
    "X_test_text = tokenizer.texts_to_sequences(test_df['statement'])\n",
    "X_test_text = pad_sequences(X_test_text, maxlen=MAX_LEN)\n"
   ]
  },
  {
   "cell_type": "code",
   "execution_count": 78,
   "id": "db9e4297-3b23-46b2-8991-3ff69e303ec5",
   "metadata": {},
   "outputs": [],
   "source": [
    "cat_columns = ['subject', 'speaker', 'party_affiliation_category_map']\n",
    "encoder = OneHotEncoder(handle_unknown='ignore', sparse_output=False)\n",
    "\n",
    "X_train_cats = encoder.fit_transform(train_df[cat_columns])\n",
    "X_test_cats = encoder.transform(test_df[cat_columns])\n"
   ]
  },
  {
   "cell_type": "code",
   "execution_count": 80,
   "id": "770b3585-d752-4f2c-8ba0-31fcca4a213c",
   "metadata": {},
   "outputs": [],
   "source": [
    "X_train_text, X_val_text, X_train_cats, X_val_cats, y_train, y_val = train_test_split(\n",
    "    X_train_text, X_train_cats, train_df['label'], test_size=0.2, random_state=42)\n"
   ]
  },
  {
   "cell_type": "code",
   "execution_count": 82,
   "id": "3de6b863-d69d-4d4c-9cbe-02e7aa41f6bf",
   "metadata": {},
   "outputs": [],
   "source": [
    "class_weights_array = class_weight.compute_class_weight(class_weight='balanced', classes=np.unique(y_train), y=y_train)\n",
    "class_weights_dict = dict(enumerate(class_weights_array))\n"
   ]
  },
  {
   "cell_type": "code",
   "execution_count": 84,
   "id": "8ae23ec0-b965-4d51-8914-38420e6967f1",
   "metadata": {},
   "outputs": [],
   "source": [
    "def build_improved_cnn_model_with_features():\n",
    "    input_text = Input(shape=(MAX_LEN,), name='text_input')\n",
    "    x = Embedding(input_dim=MAX_VOCAB, output_dim=EMBEDDING_DIM, embeddings_regularizer=l2(1e-6))(input_text)\n",
    "\n",
    "    convs = []\n",
    "    for size in [3, 4, 5]:\n",
    "        c = Conv1D(256, size, activation='relu')(x)\n",
    "        c = GlobalMaxPooling1D()(c)\n",
    "        convs.append(c)\n",
    "    x_text = Concatenate()(convs)\n",
    "    x_text = Dropout(0.5)(x_text)\n",
    "\n",
    "    input_cats = Input(shape=(X_train_cats.shape[1],), name='cats_input')\n",
    "    x_cats = Dense(64, activation='relu', kernel_regularizer=l2(1e-4))(input_cats)\n",
    "    x_cats = Dropout(0.3)(x_cats)\n",
    "\n",
    "    x = Concatenate()([x_text, x_cats])\n",
    "    x = Dense(128, activation='relu', kernel_regularizer=l2(1e-4))(x)\n",
    "    x = Dropout(0.5)(x)\n",
    "    output = Dense(1, activation='sigmoid')(x)\n",
    "\n",
    "    model = Model(inputs=[input_text, input_cats], outputs=output)\n",
    "    model.compile(optimizer=Adam(learning_rate=1e-4), loss='binary_crossentropy', metrics=['accuracy'])\n",
    "    return model\n"
   ]
  },
  {
   "cell_type": "code",
   "execution_count": 86,
   "id": "94a1b5d4-51bb-43f6-8e38-fc7d2b31989b",
   "metadata": {},
   "outputs": [
    {
     "name": "stdout",
     "output_type": "stream",
     "text": [
      "Epoch 1/30\n",
      "\u001b[1m224/224\u001b[0m \u001b[32m━━━━━━━━━━━━━━━━━━━━\u001b[0m\u001b[37m\u001b[0m \u001b[1m25s\u001b[0m 92ms/step - accuracy: 0.4654 - loss: 0.7288 - val_accuracy: 0.6067 - val_loss: 0.7157\n",
      "Epoch 2/30\n",
      "\u001b[1m224/224\u001b[0m \u001b[32m━━━━━━━━━━━━━━━━━━━━\u001b[0m\u001b[37m\u001b[0m \u001b[1m41s\u001b[0m 93ms/step - accuracy: 0.5162 - loss: 0.7147 - val_accuracy: 0.5028 - val_loss: 0.7168\n",
      "Epoch 3/30\n",
      "\u001b[1m224/224\u001b[0m \u001b[32m━━━━━━━━━━━━━━━━━━━━\u001b[0m\u001b[37m\u001b[0m \u001b[1m40s\u001b[0m 89ms/step - accuracy: 0.5756 - loss: 0.7059 - val_accuracy: 0.4453 - val_loss: 0.7260\n",
      "Epoch 4/30\n",
      "\u001b[1m224/224\u001b[0m \u001b[32m━━━━━━━━━━━━━━━━━━━━\u001b[0m\u001b[37m\u001b[0m \u001b[1m20s\u001b[0m 89ms/step - accuracy: 0.5975 - loss: 0.6915 - val_accuracy: 0.6352 - val_loss: 0.6812\n",
      "Epoch 5/30\n",
      "\u001b[1m224/224\u001b[0m \u001b[32m━━━━━━━━━━━━━━━━━━━━\u001b[0m\u001b[37m\u001b[0m \u001b[1m20s\u001b[0m 88ms/step - accuracy: 0.6752 - loss: 0.6613 - val_accuracy: 0.6128 - val_loss: 0.6754\n",
      "Epoch 6/30\n",
      "\u001b[1m224/224\u001b[0m \u001b[32m━━━━━━━━━━━━━━━━━━━━\u001b[0m\u001b[37m\u001b[0m \u001b[1m19s\u001b[0m 86ms/step - accuracy: 0.7435 - loss: 0.5979 - val_accuracy: 0.6089 - val_loss: 0.6726\n",
      "Epoch 7/30\n",
      "\u001b[1m224/224\u001b[0m \u001b[32m━━━━━━━━━━━━━━━━━━━━\u001b[0m\u001b[37m\u001b[0m \u001b[1m20s\u001b[0m 88ms/step - accuracy: 0.7994 - loss: 0.5252 - val_accuracy: 0.6000 - val_loss: 0.6843\n",
      "Epoch 8/30\n",
      "\u001b[1m224/224\u001b[0m \u001b[32m━━━━━━━━━━━━━━━━━━━━\u001b[0m\u001b[37m\u001b[0m \u001b[1m20s\u001b[0m 90ms/step - accuracy: 0.8623 - loss: 0.4238 - val_accuracy: 0.6084 - val_loss: 0.7112\n",
      "Epoch 9/30\n",
      "\u001b[1m224/224\u001b[0m \u001b[32m━━━━━━━━━━━━━━━━━━━━\u001b[0m\u001b[37m\u001b[0m \u001b[1m19s\u001b[0m 87ms/step - accuracy: 0.9051 - loss: 0.3286 - val_accuracy: 0.6078 - val_loss: 0.7458\n",
      "Epoch 10/30\n",
      "\u001b[1m224/224\u001b[0m \u001b[32m━━━━━━━━━━━━━━━━━━━━\u001b[0m\u001b[37m\u001b[0m \u001b[1m19s\u001b[0m 87ms/step - accuracy: 0.9310 - loss: 0.2545 - val_accuracy: 0.6117 - val_loss: 0.8011\n"
     ]
    }
   ],
   "source": [
    "model = build_improved_cnn_model_with_features()\n",
    "\n",
    "early_stopping = EarlyStopping(monitor='val_loss', patience=4, restore_best_weights=True)\n",
    "\n",
    "history = model.fit([X_train_text, X_train_cats],\n",
    "                    y_train,\n",
    "                    validation_data=([X_val_text, X_val_cats], y_val),\n",
    "                    epochs=30,\n",
    "                    batch_size=32,\n",
    "                    class_weight=class_weights_dict,\n",
    "                    callbacks=[early_stopping])\n"
   ]
  },
  {
   "cell_type": "code",
   "execution_count": 88,
   "id": "c9c9d05b-f8aa-4d44-871b-341c2e8b554f",
   "metadata": {},
   "outputs": [
    {
     "name": "stdout",
     "output_type": "stream",
     "text": [
      "\u001b[1m56/56\u001b[0m \u001b[32m━━━━━━━━━━━━━━━━━━━━\u001b[0m\u001b[37m\u001b[0m \u001b[1m1s\u001b[0m 20ms/step\n",
      "Reporte de métricas en VALIDACIÓN:\n",
      "              precision    recall  f1-score   support\n",
      "\n",
      "           0       0.44      0.54      0.49       611\n",
      "           1       0.73      0.64      0.68      1179\n",
      "\n",
      "    accuracy                           0.61      1790\n",
      "   macro avg       0.59      0.59      0.59      1790\n",
      "weighted avg       0.63      0.61      0.62      1790\n",
      "\n"
     ]
    }
   ],
   "source": [
    "y_val_probs = model.predict([X_val_text, X_val_cats])\n",
    "y_val_pred = (y_val_probs > 0.5).astype(int)\n",
    "\n",
    "print(\"Reporte de métricas en VALIDACIÓN:\")\n",
    "print(classification_report(y_val, y_val_pred, digits=2))\n"
   ]
  },
  {
   "cell_type": "code",
   "execution_count": 92,
   "id": "7e5e2e2a-9c41-477b-9fc2-743e0f1a1052",
   "metadata": {},
   "outputs": [
    {
     "name": "stdout",
     "output_type": "stream",
     "text": [
      "\u001b[1m120/120\u001b[0m \u001b[32m━━━━━━━━━━━━━━━━━━━━\u001b[0m\u001b[37m\u001b[0m \u001b[1m2s\u001b[0m 17ms/step\n",
      "Predicciones guardadas en 'predicciones_finales_mejoradas.csv'\n"
     ]
    }
   ],
   "source": [
    "y_test_probs = model.predict([X_test_text, X_test_cats])\n",
    "y_test_pred = (y_test_probs > 0.5).astype(int)\n",
    "\n",
    "predictions = pd.DataFrame({\n",
    "    'id': test_df['id'],\n",
    "    'label': y_test_pred.flatten()\n",
    "})\n",
    "\n",
    "predictions.to_csv(\"CNN_05.csv\", index=False)\n",
    "print(\"Predicciones guardadas en 'predicciones_finales_mejoradas.csv'\")\n"
   ]
  },
  {
   "cell_type": "code",
   "execution_count": null,
   "id": "20d233bf-940b-4d58-b1e3-42107350514a",
   "metadata": {},
   "outputs": [],
   "source": []
  }
 ],
 "metadata": {
  "kernelspec": {
   "display_name": "Python [conda env:fake_news_env]",
   "language": "python",
   "name": "conda-env-fake_news_env-py"
  },
  "language_info": {
   "codemirror_mode": {
    "name": "ipython",
    "version": 3
   },
   "file_extension": ".py",
   "mimetype": "text/x-python",
   "name": "python",
   "nbconvert_exporter": "python",
   "pygments_lexer": "ipython3",
   "version": "3.10.16"
  }
 },
 "nbformat": 4,
 "nbformat_minor": 5
}
