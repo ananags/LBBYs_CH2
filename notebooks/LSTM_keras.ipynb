{
 "cells": [
  {
   "cell_type": "markdown",
   "id": "459fdae1",
   "metadata": {},
   "source": [
    "# LSTM"
   ]
  },
  {
   "cell_type": "markdown",
   "id": "8d7ac58c",
   "metadata": {},
   "source": [
    "Las redes neuronales LSTM están cambiando el aprendizaje profundo. Destacan en procesamiento de lenguaje, predicción temporal y reconocimiento de voz.\n",
    "\n",
    "Las redes LSTM son un tipo especial de redes neuronales recurrentes. Procesan secuencias de datos y modelan el lenguaje. Capturan dependencias a largo plazo en los datos."
   ]
  },
  {
   "cell_type": "markdown",
   "id": "19cb9e14",
   "metadata": {},
   "source": [
    "## Definición y findamentos\n",
    "\n",
    "Una red LSTM tiene celdas de memoria que guardan información. Cada celda contiene tres puertas: entrada, olvido y salida. Estas puertas controlan el flujo de datos en la celda.\n",
    "\n",
    "La red aprende qué información es importante. Decide qué datos conservar y cuáles descartar. Este proceso mejora su rendimiento en tareas complejas."
   ]
  },
  {
   "cell_type": "markdown",
   "id": "6fb4398a",
   "metadata": {},
   "source": [
    "## Procesamiento del lenguaje natural\n",
    "\n",
    "Las LSTM destacan en el procesamiento del lenguaje natural. Se usan para generar texto coherente y relevante. También son útiles en el modelado del lenguaje.\n",
    "\n",
    "En el análisis de sentimientos, las LSTM examinan textos para detectar emociones. Esto es muy valioso para estudios de mercado y atención al cliente."
   ]
  },
  {
   "cell_type": "code",
   "execution_count": 14,
   "id": "88e8eb5d",
   "metadata": {},
   "outputs": [],
   "source": [
    "import pandas as pd\n",
    "import numpy as np\n",
    "import re\n",
    "import datetime\n",
    "import matplotlib.pyplot as plt\n",
    "\n",
    "from sklearn.model_selection import train_test_split\n",
    "from sklearn.preprocessing import LabelEncoder\n",
    "from sklearn.metrics import classification_report\n",
    "from sklearn.utils.class_weight import compute_class_weight\n",
    "\n",
    "from tensorflow.keras.preprocessing.text import Tokenizer\n",
    "from tensorflow.keras.preprocessing.sequence import pad_sequences\n",
    "from tensorflow.keras.models import Sequential\n",
    "from tensorflow.keras.layers import Embedding, LSTM, Dense, Dropout\n",
    "from tensorflow.keras.callbacks import EarlyStopping"
   ]
  },
  {
   "cell_type": "code",
   "execution_count": 15,
   "id": "4db23ea7",
   "metadata": {},
   "outputs": [],
   "source": [
    "# Cargar y limpiar datos\n",
    "df = pd.read_csv('../data/train_preprocess_v1.csv')\n",
    "df = df[['statement', 'party_affiliation', 'speaker', 'subject', 'label']].dropna()"
   ]
  },
  {
   "cell_type": "markdown",
   "id": "1d7fbd6c",
   "metadata": {},
   "source": [
    "Tokenizer es una utilidad de Keras que convierte texto en secuencias numéricas.\n",
    "\n",
    "- num_words=10000: solo mantendrá las 10.000 palabras más frecuentes.\n",
    "\n",
    "- oov_token=\"OOV\": las palabras que no estén en el vocabulario serán reemplazadas por el token especial OOV (\"Out Of Vocabulary\")."
   ]
  },
  {
   "cell_type": "markdown",
   "id": "5a7e745a",
   "metadata": {},
   "source": [
    "Creamos el vocabulario a partir de la columna statement del dataframe y asignamos un índice único a cada palabra según su frecuencia."
   ]
  },
  {
   "cell_type": "markdown",
   "id": "1a08ef41",
   "metadata": {},
   "source": [
    "'seqs' convierte cada frase en una lista de enteros: cada palabra se reemplaza por su índice en el vocabulario."
   ]
  },
  {
   "cell_type": "markdown",
   "id": "eeaa6335",
   "metadata": {},
   "source": [
    "'max_len' se utiliza para rellenar o recortar todas las secuencias para que tengan longitud fija de 100 tokens (para poder entrenar una red neuronal que espera entradas de tamaño fijo)."
   ]
  },
  {
   "cell_type": "markdown",
   "id": "7d8feddb",
   "metadata": {},
   "source": [
    "Después creamos tres codificadores (LabelEnccoder) para convertir texto categórico en números. Y juntamos los 3 vectores categóricos en una única matrix de forma (n_samples, 3)"
   ]
  },
  {
   "cell_type": "code",
   "execution_count": 34,
   "id": "9086095d",
   "metadata": {},
   "outputs": [],
   "source": [
    "# Texto\n",
    "tokenizer = Tokenizer(num_words=10000, oov_token=\"<OOV>\")\n",
    "tokenizer.fit_on_texts(df['statement'])\n",
    "seqs = tokenizer.texts_to_sequences(df['statement'])\n",
    "max_len = 100\n",
    "X_text = pad_sequences(seqs, maxlen=max_len)\n",
    "\n",
    "# Categóricos\n",
    "le_party = LabelEncoder()\n",
    "le_speaker = LabelEncoder()\n",
    "le_subject = LabelEncoder()\n",
    "\n",
    "X_party = le_party.fit_transform(df['party_affiliation'].fillna(\"Unknown\"))\n",
    "X_speaker = le_speaker.fit_transform(df['speaker'].fillna(\"Unknown\"))\n",
    "X_subject = le_subject.fit_transform(df['subject'].fillna(\"Unknown\"))\n",
    "\n",
    "# Juntar los categóricos en una matriz\n",
    "X_cat = np.stack([X_party, X_speaker, X_subject], axis=1)"
   ]
  },
  {
   "cell_type": "code",
   "execution_count": 35,
   "id": "7bbfed78",
   "metadata": {},
   "outputs": [],
   "source": [
    "# Codificar etiquetas\n",
    "label_encoder = LabelEncoder()\n",
    "y = label_encoder.fit_transform(df['label'])"
   ]
  },
  {
   "cell_type": "markdown",
   "id": "5a8d3671",
   "metadata": {},
   "source": [
    "Dividimos el dataset en 80% entrenamiento y 20% test.\n",
    "\n",
    "Datos clave:\n",
    "- stratify=y: asegura que la proporción de clases (falsas/verdaderas) se mantenga igual en los conjuntos de entrenamiento y test.\n",
    "\n",
    "- random_state=42: fija una semilla para que la partición sea reproducible."
   ]
  },
  {
   "cell_type": "code",
   "execution_count": 36,
   "id": "5a24ea64",
   "metadata": {},
   "outputs": [],
   "source": [
    "# División en train/test\n",
    "from sklearn.model_selection import train_test_split\n",
    "\n",
    "X_text_train, X_text_test, X_cat_train, X_cat_test, y_train, y_test = train_test_split(\n",
    "    X_text, X_cat, y, test_size=0.2, stratify=y, random_state=42\n",
    ")"
   ]
  },
  {
   "cell_type": "markdown",
   "id": "d6fa3c69",
   "metadata": {},
   "source": [
    "## Definición del modelo LSTM"
   ]
  },
  {
   "cell_type": "markdown",
   "id": "a502bce5",
   "metadata": {},
   "source": [
    "A continuación se define un modelo multientrada en Keras que combina texto (con LSTM) y variables categóricas.\n",
    "\n",
    "En este modelo la capa de embedding convierte índices de palabras en vectores densos de tamaño 128 y se utiliza una LSTM que extrae representaciones de contexto del texto con 64 unidades ocultas.\n",
    "\n",
    "Se define también la entrada con 3 características categóricas ya codificadas y la capa densa para procesar estas variables."
   ]
  },
  {
   "cell_type": "code",
   "execution_count": 37,
   "id": "141ea7a3",
   "metadata": {},
   "outputs": [],
   "source": [
    "from tensorflow.keras.models import Model\n",
    "from tensorflow.keras.layers import Input, Embedding, LSTM, Dense, Dropout, Concatenate\n",
    "\n",
    "# Input 1: texto\n",
    "text_input = Input(shape=(max_len,), name=\"text_input\")\n",
    "x = Embedding(input_dim=10000, output_dim=128)(text_input)\n",
    "x = LSTM(64)(x)\n",
    "\n",
    "# Input 2: categóricos\n",
    "meta_input = Input(shape=(3,), name=\"meta_input\")\n",
    "y = Dense(32, activation='relu')(meta_input)\n"
   ]
  },
  {
   "cell_type": "markdown",
   "id": "52c234d5",
   "metadata": {},
   "source": [
    "Posteriormente juntamos la representación del texto con la de los metadatos, regularizamos la red para evitar overfitting, definimos la capa oculta intermedia y la capa de salida binaria y compilamos el modelo"
   ]
  },
  {
   "cell_type": "code",
   "execution_count": 38,
   "id": "c2851441",
   "metadata": {},
   "outputs": [
    {
     "data": {
      "text/html": [
       "<pre style=\"white-space:pre;overflow-x:auto;line-height:normal;font-family:Menlo,'DejaVu Sans Mono',consolas,'Courier New',monospace\"><span style=\"font-weight: bold\">Model: \"functional_3\"</span>\n",
       "</pre>\n"
      ],
      "text/plain": [
       "\u001b[1mModel: \"functional_3\"\u001b[0m\n"
      ]
     },
     "metadata": {},
     "output_type": "display_data"
    },
    {
     "data": {
      "text/html": [
       "<pre style=\"white-space:pre;overflow-x:auto;line-height:normal;font-family:Menlo,'DejaVu Sans Mono',consolas,'Courier New',monospace\">┏━━━━━━━━━━━━━━━━━━━━━┳━━━━━━━━━━━━━━━━━━━┳━━━━━━━━━━━━┳━━━━━━━━━━━━━━━━━━━┓\n",
       "┃<span style=\"font-weight: bold\"> Layer (type)        </span>┃<span style=\"font-weight: bold\"> Output Shape      </span>┃<span style=\"font-weight: bold\">    Param # </span>┃<span style=\"font-weight: bold\"> Connected to      </span>┃\n",
       "┡━━━━━━━━━━━━━━━━━━━━━╇━━━━━━━━━━━━━━━━━━━╇━━━━━━━━━━━━╇━━━━━━━━━━━━━━━━━━━┩\n",
       "│ text_input          │ (<span style=\"color: #00d7ff; text-decoration-color: #00d7ff\">None</span>, <span style=\"color: #00af00; text-decoration-color: #00af00\">100</span>)       │          <span style=\"color: #00af00; text-decoration-color: #00af00\">0</span> │ -                 │\n",
       "│ (<span style=\"color: #0087ff; text-decoration-color: #0087ff\">InputLayer</span>)        │                   │            │                   │\n",
       "├─────────────────────┼───────────────────┼────────────┼───────────────────┤\n",
       "│ embedding_3         │ (<span style=\"color: #00d7ff; text-decoration-color: #00d7ff\">None</span>, <span style=\"color: #00af00; text-decoration-color: #00af00\">100</span>, <span style=\"color: #00af00; text-decoration-color: #00af00\">128</span>)  │  <span style=\"color: #00af00; text-decoration-color: #00af00\">1,280,000</span> │ text_input[<span style=\"color: #00af00; text-decoration-color: #00af00\">0</span>][<span style=\"color: #00af00; text-decoration-color: #00af00\">0</span>]  │\n",
       "│ (<span style=\"color: #0087ff; text-decoration-color: #0087ff\">Embedding</span>)         │                   │            │                   │\n",
       "├─────────────────────┼───────────────────┼────────────┼───────────────────┤\n",
       "│ meta_input          │ (<span style=\"color: #00d7ff; text-decoration-color: #00d7ff\">None</span>, <span style=\"color: #00af00; text-decoration-color: #00af00\">3</span>)         │          <span style=\"color: #00af00; text-decoration-color: #00af00\">0</span> │ -                 │\n",
       "│ (<span style=\"color: #0087ff; text-decoration-color: #0087ff\">InputLayer</span>)        │                   │            │                   │\n",
       "├─────────────────────┼───────────────────┼────────────┼───────────────────┤\n",
       "│ lstm_3 (<span style=\"color: #0087ff; text-decoration-color: #0087ff\">LSTM</span>)       │ (<span style=\"color: #00d7ff; text-decoration-color: #00d7ff\">None</span>, <span style=\"color: #00af00; text-decoration-color: #00af00\">64</span>)        │     <span style=\"color: #00af00; text-decoration-color: #00af00\">49,408</span> │ embedding_3[<span style=\"color: #00af00; text-decoration-color: #00af00\">0</span>][<span style=\"color: #00af00; text-decoration-color: #00af00\">0</span>] │\n",
       "├─────────────────────┼───────────────────┼────────────┼───────────────────┤\n",
       "│ dense_9 (<span style=\"color: #0087ff; text-decoration-color: #0087ff\">Dense</span>)     │ (<span style=\"color: #00d7ff; text-decoration-color: #00d7ff\">None</span>, <span style=\"color: #00af00; text-decoration-color: #00af00\">32</span>)        │        <span style=\"color: #00af00; text-decoration-color: #00af00\">128</span> │ meta_input[<span style=\"color: #00af00; text-decoration-color: #00af00\">0</span>][<span style=\"color: #00af00; text-decoration-color: #00af00\">0</span>]  │\n",
       "├─────────────────────┼───────────────────┼────────────┼───────────────────┤\n",
       "│ concatenate_3       │ (<span style=\"color: #00d7ff; text-decoration-color: #00d7ff\">None</span>, <span style=\"color: #00af00; text-decoration-color: #00af00\">96</span>)        │          <span style=\"color: #00af00; text-decoration-color: #00af00\">0</span> │ lstm_3[<span style=\"color: #00af00; text-decoration-color: #00af00\">0</span>][<span style=\"color: #00af00; text-decoration-color: #00af00\">0</span>],     │\n",
       "│ (<span style=\"color: #0087ff; text-decoration-color: #0087ff\">Concatenate</span>)       │                   │            │ dense_9[<span style=\"color: #00af00; text-decoration-color: #00af00\">0</span>][<span style=\"color: #00af00; text-decoration-color: #00af00\">0</span>]     │\n",
       "├─────────────────────┼───────────────────┼────────────┼───────────────────┤\n",
       "│ dropout_3 (<span style=\"color: #0087ff; text-decoration-color: #0087ff\">Dropout</span>) │ (<span style=\"color: #00d7ff; text-decoration-color: #00d7ff\">None</span>, <span style=\"color: #00af00; text-decoration-color: #00af00\">96</span>)        │          <span style=\"color: #00af00; text-decoration-color: #00af00\">0</span> │ concatenate_3[<span style=\"color: #00af00; text-decoration-color: #00af00\">0</span>]… │\n",
       "├─────────────────────┼───────────────────┼────────────┼───────────────────┤\n",
       "│ dense_10 (<span style=\"color: #0087ff; text-decoration-color: #0087ff\">Dense</span>)    │ (<span style=\"color: #00d7ff; text-decoration-color: #00d7ff\">None</span>, <span style=\"color: #00af00; text-decoration-color: #00af00\">32</span>)        │      <span style=\"color: #00af00; text-decoration-color: #00af00\">3,104</span> │ dropout_3[<span style=\"color: #00af00; text-decoration-color: #00af00\">0</span>][<span style=\"color: #00af00; text-decoration-color: #00af00\">0</span>]   │\n",
       "├─────────────────────┼───────────────────┼────────────┼───────────────────┤\n",
       "│ dense_11 (<span style=\"color: #0087ff; text-decoration-color: #0087ff\">Dense</span>)    │ (<span style=\"color: #00d7ff; text-decoration-color: #00d7ff\">None</span>, <span style=\"color: #00af00; text-decoration-color: #00af00\">1</span>)         │         <span style=\"color: #00af00; text-decoration-color: #00af00\">33</span> │ dense_10[<span style=\"color: #00af00; text-decoration-color: #00af00\">0</span>][<span style=\"color: #00af00; text-decoration-color: #00af00\">0</span>]    │\n",
       "└─────────────────────┴───────────────────┴────────────┴───────────────────┘\n",
       "</pre>\n"
      ],
      "text/plain": [
       "┏━━━━━━━━━━━━━━━━━━━━━┳━━━━━━━━━━━━━━━━━━━┳━━━━━━━━━━━━┳━━━━━━━━━━━━━━━━━━━┓\n",
       "┃\u001b[1m \u001b[0m\u001b[1mLayer (type)       \u001b[0m\u001b[1m \u001b[0m┃\u001b[1m \u001b[0m\u001b[1mOutput Shape     \u001b[0m\u001b[1m \u001b[0m┃\u001b[1m \u001b[0m\u001b[1m   Param #\u001b[0m\u001b[1m \u001b[0m┃\u001b[1m \u001b[0m\u001b[1mConnected to     \u001b[0m\u001b[1m \u001b[0m┃\n",
       "┡━━━━━━━━━━━━━━━━━━━━━╇━━━━━━━━━━━━━━━━━━━╇━━━━━━━━━━━━╇━━━━━━━━━━━━━━━━━━━┩\n",
       "│ text_input          │ (\u001b[38;5;45mNone\u001b[0m, \u001b[38;5;34m100\u001b[0m)       │          \u001b[38;5;34m0\u001b[0m │ -                 │\n",
       "│ (\u001b[38;5;33mInputLayer\u001b[0m)        │                   │            │                   │\n",
       "├─────────────────────┼───────────────────┼────────────┼───────────────────┤\n",
       "│ embedding_3         │ (\u001b[38;5;45mNone\u001b[0m, \u001b[38;5;34m100\u001b[0m, \u001b[38;5;34m128\u001b[0m)  │  \u001b[38;5;34m1,280,000\u001b[0m │ text_input[\u001b[38;5;34m0\u001b[0m][\u001b[38;5;34m0\u001b[0m]  │\n",
       "│ (\u001b[38;5;33mEmbedding\u001b[0m)         │                   │            │                   │\n",
       "├─────────────────────┼───────────────────┼────────────┼───────────────────┤\n",
       "│ meta_input          │ (\u001b[38;5;45mNone\u001b[0m, \u001b[38;5;34m3\u001b[0m)         │          \u001b[38;5;34m0\u001b[0m │ -                 │\n",
       "│ (\u001b[38;5;33mInputLayer\u001b[0m)        │                   │            │                   │\n",
       "├─────────────────────┼───────────────────┼────────────┼───────────────────┤\n",
       "│ lstm_3 (\u001b[38;5;33mLSTM\u001b[0m)       │ (\u001b[38;5;45mNone\u001b[0m, \u001b[38;5;34m64\u001b[0m)        │     \u001b[38;5;34m49,408\u001b[0m │ embedding_3[\u001b[38;5;34m0\u001b[0m][\u001b[38;5;34m0\u001b[0m] │\n",
       "├─────────────────────┼───────────────────┼────────────┼───────────────────┤\n",
       "│ dense_9 (\u001b[38;5;33mDense\u001b[0m)     │ (\u001b[38;5;45mNone\u001b[0m, \u001b[38;5;34m32\u001b[0m)        │        \u001b[38;5;34m128\u001b[0m │ meta_input[\u001b[38;5;34m0\u001b[0m][\u001b[38;5;34m0\u001b[0m]  │\n",
       "├─────────────────────┼───────────────────┼────────────┼───────────────────┤\n",
       "│ concatenate_3       │ (\u001b[38;5;45mNone\u001b[0m, \u001b[38;5;34m96\u001b[0m)        │          \u001b[38;5;34m0\u001b[0m │ lstm_3[\u001b[38;5;34m0\u001b[0m][\u001b[38;5;34m0\u001b[0m],     │\n",
       "│ (\u001b[38;5;33mConcatenate\u001b[0m)       │                   │            │ dense_9[\u001b[38;5;34m0\u001b[0m][\u001b[38;5;34m0\u001b[0m]     │\n",
       "├─────────────────────┼───────────────────┼────────────┼───────────────────┤\n",
       "│ dropout_3 (\u001b[38;5;33mDropout\u001b[0m) │ (\u001b[38;5;45mNone\u001b[0m, \u001b[38;5;34m96\u001b[0m)        │          \u001b[38;5;34m0\u001b[0m │ concatenate_3[\u001b[38;5;34m0\u001b[0m]… │\n",
       "├─────────────────────┼───────────────────┼────────────┼───────────────────┤\n",
       "│ dense_10 (\u001b[38;5;33mDense\u001b[0m)    │ (\u001b[38;5;45mNone\u001b[0m, \u001b[38;5;34m32\u001b[0m)        │      \u001b[38;5;34m3,104\u001b[0m │ dropout_3[\u001b[38;5;34m0\u001b[0m][\u001b[38;5;34m0\u001b[0m]   │\n",
       "├─────────────────────┼───────────────────┼────────────┼───────────────────┤\n",
       "│ dense_11 (\u001b[38;5;33mDense\u001b[0m)    │ (\u001b[38;5;45mNone\u001b[0m, \u001b[38;5;34m1\u001b[0m)         │         \u001b[38;5;34m33\u001b[0m │ dense_10[\u001b[38;5;34m0\u001b[0m][\u001b[38;5;34m0\u001b[0m]    │\n",
       "└─────────────────────┴───────────────────┴────────────┴───────────────────┘\n"
      ]
     },
     "metadata": {},
     "output_type": "display_data"
    },
    {
     "data": {
      "text/html": [
       "<pre style=\"white-space:pre;overflow-x:auto;line-height:normal;font-family:Menlo,'DejaVu Sans Mono',consolas,'Courier New',monospace\"><span style=\"font-weight: bold\"> Total params: </span><span style=\"color: #00af00; text-decoration-color: #00af00\">1,332,673</span> (5.08 MB)\n",
       "</pre>\n"
      ],
      "text/plain": [
       "\u001b[1m Total params: \u001b[0m\u001b[38;5;34m1,332,673\u001b[0m (5.08 MB)\n"
      ]
     },
     "metadata": {},
     "output_type": "display_data"
    },
    {
     "data": {
      "text/html": [
       "<pre style=\"white-space:pre;overflow-x:auto;line-height:normal;font-family:Menlo,'DejaVu Sans Mono',consolas,'Courier New',monospace\"><span style=\"font-weight: bold\"> Trainable params: </span><span style=\"color: #00af00; text-decoration-color: #00af00\">1,332,673</span> (5.08 MB)\n",
       "</pre>\n"
      ],
      "text/plain": [
       "\u001b[1m Trainable params: \u001b[0m\u001b[38;5;34m1,332,673\u001b[0m (5.08 MB)\n"
      ]
     },
     "metadata": {},
     "output_type": "display_data"
    },
    {
     "data": {
      "text/html": [
       "<pre style=\"white-space:pre;overflow-x:auto;line-height:normal;font-family:Menlo,'DejaVu Sans Mono',consolas,'Courier New',monospace\"><span style=\"font-weight: bold\"> Non-trainable params: </span><span style=\"color: #00af00; text-decoration-color: #00af00\">0</span> (0.00 B)\n",
       "</pre>\n"
      ],
      "text/plain": [
       "\u001b[1m Non-trainable params: \u001b[0m\u001b[38;5;34m0\u001b[0m (0.00 B)\n"
      ]
     },
     "metadata": {},
     "output_type": "display_data"
    }
   ],
   "source": [
    "# Fusionar y seguir\n",
    "combined = Concatenate()([x, y])\n",
    "z = Dropout(0.5)(combined)\n",
    "z = Dense(32, activation='relu')(z)\n",
    "output = Dense(1, activation='sigmoid')(z)\n",
    "\n",
    "model = Model(inputs=[text_input, meta_input], outputs=output)\n",
    "model.compile(loss='binary_crossentropy', optimizer='adam', metrics=['accuracy'])\n",
    "model.summary()"
   ]
  },
  {
   "cell_type": "markdown",
   "id": "d3029bd6",
   "metadata": {},
   "source": [
    "## Entrenamiento del modelo"
   ]
  },
  {
   "cell_type": "markdown",
   "id": "6d9d8a70",
   "metadata": {},
   "source": [
    "Con 'EarlyStopping'"
   ]
  },
  {
   "cell_type": "markdown",
   "id": "ef11fb78",
   "metadata": {},
   "source": [
    "- compute_class_weight calcula pesos para que las clases minoritarias tengan más importancia.\n",
    "\n",
    "- Esto es útil si, por ejemplo, hay muchas más afirmaciones verdaderas que falsas (o viceversa).\n",
    "\n",
    "- Se convierte a dict porque Keras espera un diccionario como {0: peso0, 1: peso1}."
   ]
  },
  {
   "cell_type": "code",
   "execution_count": 43,
   "id": "2a97ed8d",
   "metadata": {},
   "outputs": [
    {
     "name": "stdout",
     "output_type": "stream",
     "text": [
      "Epoch 1/10\n",
      "\u001b[1m202/202\u001b[0m \u001b[32m━━━━━━━━━━━━━━━━━━━━\u001b[0m\u001b[37m\u001b[0m \u001b[1m6s\u001b[0m 31ms/step - accuracy: 0.5337 - loss: 6.2777 - val_accuracy: 0.6215 - val_loss: 1.5328\n",
      "Epoch 2/10\n",
      "\u001b[1m202/202\u001b[0m \u001b[32m━━━━━━━━━━━━━━━━━━━━\u001b[0m\u001b[37m\u001b[0m \u001b[1m6s\u001b[0m 28ms/step - accuracy: 0.6241 - loss: 2.4629 - val_accuracy: 0.5168 - val_loss: 1.9617\n",
      "Epoch 3/10\n",
      "\u001b[1m202/202\u001b[0m \u001b[32m━━━━━━━━━━━━━━━━━━━━\u001b[0m\u001b[37m\u001b[0m \u001b[1m6s\u001b[0m 27ms/step - accuracy: 0.7124 - loss: 1.3443 - val_accuracy: 0.5182 - val_loss: 2.0002\n"
     ]
    }
   ],
   "source": [
    "from tensorflow.keras.callbacks import EarlyStopping\n",
    "\n",
    "early_stop = EarlyStopping(monitor='val_loss', patience=2, restore_best_weights=True)\n",
    "\n",
    "\n",
    "class_weights = compute_class_weight(\n",
    "    class_weight='balanced',\n",
    "    classes=np.unique(y_train),\n",
    "    y=y_train\n",
    ")\n",
    "class_weight_dict = dict(enumerate(class_weights))\n",
    "\n",
    "history = model.fit(\n",
    "    {\"text_input\": X_text_train, \"meta_input\": X_cat_train},\n",
    "    y_train,\n",
    "    epochs=10,\n",
    "    batch_size=32,\n",
    "    validation_split=0.1,\n",
    "    class_weight=class_weight_dict,\n",
    "    callbacks=[early_stop]\n",
    ")\n"
   ]
  },
  {
   "cell_type": "markdown",
   "id": "e9f47989",
   "metadata": {},
   "source": [
    "## Evaluación del modelo"
   ]
  },
  {
   "cell_type": "markdown",
   "id": "88333737",
   "metadata": {},
   "source": [
    "Aplicamos un umbral de 0.5 para convertir las probabilidades en etiquetas: >= 0.5 → 1 (Fake), < 0.5 → 0 (Real)."
   ]
  },
  {
   "cell_type": "code",
   "execution_count": 44,
   "id": "6fa5341f",
   "metadata": {},
   "outputs": [
    {
     "name": "stdout",
     "output_type": "stream",
     "text": [
      "\u001b[1m56/56\u001b[0m \u001b[32m━━━━━━━━━━━━━━━━━━━━\u001b[0m\u001b[37m\u001b[0m \u001b[1m1s\u001b[0m 15ms/step\n",
      "              precision    recall  f1-score   support\n",
      "\n",
      "           0     0.4620    0.3661    0.4085       631\n",
      "           1     0.6899    0.7679    0.7268      1159\n",
      "\n",
      "    accuracy                         0.6263      1790\n",
      "   macro avg     0.5760    0.5670    0.5677      1790\n",
      "weighted avg     0.6096    0.6263    0.6146      1790\n",
      "\n"
     ]
    }
   ],
   "source": [
    "y_pred = model.predict({\"text_input\": X_text_test, \"meta_input\": X_cat_test})\n",
    "y_pred_label = (y_pred > 0.5).astype(int).flatten()\n",
    "\n",
    "from sklearn.metrics import classification_report\n",
    "print(classification_report(y_test, y_pred_label, digits=4))"
   ]
  },
  {
   "cell_type": "code",
   "execution_count": 32,
   "id": "b058a737",
   "metadata": {},
   "outputs": [
    {
     "data": {
      "image/png": "[encoded data removed]",
      "text/plain": [
       "<Figure size 1200x500 with 2 Axes>"
      ]
     },
     "metadata": {},
     "output_type": "display_data"
    }
   ],
   "source": [
    "# Graficar precisión y pérdida\n",
    "plt.figure(figsize=(12, 5))\n",
    "\n",
    "# Accuracy\n",
    "plt.subplot(1, 2, 1)\n",
    "plt.plot(history.history['accuracy'], label=\"Entrenamiento\")\n",
    "plt.plot(history.history['val_accuracy'], label=\"Validación\")\n",
    "plt.title(\"Precisión\")\n",
    "plt.xlabel(\"Época\")\n",
    "plt.ylabel(\"Precisión\")\n",
    "plt.legend()\n",
    "\n",
    "# Loss\n",
    "plt.subplot(1, 2, 2)\n",
    "plt.plot(history.history['loss'], label=\"Entrenamiento\")\n",
    "plt.plot(history.history['val_loss'], label=\"Validación\")\n",
    "plt.title(\"Pérdida\")\n",
    "plt.xlabel(\"Época\")\n",
    "plt.ylabel(\"Loss\")\n",
    "plt.legend()\n",
    "\n",
    "plt.tight_layout()\n",
    "plt.show()"
   ]
  },
  {
   "cell_type": "markdown",
   "id": "c2016b91",
   "metadata": {},
   "source": [
    "## Generación de archivo de predicciones"
   ]
  },
  {
   "cell_type": "code",
   "execution_count": 33,
   "id": "ab00834d",
   "metadata": {},
   "outputs": [
    {
     "name": "stdout",
     "output_type": "stream",
     "text": [
      "\u001b[1m120/120\u001b[0m \u001b[32m━━━━━━━━━━━━━━━━━━━━\u001b[0m\u001b[37m\u001b[0m \u001b[1m2s\u001b[0m 18ms/step\n",
      "Archivo de predicción generado: submission_lstm_metadatos.csv\n"
     ]
    }
   ],
   "source": [
    "# 1. Carga tu archivo de test sin etiquetas\n",
    "test_df = pd.read_csv(\"../data/test_preprocess_v1.csv\")\n",
    "\n",
    "# 2. Preprocesa el texto igual que en entrenamiento\n",
    "test_seqs = tokenizer.texts_to_sequences(test_df['statement'])\n",
    "X_text_test = pad_sequences(test_seqs, maxlen=max_len)\n",
    "\n",
    "# 3. Preprocesa las columnas categóricas con los label encoders entrenados\n",
    "# Aquí asegúrate que test_df tiene esas columnas, si no, adapta según tu dataset\n",
    "\n",
    "X_party_test = le_party.transform(test_df['party_affiliation'].fillna(\"Unknown\"))\n",
    "# Asegurarse de que 'Unknown' fue parte del entrenamiento\n",
    "if \"Unknown\" not in le_speaker.classes_:\n",
    "    le_speaker.classes_ = np.append(le_speaker.classes_, \"Unknown\")\n",
    "\n",
    "# Reemplazar valores no vistos por 'Unknown'\n",
    "test_df['speaker'] = test_df['speaker'].apply(\n",
    "    lambda x: x if x in le_speaker.classes_ else \"Unknown\"\n",
    ")\n",
    "X_speaker_test = le_speaker.transform(test_df['speaker'].fillna(\"Unknown\"))\n",
    "# Asegurarse de que 'Unknown' fue parte del entrenamiento\n",
    "if \"Unknown\" not in le_subject.classes_:\n",
    "    le_subject.classes_ = np.append(le_subject.classes_, \"Unknown\")\n",
    "\n",
    "# Reemplazar valores no vistos por 'Unknown'\n",
    "test_df['subject'] = test_df['subject'].apply(\n",
    "    lambda x: x if x in le_subject.classes_ else \"Unknown\"\n",
    ")\n",
    "X_subject_test = le_subject.transform(test_df['subject'].fillna(\"Unknown\"))\n",
    "\n",
    "X_cat_test = np.stack([X_party_test, X_speaker_test, X_subject_test], axis=1)\n",
    "\n",
    "# 4. Realiza las predicciones\n",
    "y_pred_prob = model.predict({\"text_input\": X_text_test, \"meta_input\": X_cat_test})\n",
    "\n",
    "# 5. Convierte probabilidades a etiquetas binarias\n",
    "y_pred_labels = (y_pred_prob > 0.5).astype(int).flatten()\n",
    "\n",
    "# 6. Guarda el resultado en CSV con el formato esperado\n",
    "submission_df = pd.DataFrame({\n",
    "    \"id\": test_df[\"id\"],   # Ajusta si tu test tiene columna 'id'\n",
    "    \"label\": y_pred_labels\n",
    "})\n",
    "\n",
    "submission_df.to_csv(\"submission_lstm_metadatos.csv\", index=False)\n",
    "print(\"Archivo de predicción generado: submission_lstm_metadatos.csv\")"
   ]
  }
 ],
 "metadata": {
  "kernelspec": {
   "display_name": "Python 3",
   "language": "python",
   "name": "python3"
  },
  "language_info": {
   "codemirror_mode": {
    "name": "ipython",
    "version": 3
   },
   "file_extension": ".py",
   "mimetype": "text/x-python",
   "name": "python",
   "nbconvert_exporter": "python",
   "pygments_lexer": "ipython3",
   "version": "3.12.6"
  }
 },
 "nbformat": 4,
 "nbformat_minor": 5
}
