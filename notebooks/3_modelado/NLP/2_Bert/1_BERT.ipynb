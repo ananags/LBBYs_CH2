{
 "cells": [
  {
   "cell_type": "code",
   "execution_count": 14,
   "id": "773dde47-252c-4265-afca-6e55d1a37ff3",
   "metadata": {},
   "outputs": [
    {
     "name": "stdout",
     "output_type": "stream",
     "text": [
      "Requirement already satisfied: transformers in /Users/andrea/Documents/MUIRST/ABID/Reto2/bert_env/lib/python3.10/site-packages (4.51.3)\n",
      "Requirement already satisfied: filelock in /Users/andrea/Documents/MUIRST/ABID/Reto2/bert_env/lib/python3.10/site-packages (from transformers) (3.18.0)\n",
      "Requirement already satisfied: huggingface-hub<1.0,>=0.30.0 in /Users/andrea/Documents/MUIRST/ABID/Reto2/bert_env/lib/python3.10/site-packages (from transformers) (0.31.2)\n",
      "Requirement already satisfied: numpy>=1.17 in /Users/andrea/Documents/MUIRST/ABID/Reto2/bert_env/lib/python3.10/site-packages (from transformers) (2.2.5)\n",
      "Requirement already satisfied: packaging>=20.0 in /Users/andrea/Documents/MUIRST/ABID/Reto2/bert_env/lib/python3.10/site-packages (from transformers) (25.0)\n",
      "Requirement already satisfied: pyyaml>=5.1 in /Users/andrea/Documents/MUIRST/ABID/Reto2/bert_env/lib/python3.10/site-packages (from transformers) (6.0.2)\n",
      "Requirement already satisfied: regex!=2019.12.17 in /Users/andrea/Documents/MUIRST/ABID/Reto2/bert_env/lib/python3.10/site-packages (from transformers) (2024.11.6)\n",
      "Requirement already satisfied: requests in /Users/andrea/Documents/MUIRST/ABID/Reto2/bert_env/lib/python3.10/site-packages (from transformers) (2.32.3)\n",
      "Requirement already satisfied: tokenizers<0.22,>=0.21 in /Users/andrea/Documents/MUIRST/ABID/Reto2/bert_env/lib/python3.10/site-packages (from transformers) (0.21.1)\n",
      "Requirement already satisfied: safetensors>=0.4.3 in /Users/andrea/Documents/MUIRST/ABID/Reto2/bert_env/lib/python3.10/site-packages (from transformers) (0.5.3)\n",
      "Requirement already satisfied: tqdm>=4.27 in /Users/andrea/Documents/MUIRST/ABID/Reto2/bert_env/lib/python3.10/site-packages (from transformers) (4.67.1)\n",
      "Requirement already satisfied: fsspec>=2023.5.0 in /Users/andrea/Documents/MUIRST/ABID/Reto2/bert_env/lib/python3.10/site-packages (from huggingface-hub<1.0,>=0.30.0->transformers) (2025.3.0)\n",
      "Requirement already satisfied: typing-extensions>=3.7.4.3 in /Users/andrea/Documents/MUIRST/ABID/Reto2/bert_env/lib/python3.10/site-packages (from huggingface-hub<1.0,>=0.30.0->transformers) (4.13.2)\n",
      "Requirement already satisfied: charset-normalizer<4,>=2 in /Users/andrea/Documents/MUIRST/ABID/Reto2/bert_env/lib/python3.10/site-packages (from requests->transformers) (3.4.2)\n",
      "Requirement already satisfied: idna<4,>=2.5 in /Users/andrea/Documents/MUIRST/ABID/Reto2/bert_env/lib/python3.10/site-packages (from requests->transformers) (3.10)\n",
      "Requirement already satisfied: urllib3<3,>=1.21.1 in /Users/andrea/Documents/MUIRST/ABID/Reto2/bert_env/lib/python3.10/site-packages (from requests->transformers) (2.4.0)\n",
      "Requirement already satisfied: certifi>=2017.4.17 in /Users/andrea/Documents/MUIRST/ABID/Reto2/bert_env/lib/python3.10/site-packages (from requests->transformers) (2025.4.26)\n",
      "zsh:1: no matches found: transformers[torch]\n",
      "Collecting accelerate>=0.26.0\n",
      "  Downloading accelerate-1.6.0-py3-none-any.whl.metadata (19 kB)\n",
      "Requirement already satisfied: numpy<3.0.0,>=1.17 in /Users/andrea/Documents/MUIRST/ABID/Reto2/bert_env/lib/python3.10/site-packages (from accelerate>=0.26.0) (2.2.5)\n",
      "Requirement already satisfied: packaging>=20.0 in /Users/andrea/Documents/MUIRST/ABID/Reto2/bert_env/lib/python3.10/site-packages (from accelerate>=0.26.0) (25.0)\n",
      "Requirement already satisfied: psutil in /Users/andrea/Documents/MUIRST/ABID/Reto2/bert_env/lib/python3.10/site-packages (from accelerate>=0.26.0) (7.0.0)\n",
      "Requirement already satisfied: pyyaml in /Users/andrea/Documents/MUIRST/ABID/Reto2/bert_env/lib/python3.10/site-packages (from accelerate>=0.26.0) (6.0.2)\n",
      "Requirement already satisfied: torch>=2.0.0 in /Users/andrea/Documents/MUIRST/ABID/Reto2/bert_env/lib/python3.10/site-packages (from accelerate>=0.26.0) (2.2.2)\n",
      "Requirement already satisfied: huggingface-hub>=0.21.0 in /Users/andrea/Documents/MUIRST/ABID/Reto2/bert_env/lib/python3.10/site-packages (from accelerate>=0.26.0) (0.31.2)\n",
      "Requirement already satisfied: safetensors>=0.4.3 in /Users/andrea/Documents/MUIRST/ABID/Reto2/bert_env/lib/python3.10/site-packages (from accelerate>=0.26.0) (0.5.3)\n",
      "Requirement already satisfied: filelock in /Users/andrea/Documents/MUIRST/ABID/Reto2/bert_env/lib/python3.10/site-packages (from huggingface-hub>=0.21.0->accelerate>=0.26.0) (3.18.0)\n",
      "Requirement already satisfied: fsspec>=2023.5.0 in /Users/andrea/Documents/MUIRST/ABID/Reto2/bert_env/lib/python3.10/site-packages (from huggingface-hub>=0.21.0->accelerate>=0.26.0) (2025.3.0)\n",
      "Requirement already satisfied: requests in /Users/andrea/Documents/MUIRST/ABID/Reto2/bert_env/lib/python3.10/site-packages (from huggingface-hub>=0.21.0->accelerate>=0.26.0) (2.32.3)\n",
      "Requirement already satisfied: tqdm>=4.42.1 in /Users/andrea/Documents/MUIRST/ABID/Reto2/bert_env/lib/python3.10/site-packages (from huggingface-hub>=0.21.0->accelerate>=0.26.0) (4.67.1)\n",
      "Requirement already satisfied: typing-extensions>=3.7.4.3 in /Users/andrea/Documents/MUIRST/ABID/Reto2/bert_env/lib/python3.10/site-packages (from huggingface-hub>=0.21.0->accelerate>=0.26.0) (4.13.2)\n",
      "Requirement already satisfied: sympy in /Users/andrea/Documents/MUIRST/ABID/Reto2/bert_env/lib/python3.10/site-packages (from torch>=2.0.0->accelerate>=0.26.0) (1.14.0)\n",
      "Requirement already satisfied: networkx in /Users/andrea/Documents/MUIRST/ABID/Reto2/bert_env/lib/python3.10/site-packages (from torch>=2.0.0->accelerate>=0.26.0) (3.4.2)\n",
      "Requirement already satisfied: jinja2 in /Users/andrea/Documents/MUIRST/ABID/Reto2/bert_env/lib/python3.10/site-packages (from torch>=2.0.0->accelerate>=0.26.0) (3.1.6)\n",
      "Requirement already satisfied: MarkupSafe>=2.0 in /Users/andrea/Documents/MUIRST/ABID/Reto2/bert_env/lib/python3.10/site-packages (from jinja2->torch>=2.0.0->accelerate>=0.26.0) (3.0.2)\n",
      "Requirement already satisfied: charset-normalizer<4,>=2 in /Users/andrea/Documents/MUIRST/ABID/Reto2/bert_env/lib/python3.10/site-packages (from requests->huggingface-hub>=0.21.0->accelerate>=0.26.0) (3.4.2)\n",
      "Requirement already satisfied: idna<4,>=2.5 in /Users/andrea/Documents/MUIRST/ABID/Reto2/bert_env/lib/python3.10/site-packages (from requests->huggingface-hub>=0.21.0->accelerate>=0.26.0) (3.10)\n",
      "Requirement already satisfied: urllib3<3,>=1.21.1 in /Users/andrea/Documents/MUIRST/ABID/Reto2/bert_env/lib/python3.10/site-packages (from requests->huggingface-hub>=0.21.0->accelerate>=0.26.0) (2.4.0)\n",
      "Requirement already satisfied: certifi>=2017.4.17 in /Users/andrea/Documents/MUIRST/ABID/Reto2/bert_env/lib/python3.10/site-packages (from requests->huggingface-hub>=0.21.0->accelerate>=0.26.0) (2025.4.26)\n",
      "Requirement already satisfied: mpmath<1.4,>=1.1.0 in /Users/andrea/Documents/MUIRST/ABID/Reto2/bert_env/lib/python3.10/site-packages (from sympy->torch>=2.0.0->accelerate>=0.26.0) (1.3.0)\n",
      "Downloading accelerate-1.6.0-py3-none-any.whl (354 kB)\n",
      "Installing collected packages: accelerate\n",
      "Successfully installed accelerate-1.6.0\n"
     ]
    }
   ],
   "source": [
    "!pip install --upgrade transformers\n",
    "!pip install transformers[torch]\n",
    "!pip install 'accelerate>=0.26.0'\n"
   ]
  },
  {
   "cell_type": "code",
   "execution_count": 1,
   "id": "656464a6",
   "metadata": {},
   "outputs": [
    {
     "name": "stdout",
     "output_type": "stream",
     "text": [
      "Requirement already satisfied: numpy in c:\\users\\afgdl.asuss15angel\\documents\\github\\lbbys_ch2\\.venv\\lib\\site-packages (2.2.5)\n",
      "Note: you may need to restart the kernel to use updated packages.\n"
     ]
    }
   ],
   "source": [
    "%pip install numpy"
   ]
  },
  {
   "cell_type": "code",
   "execution_count": 2,
   "id": "d14034c4-6234-4825-9c74-92662117f314",
   "metadata": {},
   "outputs": [
    {
     "name": "stderr",
     "output_type": "stream",
     "text": [
      "c:\\Users\\afgdl.ASUSS15ANGEL\\Documents\\GitHub\\LBBYs_CH2\\.venv\\lib\\site-packages\\tqdm\\auto.py:21: TqdmWarning: IProgress not found. Please update jupyter and ipywidgets. See https://ipywidgets.readthedocs.io/en/stable/user_install.html\n",
      "  from .autonotebook import tqdm as notebook_tqdm\n"
     ]
    },
    {
     "name": "stdout",
     "output_type": "stream",
     "text": [
      "4.51.3\n"
     ]
    }
   ],
   "source": [
    "import transformers\n",
    "print(transformers.__version__)\n"
   ]
  },
  {
   "cell_type": "code",
   "execution_count": 3,
   "id": "3593d460-8a37-4c7c-9e64-618c4a8b0d43",
   "metadata": {},
   "outputs": [],
   "source": [
    "import pandas as pd\n",
    "from datasets import Dataset\n",
    "from sklearn.model_selection import train_test_split\n",
    "from sklearn.metrics import f1_score\n",
    "import torch"
   ]
  },
  {
   "cell_type": "code",
   "execution_count": null,
   "id": "a8387547-fb39-4275-ae63-fa8c72d5767e",
   "metadata": {},
   "outputs": [],
   "source": [
    "import pandas as pd\n",
    "from datasets import Dataset\n",
    "from sklearn.model_selection import train_test_split\n",
    "\n",
    "# Cargar datos limpios\n",
    "df = pd.read_csv(\"../../../../data/processed/train_preprocess_v1.csv\")\n",
    "df = df[['statement', 'label']]  # Asegurarse de usar solo lo necesario\n",
    "\n",
    "# División\n",
    "train_df, val_df = train_test_split(df, test_size=0.2, stratify=df['label'], random_state=42)\n",
    "train_dataset = Dataset.from_pandas(train_df)\n",
    "val_dataset = Dataset.from_pandas(val_df)\n"
   ]
  },
  {
   "cell_type": "code",
   "execution_count": 5,
   "id": "16d0d9f6-86fc-4f35-9247-9f1e44a8a4ca",
   "metadata": {},
   "outputs": [
    {
     "name": "stderr",
     "output_type": "stream",
     "text": [
      "c:\\Users\\afgdl.ASUSS15ANGEL\\Documents\\GitHub\\LBBYs_CH2\\.venv\\lib\\site-packages\\huggingface_hub\\file_download.py:143: UserWarning: `huggingface_hub` cache-system uses symlinks by default to efficiently store duplicated files but your machine does not support them in C:\\Users\\afgdl.ASUSS15ANGEL\\.cache\\huggingface\\hub\\models--bert-base-uncased. Caching files will still work but in a degraded version that might require more space on your disk. This warning can be disabled by setting the `HF_HUB_DISABLE_SYMLINKS_WARNING` environment variable. For more details, see https://huggingface.co/docs/huggingface_hub/how-to-cache#limitations.\n",
      "To support symlinks on Windows, you either need to activate Developer Mode or to run Python as an administrator. In order to activate developer mode, see this article: https://docs.microsoft.com/en-us/windows/apps/get-started/enable-your-device-for-development\n",
      "  warnings.warn(message)\n",
      "Map: 100%|██████████| 7160/7160 [00:06<00:00, 1152.07 examples/s]\n",
      "Map: 100%|██████████| 1790/1790 [00:01<00:00, 1100.41 examples/s]\n"
     ]
    }
   ],
   "source": [
    "from transformers import BertTokenizer\n",
    "\n",
    "tokenizer = BertTokenizer.from_pretrained('bert-base-uncased')\n",
    "\n",
    "def tokenize(example):\n",
    "    return tokenizer(example['statement'], truncation=True, padding='max_length', max_length=128)\n",
    "\n",
    "train_dataset = train_dataset.map(tokenize, batched=True)\n",
    "val_dataset = val_dataset.map(tokenize, batched=True)\n",
    "\n",
    "# Eliminar columnas no necesarias\n",
    "train_dataset = train_dataset.remove_columns([\"statement\", \"__index_level_0__\"])\n",
    "val_dataset = val_dataset.remove_columns([\"statement\", \"__index_level_0__\"])\n"
   ]
  },
  {
   "cell_type": "code",
   "execution_count": 6,
   "id": "5028866c-5840-481c-b377-9bbd924d2f9c",
   "metadata": {},
   "outputs": [
    {
     "name": "stderr",
     "output_type": "stream",
     "text": [
      "Some weights of BertForSequenceClassification were not initialized from the model checkpoint at bert-base-uncased and are newly initialized: ['classifier.bias', 'classifier.weight']\n",
      "You should probably TRAIN this model on a down-stream task to be able to use it for predictions and inference.\n",
      "C:\\Users\\afgdl.ASUSS15ANGEL\\AppData\\Local\\Temp\\ipykernel_27228\\717415926.py:31: FutureWarning: `tokenizer` is deprecated and will be removed in version 5.0.0 for `Trainer.__init__`. Use `processing_class` instead.\n",
      "  trainer = Trainer(\n"
     ]
    }
   ],
   "source": [
    "from transformers import BertForSequenceClassification, Trainer, TrainingArguments, DataCollatorWithPadding\n",
    "import torch\n",
    "from sklearn.metrics import f1_score\n",
    "\n",
    "model = BertForSequenceClassification.from_pretrained(\"bert-base-uncased\", num_labels=2)\n",
    "data_collator = DataCollatorWithPadding(tokenizer=tokenizer)\n",
    "\n",
    "def compute_metrics(eval_pred):\n",
    "    logits, labels = eval_pred\n",
    "    preds = torch.argmax(torch.tensor(logits), axis=1).numpy()\n",
    "    return {\"f1\": f1_score(labels, preds)}\n",
    "\n",
    "from transformers import TrainingArguments\n",
    "\n",
    "training_args = TrainingArguments(\n",
    "    output_dir=\"./bert-test\",\n",
    "    num_train_epochs=1,                     \n",
    "    per_device_train_batch_size=16,         \n",
    "    per_device_eval_batch_size=32,          \n",
    "    learning_rate=5e-5,                      \n",
    "    weight_decay=0.01,\n",
    "    eval_strategy=\"steps\",            \n",
    "    eval_steps=100,                   \n",
    "    save_strategy=\"no\",               \n",
    "    logging_steps=50,                 \n",
    "    disable_tqdm=False,               \n",
    "    report_to=\"none\"                        \n",
    ")\n",
    "\n",
    "\n",
    "trainer = Trainer(\n",
    "    model=model,\n",
    "    args=training_args,\n",
    "    train_dataset=train_dataset,\n",
    "    eval_dataset=val_dataset,\n",
    "    tokenizer=tokenizer,\n",
    "    data_collator=data_collator,\n",
    "    compute_metrics=compute_metrics\n",
    ")\n"
   ]
  },
  {
   "cell_type": "code",
   "execution_count": 7,
   "id": "5fa3f40d-b90c-4029-b63d-00274bd8db3a",
   "metadata": {},
   "outputs": [
    {
     "name": "stderr",
     "output_type": "stream",
     "text": [
      "c:\\Users\\afgdl.ASUSS15ANGEL\\Documents\\GitHub\\LBBYs_CH2\\.venv\\lib\\site-packages\\torch\\utils\\data\\dataloader.py:665: UserWarning: 'pin_memory' argument is set as true but no accelerator is found, then device pinned memory won't be used.\n",
      "  warnings.warn(warn_msg)\n"
     ]
    },
    {
     "data": {
      "text/html": [
       "\n",
       "    <div>\n",
       "      \n",
       "      <progress value='448' max='448' style='width:300px; height:20px; vertical-align: middle;'></progress>\n",
       "      [448/448 49:46, Epoch 1/1]\n",
       "    </div>\n",
       "    <table border=\"1\" class=\"dataframe\">\n",
       "  <thead>\n",
       " <tr style=\"text-align: left;\">\n",
       "      <th>Step</th>\n",
       "      <th>Training Loss</th>\n",
       "      <th>Validation Loss</th>\n",
       "      <th>F1</th>\n",
       "    </tr>\n",
       "  </thead>\n",
       "  <tbody>\n",
       "    <tr>\n",
       "      <td>100</td>\n",
       "      <td>0.647300</td>\n",
       "      <td>0.648690</td>\n",
       "      <td>0.778978</td>\n",
       "    </tr>\n",
       "    <tr>\n",
       "      <td>200</td>\n",
       "      <td>0.653900</td>\n",
       "      <td>0.627033</td>\n",
       "      <td>0.754702</td>\n",
       "    </tr>\n",
       "    <tr>\n",
       "      <td>300</td>\n",
       "      <td>0.622200</td>\n",
       "      <td>0.621433</td>\n",
       "      <td>0.742097</td>\n",
       "    </tr>\n",
       "    <tr>\n",
       "      <td>400</td>\n",
       "      <td>0.638100</td>\n",
       "      <td>0.617151</td>\n",
       "      <td>0.752679</td>\n",
       "    </tr>\n",
       "  </tbody>\n",
       "</table><p>"
      ],
      "text/plain": [
       "<IPython.core.display.HTML object>"
      ]
     },
     "metadata": {},
     "output_type": "display_data"
    },
    {
     "name": "stderr",
     "output_type": "stream",
     "text": [
      "c:\\Users\\afgdl.ASUSS15ANGEL\\Documents\\GitHub\\LBBYs_CH2\\.venv\\lib\\site-packages\\torch\\utils\\data\\dataloader.py:665: UserWarning: 'pin_memory' argument is set as true but no accelerator is found, then device pinned memory won't be used.\n",
      "  warnings.warn(warn_msg)\n",
      "c:\\Users\\afgdl.ASUSS15ANGEL\\Documents\\GitHub\\LBBYs_CH2\\.venv\\lib\\site-packages\\torch\\utils\\data\\dataloader.py:665: UserWarning: 'pin_memory' argument is set as true but no accelerator is found, then device pinned memory won't be used.\n",
      "  warnings.warn(warn_msg)\n",
      "c:\\Users\\afgdl.ASUSS15ANGEL\\Documents\\GitHub\\LBBYs_CH2\\.venv\\lib\\site-packages\\torch\\utils\\data\\dataloader.py:665: UserWarning: 'pin_memory' argument is set as true but no accelerator is found, then device pinned memory won't be used.\n",
      "  warnings.warn(warn_msg)\n",
      "c:\\Users\\afgdl.ASUSS15ANGEL\\Documents\\GitHub\\LBBYs_CH2\\.venv\\lib\\site-packages\\torch\\utils\\data\\dataloader.py:665: UserWarning: 'pin_memory' argument is set as true but no accelerator is found, then device pinned memory won't be used.\n",
      "  warnings.warn(warn_msg)\n"
     ]
    },
    {
     "data": {
      "text/html": [],
      "text/plain": [
       "<IPython.core.display.HTML object>"
      ]
     },
     "metadata": {},
     "output_type": "display_data"
    },
    {
     "data": {
      "text/plain": [
       "{'eval_loss': 0.6142523288726807,\n",
       " 'eval_f1': 0.7656187823318743,\n",
       " 'eval_runtime': 99.9895,\n",
       " 'eval_samples_per_second': 17.902,\n",
       " 'eval_steps_per_second': 0.56,\n",
       " 'epoch': 1.0}"
      ]
     },
     "execution_count": 7,
     "metadata": {},
     "output_type": "execute_result"
    }
   ],
   "source": [
    "trainer.train()\n",
    "trainer.evaluate()"
   ]
  },
  {
   "cell_type": "code",
   "execution_count": 9,
   "id": "5eb58ee7-a413-49c4-af0b-3222a122055e",
   "metadata": {},
   "outputs": [
    {
     "name": "stderr",
     "output_type": "stream",
     "text": [
      "c:\\Users\\afgdl.ASUSS15ANGEL\\Documents\\GitHub\\LBBYs_CH2\\.venv\\lib\\site-packages\\torch\\utils\\data\\dataloader.py:665: UserWarning: 'pin_memory' argument is set as true but no accelerator is found, then device pinned memory won't be used.\n",
      "  warnings.warn(warn_msg)\n"
     ]
    },
    {
     "name": "stdout",
     "output_type": "stream",
     "text": [
      "Matriz de confusión:\n",
      " [[239 392]\n",
      " [197 962]]\n",
      "Reporte de clasificación:\n",
      "               precision    recall  f1-score   support\n",
      "\n",
      "           0       0.55      0.38      0.45       631\n",
      "           1       0.71      0.83      0.77      1159\n",
      "\n",
      "    accuracy                           0.67      1790\n",
      "   macro avg       0.63      0.60      0.61      1790\n",
      "weighted avg       0.65      0.67      0.65      1790\n",
      "\n",
      "Macro F1: 0.606801893508955\n"
     ]
    }
   ],
   "source": [
    "import numpy as np\n",
    "from sklearn.metrics import classification_report, confusion_matrix\n",
    "\n",
    "# Evaluar y obtener predicciones sobre val_dataset\n",
    "pred_out = trainer.predict(val_dataset)\n",
    "\n",
    "# Sacar predicciones\n",
    "val_preds = np.argmax(pred_out.predictions, axis=1)\n",
    "\n",
    "# Etiquetas reales\n",
    "y_val = val_df['label'].values\n",
    "\n",
    "# Matriz de confusión\n",
    "cm = confusion_matrix(y_val, val_preds)\n",
    "print(\"Matriz de confusión:\\n\", cm)\n",
    "\n",
    "# Reporte completo\n",
    "print(\"Reporte de clasificación:\\n\", classification_report(y_val, val_preds))\n",
    "\n",
    "# Macro F1\n",
    "from sklearn.metrics import f1_score\n",
    "print(\"Macro F1:\", f1_score(y_val, val_preds, average='macro'))\n"
   ]
  },
  {
   "cell_type": "code",
   "execution_count": null,
   "id": "dce29aac-cf9a-4759-a090-cd0d1beb2aa5",
   "metadata": {},
   "outputs": [
    {
     "name": "stderr",
     "output_type": "stream",
     "text": [
      "Map: 100%|██████████| 3836/3836 [00:01<00:00, 2244.18 examples/s]\n",
      "c:\\Users\\afgdl.ASUSS15ANGEL\\Documents\\GitHub\\LBBYs_CH2\\.venv\\lib\\site-packages\\torch\\utils\\data\\dataloader.py:665: UserWarning: 'pin_memory' argument is set as true but no accelerator is found, then device pinned memory won't be used.\n",
      "  warnings.warn(warn_msg)\n"
     ]
    },
    {
     "data": {
      "text/html": [],
      "text/plain": [
       "<IPython.core.display.HTML object>"
      ]
     },
     "metadata": {},
     "output_type": "display_data"
    },
    {
     "name": "stdout",
     "output_type": "stream",
     "text": [
      "Archivo submission.csv creado con éxito.\n"
     ]
    }
   ],
   "source": [
    "import pandas as pd\n",
    "import numpy as np\n",
    "from datasets import Dataset\n",
    "\n",
    "# 1. Cargar CSV de test (sin etiquetas)\n",
    "test_df = pd.read_csv(\"../../../../data/processed/test_preprocess_v1.csv\")  # Cambia la ruta si hace falta\n",
    "\n",
    "# 2. Crear Dataset HuggingFace\n",
    "test_dataset = Dataset.from_pandas(test_df)\n",
    "\n",
    "# 3. Tokenizar el test_dataset igual que el train/val\n",
    "def tokenize(example):\n",
    "    return tokenizer(example['statement'], truncation=True, padding='max_length', max_length=128)\n",
    "\n",
    "test_dataset = test_dataset.map(tokenize, batched=True)\n",
    "\n",
    "# 4. Eliminar columnas no necesarias para el modelo, sólo si existen\n",
    "cols_to_remove = [\"statement\", \"__index_level_0__\"]\n",
    "cols_present = [col for col in cols_to_remove if col in test_dataset.column_names]\n",
    "if cols_present:\n",
    "    test_dataset = test_dataset.remove_columns(cols_present)\n",
    "\n",
    "# 5. Predecir\n",
    "pred_out = trainer.predict(test_dataset)\n",
    "\n",
    "# 6. Obtener predicciones (clase con mayor probabilidad)\n",
    "test_preds = np.argmax(pred_out.predictions, axis=1)\n",
    "\n",
    "# 7. Preparar DataFrame para Kaggle:\n",
    "if 'id' in test_df.columns:\n",
    "    submission_ids = test_df['id']\n",
    "else:\n",
    "    submission_ids = test_df.index\n",
    "\n",
    "submission_df = pd.DataFrame({\n",
    "    \"id\": submission_ids,\n",
    "    \"label\": test_preds\n",
    "})\n",
    "\n",
    "# 8. Guardar CSV listo para subir a Kaggle\n",
    "submission_df.to_csv(\"submission.csv\", index=False)\n",
    "\n",
    "print(\"Archivo submission.csv creado con éxito.\")\n"
   ]
  }
 ],
 "metadata": {
  "kernelspec": {
   "display_name": ".venv",
   "language": "python",
   "name": "python3"
  },
  "language_info": {
   "codemirror_mode": {
    "name": "ipython",
    "version": 3
   },
   "file_extension": ".py",
   "mimetype": "text/x-python",
   "name": "python",
   "nbconvert_exporter": "python",
   "pygments_lexer": "ipython3",
   "version": "3.10.11"
  }
 },
 "nbformat": 4,
 "nbformat_minor": 5
}
