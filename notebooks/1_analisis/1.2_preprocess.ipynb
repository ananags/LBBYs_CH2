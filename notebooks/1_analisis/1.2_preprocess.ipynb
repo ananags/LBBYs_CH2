{
 "cells": [
  {
   "cell_type": "markdown",
   "id": "547aae72",
   "metadata": {},
   "source": [
    "# Preprocess "
   ]
  },
  {
   "cell_type": "code",
   "execution_count": 5,
   "id": "8c85e207",
   "metadata": {},
   "outputs": [
    {
     "name": "stdout",
     "output_type": "stream",
     "text": [
      "Requirement already satisfied: spacy in c:\\users\\anaeg\\anaconda3\\lib\\site-packages (3.8.5)\n",
      "Requirement already satisfied: spacy-legacy<3.1.0,>=3.0.11 in c:\\users\\anaeg\\anaconda3\\lib\\site-packages (from spacy) (3.0.12)\n",
      "Requirement already satisfied: spacy-loggers<2.0.0,>=1.0.0 in c:\\users\\anaeg\\anaconda3\\lib\\site-packages (from spacy) (1.0.5)\n",
      "Requirement already satisfied: murmurhash<1.1.0,>=0.28.0 in c:\\users\\anaeg\\anaconda3\\lib\\site-packages (from spacy) (1.0.12)\n",
      "Requirement already satisfied: cymem<2.1.0,>=2.0.2 in c:\\users\\anaeg\\anaconda3\\lib\\site-packages (from spacy) (2.0.11)\n",
      "Requirement already satisfied: preshed<3.1.0,>=3.0.2 in c:\\users\\anaeg\\anaconda3\\lib\\site-packages (from spacy) (3.0.9)\n",
      "Requirement already satisfied: thinc<8.4.0,>=8.3.4 in c:\\users\\anaeg\\anaconda3\\lib\\site-packages (from spacy) (8.3.6)\n",
      "Requirement already satisfied: wasabi<1.2.0,>=0.9.1 in c:\\users\\anaeg\\anaconda3\\lib\\site-packages (from spacy) (1.1.3)\n",
      "Requirement already satisfied: srsly<3.0.0,>=2.4.3 in c:\\users\\anaeg\\anaconda3\\lib\\site-packages (from spacy) (2.5.1)\n",
      "Requirement already satisfied: catalogue<2.1.0,>=2.0.6 in c:\\users\\anaeg\\anaconda3\\lib\\site-packages (from spacy) (2.0.10)\n",
      "Requirement already satisfied: weasel<0.5.0,>=0.1.0 in c:\\users\\anaeg\\anaconda3\\lib\\site-packages (from spacy) (0.4.1)\n",
      "Requirement already satisfied: typer<1.0.0,>=0.3.0 in c:\\users\\anaeg\\anaconda3\\lib\\site-packages (from spacy) (0.15.3)\n",
      "Requirement already satisfied: tqdm<5.0.0,>=4.38.0 in c:\\users\\anaeg\\anaconda3\\lib\\site-packages (from spacy) (4.65.0)\n",
      "Requirement already satisfied: numpy>=1.19.0 in c:\\users\\anaeg\\anaconda3\\lib\\site-packages (from spacy) (2.2.5)\n",
      "Requirement already satisfied: requests<3.0.0,>=2.13.0 in c:\\users\\anaeg\\anaconda3\\lib\\site-packages (from spacy) (2.31.0)\n",
      "Requirement already satisfied: pydantic!=1.8,!=1.8.1,<3.0.0,>=1.7.4 in c:\\users\\anaeg\\anaconda3\\lib\\site-packages (from spacy) (2.11.4)\n",
      "Requirement already satisfied: jinja2 in c:\\users\\anaeg\\anaconda3\\lib\\site-packages (from spacy) (3.1.3)\n",
      "Requirement already satisfied: setuptools in c:\\users\\anaeg\\anaconda3\\lib\\site-packages (from spacy) (68.2.2)\n",
      "Requirement already satisfied: packaging>=20.0 in c:\\users\\anaeg\\anaconda3\\lib\\site-packages (from spacy) (23.1)\n",
      "Requirement already satisfied: langcodes<4.0.0,>=3.2.0 in c:\\users\\anaeg\\anaconda3\\lib\\site-packages (from spacy) (3.5.0)\n",
      "Requirement already satisfied: language-data>=1.2 in c:\\users\\anaeg\\anaconda3\\lib\\site-packages (from langcodes<4.0.0,>=3.2.0->spacy) (1.3.0)\n",
      "Requirement already satisfied: annotated-types>=0.6.0 in c:\\users\\anaeg\\anaconda3\\lib\\site-packages (from pydantic!=1.8,!=1.8.1,<3.0.0,>=1.7.4->spacy) (0.7.0)\n",
      "Requirement already satisfied: pydantic-core==2.33.2 in c:\\users\\anaeg\\anaconda3\\lib\\site-packages (from pydantic!=1.8,!=1.8.1,<3.0.0,>=1.7.4->spacy) (2.33.2)\n",
      "Requirement already satisfied: typing-extensions>=4.12.2 in c:\\users\\anaeg\\anaconda3\\lib\\site-packages (from pydantic!=1.8,!=1.8.1,<3.0.0,>=1.7.4->spacy) (4.13.2)\n",
      "Requirement already satisfied: typing-inspection>=0.4.0 in c:\\users\\anaeg\\anaconda3\\lib\\site-packages (from pydantic!=1.8,!=1.8.1,<3.0.0,>=1.7.4->spacy) (0.4.0)\n",
      "Requirement already satisfied: charset-normalizer<4,>=2 in c:\\users\\anaeg\\anaconda3\\lib\\site-packages (from requests<3.0.0,>=2.13.0->spacy) (2.0.4)\n",
      "Requirement already satisfied: idna<4,>=2.5 in c:\\users\\anaeg\\anaconda3\\lib\\site-packages (from requests<3.0.0,>=2.13.0->spacy) (3.4)\n",
      "Requirement already satisfied: urllib3<3,>=1.21.1 in c:\\users\\anaeg\\anaconda3\\lib\\site-packages (from requests<3.0.0,>=2.13.0->spacy) (2.0.7)\n",
      "Requirement already satisfied: certifi>=2017.4.17 in c:\\users\\anaeg\\anaconda3\\lib\\site-packages (from requests<3.0.0,>=2.13.0->spacy) (2024.2.2)\n",
      "Requirement already satisfied: blis<1.4.0,>=1.3.0 in c:\\users\\anaeg\\anaconda3\\lib\\site-packages (from thinc<8.4.0,>=8.3.4->spacy) (1.3.0)\n",
      "Requirement already satisfied: confection<1.0.0,>=0.0.1 in c:\\users\\anaeg\\anaconda3\\lib\\site-packages (from thinc<8.4.0,>=8.3.4->spacy) (0.1.5)\n",
      "Requirement already satisfied: colorama in c:\\users\\anaeg\\anaconda3\\lib\\site-packages (from tqdm<5.0.0,>=4.38.0->spacy) (0.4.6)\n",
      "Requirement already satisfied: click>=8.0.0 in c:\\users\\anaeg\\anaconda3\\lib\\site-packages (from typer<1.0.0,>=0.3.0->spacy) (8.1.7)\n",
      "Requirement already satisfied: shellingham>=1.3.0 in c:\\users\\anaeg\\anaconda3\\lib\\site-packages (from typer<1.0.0,>=0.3.0->spacy) (1.5.4)\n",
      "Requirement already satisfied: rich>=10.11.0 in c:\\users\\anaeg\\anaconda3\\lib\\site-packages (from typer<1.0.0,>=0.3.0->spacy) (13.3.5)\n",
      "Requirement already satisfied: cloudpathlib<1.0.0,>=0.7.0 in c:\\users\\anaeg\\anaconda3\\lib\\site-packages (from weasel<0.5.0,>=0.1.0->spacy) (0.21.0)\n",
      "Requirement already satisfied: smart-open<8.0.0,>=5.2.1 in c:\\users\\anaeg\\anaconda3\\lib\\site-packages (from weasel<0.5.0,>=0.1.0->spacy) (5.2.1)\n",
      "Requirement already satisfied: MarkupSafe>=2.0 in c:\\users\\anaeg\\anaconda3\\lib\\site-packages (from jinja2->spacy) (2.1.3)\n",
      "Requirement already satisfied: marisa-trie>=1.1.0 in c:\\users\\anaeg\\anaconda3\\lib\\site-packages (from language-data>=1.2->langcodes<4.0.0,>=3.2.0->spacy) (1.2.1)\n",
      "Requirement already satisfied: markdown-it-py<3.0.0,>=2.2.0 in c:\\users\\anaeg\\anaconda3\\lib\\site-packages (from rich>=10.11.0->typer<1.0.0,>=0.3.0->spacy) (2.2.0)\n",
      "Requirement already satisfied: pygments<3.0.0,>=2.13.0 in c:\\users\\anaeg\\anaconda3\\lib\\site-packages (from rich>=10.11.0->typer<1.0.0,>=0.3.0->spacy) (2.15.1)\n",
      "Requirement already satisfied: mdurl~=0.1 in c:\\users\\anaeg\\anaconda3\\lib\\site-packages (from markdown-it-py<3.0.0,>=2.2.0->rich>=10.11.0->typer<1.0.0,>=0.3.0->spacy) (0.1.0)\n",
      "Note: you may need to restart the kernel to use updated packages.\n"
     ]
    }
   ],
   "source": [
    "%pip install spacy"
   ]
  },
  {
   "cell_type": "code",
   "execution_count": null,
   "id": "40bdb5ff",
   "metadata": {},
   "outputs": [],
   "source": [
    "import pandas as pd\n",
    "from collections import Counter\n",
    "import spacy"
   ]
  },
  {
   "cell_type": "code",
   "execution_count": null,
   "id": "fbd0608d",
   "metadata": {},
   "outputs": [],
   "source": [
    "data = pd.read_csv(\"../../data/processed/train_limpieza_v1.csv\")"
   ]
  },
  {
   "cell_type": "code",
   "execution_count": null,
   "id": "243e5517",
   "metadata": {},
   "outputs": [
    {
     "ename": "ModuleNotFoundError",
     "evalue": "No module named 'spacy'",
     "output_type": "error",
     "traceback": [
      "\u001b[1;31m---------------------------------------------------------------------------\u001b[0m",
      "\u001b[1;31mModuleNotFoundError\u001b[0m                       Traceback (most recent call last)",
      "Cell \u001b[1;32mIn[2], line 1\u001b[0m\n\u001b[1;32m----> 1\u001b[0m \u001b[38;5;28;01mimport\u001b[39;00m \u001b[38;5;21;01mspacy\u001b[39;00m\n\u001b[0;32m      2\u001b[0m nlp \u001b[38;5;241m=\u001b[39m spacy\u001b[38;5;241m.\u001b[39mload(\u001b[38;5;124m'\u001b[39m\u001b[38;5;124men_core_web_sm\u001b[39m\u001b[38;5;124m'\u001b[39m)\n",
      "\u001b[1;31mModuleNotFoundError\u001b[0m: No module named 'spacy'"
     ]
    }
   ],
   "source": [
    "nlp = spacy.load('en_core_web_sm')"
   ]
  },
  {
   "cell_type": "markdown",
   "id": "670464aa",
   "metadata": {},
   "source": [
    "## Statement"
   ]
  },
  {
   "cell_type": "markdown",
   "id": "545e2583",
   "metadata": {},
   "source": [
    "### Tokenizar, estities y stopwords por statemen "
   ]
  },
  {
   "cell_type": "code",
   "execution_count": null,
   "id": "b455a467",
   "metadata": {},
   "outputs": [],
   "source": [
    "# Función para procesar el statement y extraer las métricas\n",
    "def process_statement(statement):\n",
    "    # Procesar el texto con spaCy\n",
    "    doc = nlp(statement.lower()) #Convertimos todos los tokens a minusculas\n",
    "    # Número de tokens\n",
    "    num_tokens = len(doc)\n",
    "    # Número de oraciones\n",
    "    num_sentences = len(list(doc.sents))\n",
    "    # Extraer POS tags, lemas y profundidad (depth)\n",
    "    pos_info = []\n",
    "    for token in doc:\n",
    "        pos_info.append({\n",
    "            'lemma': token.lemma_,\n",
    "            'pos': token.pos_,\n",
    "            'tag': token.tag_,\n",
    "            'depth': token.dep_,\n",
    "        })\n",
    "    \n",
    "    # Frecuencia de POS tags, lemas, etc.\n",
    "    pos_freq = Counter([token['pos'] for token in pos_info])  # Frecuencia de POS tags\n",
    "    lemma_freq = Counter([token['lemma'] for token in pos_info])  # Frecuencia de lemas\n",
    "    tag_freq = Counter([token['tag'] for token in pos_info])  # Frecuencia de tags\n",
    "\n",
    "    # Extraer las entidades, tipos y explicaciones\n",
    "    entidades = []\n",
    "    tipos = []\n",
    "    explicaciones = []\n",
    "    \n",
    "    for ent in doc.ents:\n",
    "        entidades.append(ent.text)\n",
    "        tipos.append(ent.label_)\n",
    "        explicaciones.append(spacy.explain(ent.label_))\n",
    "    \n",
    "    # ===================== Entities =======================================================\n",
    "    # Crear un DataFrame para las entidades\n",
    "    entities_df = pd.DataFrame({\n",
    "        \"Entidad\": entidades,\n",
    "        \"Tipo de Entidad\": tipos,\n",
    "        \"Explicación\": explicaciones\n",
    "    })\n",
    "\n",
    "    # ===================== Stopwords =======================================================\n",
    "    # Extracción de stopwords\n",
    "    stopwords = nlp.Defaults.stop_words\n",
    "    stopwords_in_statement = [token.text for token in doc if token.is_stop]\n",
    "    \n",
    "    # Filtrar los tokens que no son stopwords\n",
    "    tokens_without_stopwords = [token for token in doc if not token.is_stop and not token.is_digit and not token.is_punct and token.text != '-' and token.text != '_']\n",
    "    \n",
    "    # Generar el statement sin stopwords\n",
    "    statement_without_stopwords = ' '.join([token.text for token in tokens_without_stopwords])\n",
    "    \n",
    "    # Calcular las métricas para el statement sin stopwords\n",
    "    num_tokens_without_stopwords = len(tokens_without_stopwords)\n",
    "    \n",
    "    # Extraer POS tags, lemas y profundidad para el statement sin stopwords\n",
    "    pos_info_without_stopwords = []\n",
    "    for token in tokens_without_stopwords:\n",
    "        pos_info_without_stopwords.append({\n",
    "            'lemma': token.lemma_,\n",
    "            'pos': token.pos_,\n",
    "            'tag': token.tag_,\n",
    "            'depth': token.dep_,\n",
    "        })\n",
    "    \n",
    "    # Frecuencia de POS tags, lemas, etc. para el statement sin stopwords\n",
    "    pos_freq_without_stopwords = Counter([token['pos'] for token in pos_info_without_stopwords])  # Frecuencia de POS tags\n",
    "    lemma_freq_without_stopwords = Counter([token['lemma'] for token in pos_info_without_stopwords])  # Frecuencia de lemas\n",
    "    tag_freq_without_stopwords = Counter([token['tag'] for token in pos_info_without_stopwords])  # Frecuencia de tags\n",
    "    \n",
    "    # Retornar los resultados\n",
    "    return (\n",
    "        ' '.join([token.text for token in doc]), \n",
    "        num_tokens, \n",
    "        num_sentences, \n",
    "        pos_info, \n",
    "        pos_freq, \n",
    "        lemma_freq, \n",
    "        tag_freq, \n",
    "        entities_df, \n",
    "        stopwords_in_statement, \n",
    "        statement_without_stopwords, \n",
    "        num_tokens_without_stopwords, \n",
    "        pos_info_without_stopwords, \n",
    "        pos_freq_without_stopwords, \n",
    "        lemma_freq_without_stopwords, \n",
    "        tag_freq_without_stopwords\n",
    "    )"
   ]
  },
  {
   "cell_type": "code",
   "execution_count": null,
   "id": "382d9daa",
   "metadata": {},
   "outputs": [],
   "source": [
    "data[['statement_tokens', 'num_tokens', 'num_sentences', 'pos_info', 'pos_freq', 'lemma_freq', 'tag_freq',\n",
    "    'entities', 'stopwords', 'statement_tokens_without_stopwords', 'num_tokens_without_stopwords', \n",
    "    'pos_info_without_stopwords', 'pos_freq_without_stopwords', 'lemma_freq_without_stopwords', \n",
    "    'tag_freq_without_stopwords']] = data['statement'].apply(lambda x: pd.Series(process_statement(x)))"
   ]
  },
  {
   "cell_type": "markdown",
   "id": "101536a1",
   "metadata": {},
   "source": [
    "## Subject"
   ]
  },
  {
   "cell_type": "code",
   "execution_count": null,
   "id": "f1eeaf04",
   "metadata": {},
   "outputs": [],
   "source": [
    "def preprocess_subject(subject):\n",
    "    # Convertir todo a minúsculas\n",
    "    subject = subject.lower()\n",
    "\n",
    "    # Eliminar puntuaciones y caracteres no alfabéticos, excepto guiones\n",
    "    # Permitir guiones porque los usamos para unificar categorías como \"state-financial\"\n",
    "    subject = ''.join([char if char.isalnum() or char in ['-', ','] else ' ' for char in subject])\n",
    "\n",
    "    # Dividir por delimitadores (coma, guion, espacio)\n",
    "    subject_tokens = [token.strip() for token in subject.split(',')]\n",
    "\n",
    "    # Filtrar tokens si es necesario (ej. eliminar stopwords)\n",
    "    stopwords = nlp.Defaults.stop_words\n",
    "    subject_tokens = [token for token in subject_tokens if token not in stopwords]\n",
    "\n",
    "    # Retornar los resultados\n",
    "    return subject_tokens\n",
    "\n",
    "# Aplicar el preprocesamiento a la columna 'subject'\n",
    "data['processed_subject'] = data['subject'].apply(preprocess_subject)"
   ]
  },
  {
   "cell_type": "code",
   "execution_count": null,
   "id": "0792e12d",
   "metadata": {},
   "outputs": [],
   "source": [
    "\n",
    "# Inicializar un contador\n",
    "subject_counter = Counter()\n",
    "\n",
    "# Contar la frecuencia de cada término en 'processed_subject'\n",
    "for subjects in data['processed_subject']:\n",
    "    subject_counter.update(subjects)\n",
    "\n",
    "for token, count in subject_counter.items():\n",
    "    print(f'{token}: {count}')"
   ]
  },
  {
   "cell_type": "markdown",
   "id": "f922954b",
   "metadata": {},
   "source": [
    "## Speaker"
   ]
  },
  {
   "cell_type": "code",
   "execution_count": null,
   "id": "21272791",
   "metadata": {},
   "outputs": [],
   "source": [
    "def extract_entities_from_speaker(speaker):\n",
    "    # Procesar el texto con spaCy\n",
    "    doc = nlp(speaker)\n",
    "    \n",
    "    # Listas para almacenar entidades, tipos y explicaciones\n",
    "    entidades = []\n",
    "    tipos = []\n",
    "    \n",
    "    # Iterar sobre las entidades reconocidas\n",
    "    for ent in doc.ents:\n",
    "        entidades.append(ent.text)\n",
    "        tipos.append(ent.label_)\n",
    "    \n",
    "    # Retornar las listas de entidades, tipos y explicaciones\n",
    "    return entidades, tipos\n",
    "\n",
    "# Aplicar la función para extraer las entidades de cada 'speaker'\n",
    "data[['speaker_entities', 'speaker_type']] = data['speaker'].apply(lambda x: pd.Series(extract_entities_from_speaker(x)))\n"
   ]
  }
 ],
 "metadata": {
  "kernelspec": {
   "display_name": "base",
   "language": "python",
   "name": "python3"
  },
  "language_info": {
   "codemirror_mode": {
    "name": "ipython",
    "version": 3
   },
   "file_extension": ".py",
   "mimetype": "text/x-python",
   "name": "python",
   "nbconvert_exporter": "python",
   "pygments_lexer": "ipython3",
   "version": "3.11.7"
  }
 },
 "nbformat": 4,
 "nbformat_minor": 5
}
