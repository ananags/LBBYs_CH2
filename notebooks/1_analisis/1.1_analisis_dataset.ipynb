{
 "cells": [
  {
   "cell_type": "markdown",
   "id": "236a5a3c",
   "metadata": {},
   "source": [
    "# Analisis inicial dataset "
   ]
  },
  {
   "cell_type": "code",
   "execution_count": 2,
   "id": "6c88293b",
   "metadata": {},
   "outputs": [],
   "source": [
    "import pandas as pd\n",
    "\n",
    "data = pd.read_csv(\"../../data/raw/train.csv\")"
   ]
  },
  {
   "cell_type": "code",
   "execution_count": 7,
   "id": "7cd2cc6c",
   "metadata": {},
   "outputs": [
    {
     "data": {
      "text/html": [
       "<div>\n",
       "<style scoped>\n",
       "    .dataframe tbody tr th:only-of-type {\n",
       "        vertical-align: middle;\n",
       "    }\n",
       "\n",
       "    .dataframe tbody tr th {\n",
       "        vertical-align: top;\n",
       "    }\n",
       "\n",
       "    .dataframe thead th {\n",
       "        text-align: right;\n",
       "    }\n",
       "</style>\n",
       "<table border=\"1\" class=\"dataframe\">\n",
       "  <thead>\n",
       "    <tr style=\"text-align: right;\">\n",
       "      <th></th>\n",
       "      <th>id</th>\n",
       "      <th>label</th>\n",
       "      <th>statement</th>\n",
       "      <th>subject</th>\n",
       "      <th>speaker</th>\n",
       "      <th>speaker_job</th>\n",
       "      <th>state_info</th>\n",
       "      <th>party_affiliation</th>\n",
       "    </tr>\n",
       "  </thead>\n",
       "  <tbody>\n",
       "    <tr>\n",
       "      <th>0</th>\n",
       "      <td>81f884c64a7</td>\n",
       "      <td>1</td>\n",
       "      <td>China is in the South China Sea and (building)...</td>\n",
       "      <td>china,foreign-policy,military</td>\n",
       "      <td>donald-trump</td>\n",
       "      <td>President-Elect</td>\n",
       "      <td>New York</td>\n",
       "      <td>republican</td>\n",
       "    </tr>\n",
       "    <tr>\n",
       "      <th>1</th>\n",
       "      <td>30c2723a188</td>\n",
       "      <td>0</td>\n",
       "      <td>With the resources it takes to execute just ov...</td>\n",
       "      <td>health-care</td>\n",
       "      <td>chris-dodd</td>\n",
       "      <td>U.S. senator</td>\n",
       "      <td>Connecticut</td>\n",
       "      <td>democrat</td>\n",
       "    </tr>\n",
       "    <tr>\n",
       "      <th>2</th>\n",
       "      <td>6936b216e5d</td>\n",
       "      <td>0</td>\n",
       "      <td>The (Wisconsin) governor has proposed tax give...</td>\n",
       "      <td>corporations,pundits,taxes,abc-news-week</td>\n",
       "      <td>donna-brazile</td>\n",
       "      <td>Political commentator</td>\n",
       "      <td>Washington, D.C.</td>\n",
       "      <td>democrat</td>\n",
       "    </tr>\n",
       "    <tr>\n",
       "      <th>3</th>\n",
       "      <td>b5cd9195738</td>\n",
       "      <td>1</td>\n",
       "      <td>Says her representation of an ex-boyfriend who...</td>\n",
       "      <td>candidates-biography,children,ethics,families,...</td>\n",
       "      <td>rebecca-bradley</td>\n",
       "      <td>NaN</td>\n",
       "      <td>NaN</td>\n",
       "      <td>none</td>\n",
       "    </tr>\n",
       "    <tr>\n",
       "      <th>4</th>\n",
       "      <td>84f8dac7737</td>\n",
       "      <td>0</td>\n",
       "      <td>At protests in Wisconsin against proposed coll...</td>\n",
       "      <td>health-care,labor,state-budget</td>\n",
       "      <td>republican-party-wisconsin</td>\n",
       "      <td>NaN</td>\n",
       "      <td>Wisconsin</td>\n",
       "      <td>republican</td>\n",
       "    </tr>\n",
       "    <tr>\n",
       "      <th>...</th>\n",
       "      <td>...</td>\n",
       "      <td>...</td>\n",
       "      <td>...</td>\n",
       "      <td>...</td>\n",
       "      <td>...</td>\n",
       "      <td>...</td>\n",
       "      <td>...</td>\n",
       "      <td>...</td>\n",
       "    </tr>\n",
       "    <tr>\n",
       "      <th>8945</th>\n",
       "      <td>44edff2b865</td>\n",
       "      <td>1</td>\n",
       "      <td>If Rhode Island does a hybrid [retirement] pla...</td>\n",
       "      <td>pensions,public-service,retirement,workers</td>\n",
       "      <td>lincoln-chafee</td>\n",
       "      <td>NaN</td>\n",
       "      <td>Rhode Island</td>\n",
       "      <td>democrat</td>\n",
       "    </tr>\n",
       "    <tr>\n",
       "      <th>8946</th>\n",
       "      <td>4a63b5f9c16</td>\n",
       "      <td>1</td>\n",
       "      <td>The new health care law will force seniors int...</td>\n",
       "      <td>medicare,message-machine,retirement</td>\n",
       "      <td>dan-coats</td>\n",
       "      <td>NaN</td>\n",
       "      <td>Indiana</td>\n",
       "      <td>republican</td>\n",
       "    </tr>\n",
       "    <tr>\n",
       "      <th>8947</th>\n",
       "      <td>7c57fa8e81c</td>\n",
       "      <td>0</td>\n",
       "      <td>The health insurance plan that (members of Con...</td>\n",
       "      <td>health-care</td>\n",
       "      <td>steve-southerland</td>\n",
       "      <td>U.S. Representative, Florida District 2</td>\n",
       "      <td>Florida</td>\n",
       "      <td>republican</td>\n",
       "    </tr>\n",
       "    <tr>\n",
       "      <th>8948</th>\n",
       "      <td>2375e3cf4b7</td>\n",
       "      <td>1</td>\n",
       "      <td>No one in American history has moved from a Ju...</td>\n",
       "      <td>elections,history</td>\n",
       "      <td>newt-gingrich</td>\n",
       "      <td>Co-host on CNN's \"Crossfire\"</td>\n",
       "      <td>Georgia</td>\n",
       "      <td>republican</td>\n",
       "    </tr>\n",
       "    <tr>\n",
       "      <th>8949</th>\n",
       "      <td>5ae9b14e6e5</td>\n",
       "      <td>0</td>\n",
       "      <td>Says the Army is spending $7 million to sponso...</td>\n",
       "      <td>federal-budget,military</td>\n",
       "      <td>betty-mccollum</td>\n",
       "      <td>U.S. Representative</td>\n",
       "      <td>Minnesota</td>\n",
       "      <td>democrat</td>\n",
       "    </tr>\n",
       "  </tbody>\n",
       "</table>\n",
       "<p>8950 rows × 8 columns</p>\n",
       "</div>"
      ],
      "text/plain": [
       "               id  label                                          statement  \\\n",
       "0     81f884c64a7      1  China is in the South China Sea and (building)...   \n",
       "1     30c2723a188      0  With the resources it takes to execute just ov...   \n",
       "2     6936b216e5d      0  The (Wisconsin) governor has proposed tax give...   \n",
       "3     b5cd9195738      1  Says her representation of an ex-boyfriend who...   \n",
       "4     84f8dac7737      0  At protests in Wisconsin against proposed coll...   \n",
       "...           ...    ...                                                ...   \n",
       "8945  44edff2b865      1  If Rhode Island does a hybrid [retirement] pla...   \n",
       "8946  4a63b5f9c16      1  The new health care law will force seniors int...   \n",
       "8947  7c57fa8e81c      0  The health insurance plan that (members of Con...   \n",
       "8948  2375e3cf4b7      1  No one in American history has moved from a Ju...   \n",
       "8949  5ae9b14e6e5      0  Says the Army is spending $7 million to sponso...   \n",
       "\n",
       "                                                subject  \\\n",
       "0                         china,foreign-policy,military   \n",
       "1                                           health-care   \n",
       "2              corporations,pundits,taxes,abc-news-week   \n",
       "3     candidates-biography,children,ethics,families,...   \n",
       "4                        health-care,labor,state-budget   \n",
       "...                                                 ...   \n",
       "8945         pensions,public-service,retirement,workers   \n",
       "8946                medicare,message-machine,retirement   \n",
       "8947                                        health-care   \n",
       "8948                                  elections,history   \n",
       "8949                            federal-budget,military   \n",
       "\n",
       "                         speaker                              speaker_job  \\\n",
       "0                   donald-trump                          President-Elect   \n",
       "1                     chris-dodd                             U.S. senator   \n",
       "2                  donna-brazile                    Political commentator   \n",
       "3                rebecca-bradley                                      NaN   \n",
       "4     republican-party-wisconsin                                      NaN   \n",
       "...                          ...                                      ...   \n",
       "8945              lincoln-chafee                                      NaN   \n",
       "8946                   dan-coats                                      NaN   \n",
       "8947           steve-southerland  U.S. Representative, Florida District 2   \n",
       "8948               newt-gingrich             Co-host on CNN's \"Crossfire\"   \n",
       "8949              betty-mccollum                      U.S. Representative   \n",
       "\n",
       "            state_info party_affiliation  \n",
       "0             New York        republican  \n",
       "1          Connecticut          democrat  \n",
       "2     Washington, D.C.          democrat  \n",
       "3                  NaN              none  \n",
       "4            Wisconsin        republican  \n",
       "...                ...               ...  \n",
       "8945      Rhode Island          democrat  \n",
       "8946           Indiana        republican  \n",
       "8947           Florida        republican  \n",
       "8948           Georgia        republican  \n",
       "8949         Minnesota          democrat  \n",
       "\n",
       "[8950 rows x 8 columns]"
      ]
     },
     "execution_count": 7,
     "metadata": {},
     "output_type": "execute_result"
    }
   ],
   "source": [
    "data"
   ]
  },
  {
   "cell_type": "code",
   "execution_count": 8,
   "id": "a0410d4a",
   "metadata": {},
   "outputs": [
    {
     "data": {
      "text/plain": [
       "(8950, 8)"
      ]
     },
     "execution_count": 8,
     "metadata": {},
     "output_type": "execute_result"
    }
   ],
   "source": [
    "data.shape"
   ]
  },
  {
   "cell_type": "markdown",
   "id": "c7b9b918",
   "metadata": {},
   "source": [
    "## Analisis de columnas"
   ]
  },
  {
   "cell_type": "code",
   "execution_count": 4,
   "id": "3fb39583",
   "metadata": {},
   "outputs": [
    {
     "name": "stdout",
     "output_type": "stream",
     "text": [
      "<class 'pandas.core.frame.DataFrame'>\n",
      "RangeIndex: 8950 entries, 0 to 8949\n",
      "Data columns (total 8 columns):\n",
      " #   Column             Non-Null Count  Dtype \n",
      "---  ------             --------------  ----- \n",
      " 0   id                 8950 non-null   object\n",
      " 1   label              8950 non-null   int64 \n",
      " 2   statement          8950 non-null   object\n",
      " 3   subject            8950 non-null   object\n",
      " 4   speaker            8950 non-null   object\n",
      " 5   speaker_job        6468 non-null   object\n",
      " 6   state_info         7020 non-null   object\n",
      " 7   party_affiliation  8950 non-null   object\n",
      "dtypes: int64(1), object(7)\n",
      "memory usage: 559.5+ KB\n"
     ]
    }
   ],
   "source": [
    "data.info()"
   ]
  },
  {
   "cell_type": "code",
   "execution_count": null,
   "id": "32d83808",
   "metadata": {},
   "outputs": [
    {
     "name": "stdout",
     "output_type": "stream",
     "text": [
      "Valores nulos por columna:\n",
      "id                      0\n",
      "label                   0\n",
      "statement               0\n",
      "subject                 0\n",
      "speaker                 0\n",
      "speaker_job          2482\n",
      "state_info           1930\n",
      "party_affiliation       0\n",
      "dtype: int64 \n",
      "\n"
     ]
    }
   ],
   "source": [
    "# Identificación de valores nulos\n",
    "print(\"Valores nulos por columna:\")\n",
    "print(data.isnull().sum(), \"\\n\")"
   ]
  },
  {
   "cell_type": "code",
   "execution_count": 13,
   "id": "258461c4",
   "metadata": {},
   "outputs": [
    {
     "name": "stdout",
     "output_type": "stream",
     "text": [
      "Valores únicos por columna:\n",
      "Columna 'id':\n",
      "['81f884c64a7' '30c2723a188' '6936b216e5d' ... '7c57fa8e81c' '2375e3cf4b7'\n",
      " '5ae9b14e6e5']\n",
      "Cantidad de valores únicos: 8950\n",
      "\n",
      "Columna 'label':\n",
      "[1 0]\n",
      "Cantidad de valores únicos: 2\n",
      "\n",
      "Columna 'statement':\n",
      "['China is in the South China Sea and (building)a military fortress the likes of which perhaps the world has not seen.'\n",
      " 'With the resources it takes to execute just over three months of the Iraq war, we could fully fund the expansion of health care for needy children that Bush vetoed.'\n",
      " 'The (Wisconsin) governor has proposed tax giveaways to corporations.'\n",
      " ...\n",
      " 'The health insurance plan that (members of Congress) have is no different than any other federal employees in the United States government.'\n",
      " 'No one in American history has moved from a June 16 announcement to a May 26 winning of a majority. Trumps achievement is remarkable.'\n",
      " 'Says the Army is spending $7 million to sponsor a NASCAR team.']\n",
      "Cantidad de valores únicos: 8939\n",
      "\n",
      "Columna 'subject':\n",
      "['china,foreign-policy,military' 'health-care'\n",
      " 'corporations,pundits,taxes,abc-news-week' ...\n",
      " 'candidates-biography,corporations,energy,environment,oil-spill,pundits'\n",
      " 'pensions,public-service,retirement,workers'\n",
      " 'medicare,message-machine,retirement']\n",
      "Cantidad de valores únicos: 3409\n",
      "\n",
      "Columna 'speaker':\n",
      "['donald-trump' 'chris-dodd' 'donna-brazile' ...\n",
      " 'state-public-service-announcement' 'dan-coats' 'betty-mccollum']\n",
      "Cantidad de valores únicos: 2634\n",
      "\n",
      "Columna 'speaker_job':\n",
      "['President-Elect' 'U.S. senator' 'Political commentator' ...\n",
      " 'Cleveland city councilman'\n",
      " 'director, Department of Economic Development, Providence, R.I.'\n",
      " 'promoting safe driving']\n",
      "Cantidad de valores únicos: 1091\n",
      "\n",
      "Columna 'state_info':\n",
      "['New York' 'Connecticut' 'Washington, D.C.' nan 'Wisconsin'\n",
      " 'Rhode Island' 'Illinois' 'Vermont' 'Texas' 'Florida' 'New Hampshire'\n",
      " 'Ohio' 'New Jersey' 'Arizona' 'Washington' 'Georgia' 'Oregon' 'New York '\n",
      " 'Massachusetts' 'California' 'Virginia' 'Minnesota' 'Delaware'\n",
      " 'Pennsylvania' 'Alaska' 'South Carolina' 'Utah' 'Colorado' 'New Mexico'\n",
      " 'Indiana' 'Arkansas' 'Tennessee' 'Maryland' 'Kentucky' 'Kansas'\n",
      " 'Missouri' 'Nevada' 'North Carolina' 'Washington state' 'Hawaii'\n",
      " 'Washington, D.C. ' 'Louisiana' 'West Virginia' 'Alabama' 'North Dakota'\n",
      " 'Iowa' 'Mississippi' 'Oregon ' 'the United States' 'Oklahoma' 'Michigan'\n",
      " 'ohio' 'District of Columbia' 'Wyoming' 'Georgia ' 'South Dakota' 'Idaho'\n",
      " 'Massachusetts ' 'Rhode Island ' 'Virgina' 'Atlanta' 'Unknown'\n",
      " 'Illinois ' 'Montana' 'Colorado ' 'China' 'Wisconsin ' 'California '\n",
      " 'Virginia ' 'Washington D.C.' 'Florida ' 'Tennesse' 'New Hampshire '\n",
      " 'Virginia director, Coalition to Stop Gun Violence' 'Rhode island'\n",
      " 'Nebraska' 'Qatar' 'Russia' 'Georgia  ']\n",
      "Cantidad de valores únicos: 79\n",
      "\n",
      "Columna 'party_affiliation':\n",
      "['republican' 'democrat' 'none' 'independent' 'journalist' 'organization'\n",
      " 'talk-show-host' 'tea-party-member' 'activist' 'constitution-party'\n",
      " 'libertarian' 'state-official' 'columnist' 'newsmaker' 'Moderate'\n",
      " 'business-leader' 'labor-leader' 'education-official'\n",
      " 'county-commissioner' 'green' 'liberal-party-canada'\n",
      " 'ocean-state-tea-party-action' 'government-body'\n",
      " 'democratic-farmer-labor']\n",
      "Cantidad de valores únicos: 24\n",
      "\n"
     ]
    }
   ],
   "source": [
    "# Mostrar los valores únicos de cada columna\n",
    "print(\"Valores únicos por columna:\")\n",
    "for column in data.columns:\n",
    "    print(f\"Columna '{column}':\")\n",
    "    valores_unicos = data[column].unique()\n",
    "    print(valores_unicos)\n",
    "    print(f\"Cantidad de valores únicos: {len(valores_unicos)}\")\n",
    "    print()\n"
   ]
  },
  {
   "cell_type": "code",
   "execution_count": null,
   "id": "f1f6d1cb",
   "metadata": {},
   "outputs": [],
   "source": [
    "# Rellenar los valores nulos con \"non-define\"\n",
    "data['speaker_job'] = data['speaker_job'].fillna('non-define')\n",
    "data['state_info'] = data['state_info'].fillna('non-define')"
   ]
  },
  {
   "cell_type": "code",
   "execution_count": 15,
   "id": "11fc7374",
   "metadata": {},
   "outputs": [
    {
     "name": "stdout",
     "output_type": "stream",
     "text": [
      "Valores nulos por columna:\n",
      "id                   0\n",
      "label                0\n",
      "statement            0\n",
      "subject              0\n",
      "speaker              0\n",
      "speaker_job          0\n",
      "state_info           0\n",
      "party_affiliation    0\n",
      "dtype: int64 \n",
      "\n"
     ]
    }
   ],
   "source": [
    "# Identificación de valores nulos\n",
    "print(\"Valores nulos por columna:\")\n",
    "print(data.isnull().sum(), \"\\n\")"
   ]
  },
  {
   "cell_type": "code",
   "execution_count": 12,
   "id": "73f17a11",
   "metadata": {},
   "outputs": [
    {
     "name": "stdout",
     "output_type": "stream",
     "text": [
      "Número de filas duplicadas:\n",
      "0 \n",
      "\n"
     ]
    }
   ],
   "source": [
    "#  Comprobación de duplicados\n",
    "print(\"Número de filas duplicadas:\")\n",
    "print(data.duplicated().sum(), \"\\n\")"
   ]
  },
  {
   "cell_type": "markdown",
   "id": "704019a8",
   "metadata": {},
   "source": [
    "### party_affiliation"
   ]
  },
  {
   "cell_type": "code",
   "execution_count": 16,
   "id": "be0861fc",
   "metadata": {},
   "outputs": [
    {
     "name": "stdout",
     "output_type": "stream",
     "text": [
      "party_affiliation\n",
      "republican                      3947\n",
      "democrat                        2898\n",
      "none                            1531\n",
      "organization                     197\n",
      "independent                      130\n",
      "newsmaker                         41\n",
      "journalist                        37\n",
      "libertarian                       34\n",
      "columnist                         32\n",
      "activist                          30\n",
      "talk-show-host                    23\n",
      "state-official                    14\n",
      "tea-party-member                   8\n",
      "business-leader                    8\n",
      "labor-leader                       7\n",
      "green                              3\n",
      "constitution-party                 2\n",
      "education-official                 2\n",
      "Moderate                           1\n",
      "county-commissioner                1\n",
      "liberal-party-canada               1\n",
      "ocean-state-tea-party-action       1\n",
      "government-body                    1\n",
      "democratic-farmer-labor            1\n",
      "Name: count, dtype: int64\n"
     ]
    }
   ],
   "source": [
    "party_counts = data['party_affiliation'].value_counts()\n",
    "print(party_counts)"
   ]
  },
  {
   "cell_type": "markdown",
   "id": "071eb540",
   "metadata": {},
   "source": [
    "Republican - uno de los dos partidos principales en los EE. UU.  Los republicanos generalmente favorecen políticas que promueven el libre mercado, el control del gasto público y una postura más rígida en temas de seguridad y justicia social.\n",
    "Democrat  - otro de los principales partidos políticos en los EE. UU. Los demócratas apoyan el gobierno activo en la regulación del mercado, la implementación de políticas sociales y la protección de los derechos civiles.\n",
    "None - Este perfil hace referencia a personas o entidades que no se identifican con un partido político específico. Pueden ser apolíticos o simplemente no alinearse con ninguna ideología predominante.\n",
    "Organization - Se refiere a grupos u organizaciones que no son partidos políticos, pero que tienen una influencia significativa en la política, como ONGs.\n",
    "Independent - Los independientes son personas que no están afiliadas a ningún partido político. \n",
    "Newsmaker -  Los newsmakers son influyentes en la política debido a su capacidad para generar atención mediática y moldear la opinión pública.\n",
    "Journalist - Este perfil se refiere a los periodistas, quienes informan sobre eventos y desarrollos en el ámbito político, social y económico.\n",
    "Libertarian - Los libertarios abogan por una política de mínimo gobierno y máxima libertad individual, promoviendo el libre mercado y la protección de los derechos personales. Los libertarios suelen alinearse con el Partido Libertario o adoptar una postura independiente. - Independent\n",
    "Columnist - Los columnistas son escritores que expresan opiniones y análisis sobre temas políticos y sociales. - Independent\n",
    "Activist - Pueden estar afiliados a partidos políticos, pero a menudo son más conocidos por su militancia. - Independent\n",
    "Talk-show Host - Los presentadores de talk shows - Media\n",
    "State Official - Los funcionarios estatales son individuos que ocupan cargos públicos en los gobiernos estatales. \n",
    "Tea Party Member - Los miembros del Tea Party son individuos que apoyan este movimiento político de ideología conservadora dentro del Partido Republicano. - Republican\n",
    "Business Leader - e refiere a personas influyentes en el mundo de los negocios, como ejecutivos de grandes empresas. - Organization\n",
    "Labor Leader - Los líderes sindicales suelen estar alineados con el Partido Demócrata en los EE. UU., y su enfoque está centrado en la justicia social y los derechos laborales. - Democrata\n",
    "Green - El Partido Verde aboga por políticas ambientales, la lucha contra el cambio climático y la justicia social. Independiente\n",
    "Constitution Party -  El Constitution Party es un partido político conservador en EE. UU. que aboga por una estricta interpretación de la Constitución y promueve el federalismo.\n",
    "Education Official - s funcionarios de educación son responsables de implementar políticas educativas y su ideología influye en cómo se gestionan los sistemas educativos.\n",
    "Moderate  - Un moderado es una persona que no se identifica con una ideología política extrema, sino que busca un enfoque equilibrado entre los diferentes espectros políticos. \n",
    "County Commissioner - Un comisionado de condado es un funcionario local que administra los asuntos del gobierno del condado. - State Official\n",
    "Liberal Party Canada - El Partido Liberal de Canadá es un partido político progresista que promueve políticas sociales, económicas y ambientales. - Liberirial \n",
    "Ocean State Tea Party Action -  Se refiere a un grupo de activismo político en Rhode Island relacionado con el movimiento Tea Party. - Tea PArty - Republican\n",
    "Government Body - Hace referencia a un órgano o institución del gobierno que no se alinea con un partido político específico.\n",
    "Democratic-Farmer-Labor - Este es un partido político que fue precursor del Partido Demócrata moderno - Democrata"
   ]
  },
  {
   "cell_type": "code",
   "execution_count": null,
   "id": "e7ca7f66",
   "metadata": {},
   "outputs": [],
   "source": []
  }
 ],
 "metadata": {
  "kernelspec": {
   "display_name": "base",
   "language": "python",
   "name": "python3"
  },
  "language_info": {
   "codemirror_mode": {
    "name": "ipython",
    "version": 3
   },
   "file_extension": ".py",
   "mimetype": "text/x-python",
   "name": "python",
   "nbconvert_exporter": "python",
   "pygments_lexer": "ipython3",
   "version": "3.11.7"
  }
 },
 "nbformat": 4,
 "nbformat_minor": 5
}
