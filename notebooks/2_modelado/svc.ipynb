{
 "cells": [
  {
   "cell_type": "markdown",
   "id": "c5ecad52",
   "metadata": {},
   "source": [
    "# Modelo SVC para detección de noticias falsas\n",
    "\n",
    "En este notebook, vamos a entrenar un modelo de clasificación utilizando **Support Vector Classification (SVC)** para predecir si una afirmación política es **verdadera** o **falsa**. El dataset proporcionado contiene afirmaciones etiquetadas junto con metadatos como el tema, el hablante, la ocupación del hablante y la afiliación política."
   ]
  },
  {
   "cell_type": "code",
   "execution_count": 85,
   "id": "2c983569",
   "metadata": {},
   "outputs": [],
   "source": [
    "# Cargar las bibliotecas necesarias\n",
    "import pandas as pd\n",
    "import numpy as np\n",
    "from sklearn.model_selection import train_test_split\n",
    "from sklearn.preprocessing import StandardScaler, LabelEncoder\n",
    "from sklearn.feature_extraction.text import TfidfVectorizer\n",
    "from sklearn.svm import SVC\n",
    "from sklearn.model_selection import GridSearchCV\n",
    "from sklearn.metrics import accuracy_score, precision_score, recall_score, f1_score\n",
    "from sklearn.metrics import classification_report, confusion_matrix\n"
   ]
  },
  {
   "cell_type": "code",
   "execution_count": 86,
   "id": "116400cc",
   "metadata": {},
   "outputs": [],
   "source": [
    "# Cargar los datasets limpios\n",
    "train_data = pd.read_csv('/home/ines/dev/CDAW_RETO_II/LBBYs_CH2/notebooks/2_modelado/train_data_cleaned.csv')\n",
    "test_data = pd.read_csv('/home/ines/dev/CDAW_RETO_II/LBBYs_CH2/notebooks/2_modelado/test_data_cleaned.csv')"
   ]
  },
  {
   "cell_type": "code",
   "execution_count": 87,
   "id": "aae622a5",
   "metadata": {},
   "outputs": [],
   "source": [
    "# Funciones de preprocesamiento\n",
    "def preprocess_text(text_column, max_features=1000):\n",
    "    tokenizer = TfidfVectorizer(max_features=max_features)\n",
    "    X_text = tokenizer.fit_transform(text_column).toarray()  # Convertir a una matriz densa\n",
    "    return X_text\n",
    "\n",
    "def preprocess_metadata(df):\n",
    "    label_encoder = LabelEncoder()\n",
    "    df['subject_encoded'] = label_encoder.fit_transform(df['subject'])\n",
    "    df['speaker_encoded'] = label_encoder.fit_transform(df['speaker'])  # Ajuste aquí\n",
    "    state_info_columns = [col for col in df.columns if col.startswith('state_info')]\n",
    "    for col in state_info_columns:\n",
    "        df[col] = df[col].apply(lambda x: 1 if isinstance(x, str) and len(x) > 0 else 0)\n",
    "    df['state_info_encoded'] = df[state_info_columns].sum(axis=1)\n",
    "    df['party_affiliation_encoded'] = label_encoder.fit_transform(df['party_affiliation'])\n",
    "    metadata = df[['subject_encoded', 'speaker_encoded', 'state_info_encoded', 'party_affiliation_encoded']]\n",
    "    return metadata"
   ]
  },
  {
   "cell_type": "code",
   "execution_count": 88,
   "id": "9bc80499",
   "metadata": {},
   "outputs": [],
   "source": [
    "# Preprocesar texto y metadatos\n",
    "X_text = preprocess_text(train_data['statement'])\n",
    "X_metadata = preprocess_metadata(train_data)"
   ]
  },
  {
   "cell_type": "code",
   "execution_count": 89,
   "id": "c36038c9",
   "metadata": {},
   "outputs": [],
   "source": [
    "# Escalar los metadatos\n",
    "scaler = StandardScaler()\n",
    "X_metadata_scaled = scaler.fit_transform(X_metadata)\n",
    "\n",
    "# Unir texto y metadatos\n",
    "X_final = np.concatenate([X_text, X_metadata_scaled], axis=1)\n",
    "y = train_data['label'].values\n"
   ]
  },
  {
   "cell_type": "markdown",
   "id": "2491ef9e",
   "metadata": {},
   "source": [
    "### 1. Entrenamiento simple SVC kernel linear"
   ]
  },
  {
   "cell_type": "code",
   "execution_count": 90,
   "id": "10287f8e",
   "metadata": {},
   "outputs": [],
   "source": [
    "# Dividir en conjunto de entrenamiento y prueba\n",
    "X_train, X_test, y_train, y_test = train_test_split(X_final, y, test_size=0.2, random_state=42)\n",
    "\n",
    "# Entrenamiento del modelo SVC kernel lineal\n",
    "model_svc = SVC(kernel='linear')\n",
    "model_svc.fit(X_train, y_train)\n",
    "\n",
    "# Predicciones y evaluación\n",
    "y_pred_svc = model_svc.predict(X_test)\n",
    "svc_report = classification_report(y_test, y_pred_svc)\n",
    "svc_conf_matrix = confusion_matrix(y_test, y_pred_svc)\n",
    "\n",
    "# Calcular las métricas\n",
    "accuracy = accuracy_score(y_test, y_pred_svc)\n",
    "precision = precision_score(y_test, y_pred_svc)\n",
    "recall = recall_score(y_test, y_pred_svc)\n",
    "f1 = f1_score(y_test, y_pred_svc)\n",
    "\n"
   ]
  },
  {
   "cell_type": "code",
   "execution_count": 91,
   "id": "a8206191",
   "metadata": {},
   "outputs": [
    {
     "name": "stdout",
     "output_type": "stream",
     "text": [
      "              precision    recall  f1-score   support\n",
      "\n",
      "           0       0.46      0.26      0.33       611\n",
      "           1       0.69      0.84      0.76      1179\n",
      "\n",
      "    accuracy                           0.64      1790\n",
      "   macro avg       0.57      0.55      0.54      1790\n",
      "weighted avg       0.61      0.64      0.61      1790\n",
      "\n",
      "[[157 454]\n",
      " [184 995]]\n"
     ]
    }
   ],
   "source": [
    "# Mostrar resultados\n",
    "print(svc_report)\n",
    "print(svc_conf_matrix)"
   ]
  },
  {
   "cell_type": "markdown",
   "id": "23ecc552",
   "metadata": {},
   "source": [
    "### 2. Entrenamiento usando GridSearchCV (SVC con kernel linear y rbf)"
   ]
  },
  {
   "cell_type": "code",
   "execution_count": 92,
   "id": "eab222ce",
   "metadata": {},
   "outputs": [
    {
     "name": "stdout",
     "output_type": "stream",
     "text": [
      "Mejores parámetros encontrados: {'C': 1, 'gamma': 'scale', 'kernel': 'rbf'}\n"
     ]
    }
   ],
   "source": [
    "# Definir los parámetros a probar\n",
    "param_grid = {\n",
    "    'C': [0.1, 1, 10, 100],  # Probar diferentes valores de C (regularización)\n",
    "    'gamma': ['scale', 'auto', 0.01, 0.1, 1],  # Probar diferentes valores de gamma\n",
    "    'kernel': ['linear', 'rbf']  # Probar con kernels lineales y RBF\n",
    "}\n",
    "\n",
    "# Crear el modelo SVC\n",
    "svc = SVC()\n",
    "\n",
    "# Aplicar GridSearchCV para encontrar la mejor combinación de parámetros\n",
    "grid_search = GridSearchCV(svc, param_grid, scoring='accuracy', cv=5, n_jobs=-1)\n",
    "grid_search.fit(X_train, y_train)\n",
    "\n",
    "# Mostrar los mejores parámetros encontrados\n",
    "best_params = grid_search.best_params_\n",
    "print(f\"Mejores parámetros encontrados: {best_params}\")\n",
    "\n",
    "# Mejor modelo encontrado\n",
    "best_model = grid_search.best_estimator_\n",
    "\n",
    "# Evaluar el modelo con los mejores parámetros\n",
    "y_pred = best_model.predict(X_test)\n",
    "\n",
    "# Calcular métricas de rendimiento\n",
    "accuracy = accuracy_score(y_test, y_pred)\n",
    "precision = precision_score(y_test, y_pred)\n",
    "recall = recall_score(y_test, y_pred)\n",
    "f1 = f1_score(y_test, y_pred)\n",
    "\n",
    "# Predicciones y evaluación\n",
    "y_pred_svc = model_svc.predict(X_test)\n",
    "svc_report = classification_report(y_test, y_pred_svc)\n",
    "svc_conf_matrix = confusion_matrix(y_test, y_pred_svc)\n"
   ]
  },
  {
   "cell_type": "code",
   "execution_count": 93,
   "id": "d30e4202",
   "metadata": {},
   "outputs": [
    {
     "name": "stdout",
     "output_type": "stream",
     "text": [
      "              precision    recall  f1-score   support\n",
      "\n",
      "           0       0.46      0.26      0.33       611\n",
      "           1       0.69      0.84      0.76      1179\n",
      "\n",
      "    accuracy                           0.64      1790\n",
      "   macro avg       0.57      0.55      0.54      1790\n",
      "weighted avg       0.61      0.64      0.61      1790\n",
      "\n",
      "[[157 454]\n",
      " [184 995]]\n"
     ]
    }
   ],
   "source": [
    "# Mostrar resultados\n",
    "print(svc_report)\n",
    "print(svc_conf_matrix)"
   ]
  }
 ],
 "metadata": {
  "language_info": {
   "name": "python"
  }
 },
 "nbformat": 4,
 "nbformat_minor": 5
}
