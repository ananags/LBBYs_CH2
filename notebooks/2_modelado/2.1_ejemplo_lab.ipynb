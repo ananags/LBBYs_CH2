{
 "cells": [
  {
   "cell_type": "markdown",
   "metadata": {},
   "source": [
    "# Procesado "
   ]
  },
  {
   "cell_type": "markdown",
   "metadata": {},
   "source": []
  },
  {
   "cell_type": "code",
   "execution_count": 2,
   "metadata": {},
   "outputs": [],
   "source": [
    "import pandas as pd\n",
    "from sklearn.model_selection import train_test_split\n",
    "from sklearn.feature_extraction.text import CountVectorizer, TfidfTransformer, TfidfVectorizer\n",
    "from sklearn.svm import LinearSVC\n",
    "from sklearn.metrics import accuracy_score, classification_report, confusion_matrix\n",
    "import joblib"
   ]
  },
  {
   "cell_type": "code",
   "execution_count": 2,
   "metadata": {},
   "outputs": [],
   "source": [
    "df = pd.read_csv(\"../../data/processed/train_preprocess_v1.csv\")"
   ]
  },
  {
   "cell_type": "markdown",
   "metadata": {},
   "source": [
    "## Procesado inicial "
   ]
  },
  {
   "cell_type": "code",
   "execution_count": 6,
   "metadata": {},
   "outputs": [
    {
     "name": "stdout",
     "output_type": "stream",
     "text": [
      "<class 'pandas.core.frame.DataFrame'>\n",
      "RangeIndex: 8950 entries, 0 to 8949\n",
      "Data columns (total 31 columns):\n",
      " #   Column                              Non-Null Count  Dtype \n",
      "---  ------                              --------------  ----- \n",
      " 0   id                                  8950 non-null   object\n",
      " 1   label                               8950 non-null   int64 \n",
      " 2   statement                           8950 non-null   object\n",
      " 3   subject                             8950 non-null   object\n",
      " 4   speaker                             8950 non-null   object\n",
      " 5   speaker_job                         8950 non-null   object\n",
      " 6   state_info                          8950 non-null   object\n",
      " 7   party_affiliation                   8950 non-null   object\n",
      " 8   party_affiliation_uni               8950 non-null   object\n",
      " 9   party_affiliation_category_map      8950 non-null   object\n",
      " 10  statement_tokens                    8950 non-null   object\n",
      " 11  num_tokens                          8950 non-null   int64 \n",
      " 12  num_sentences                       8950 non-null   int64 \n",
      " 13  pos_info                            8950 non-null   object\n",
      " 14  pos_freq                            8950 non-null   object\n",
      " 15  lemma_freq                          8950 non-null   object\n",
      " 16  tag_freq                            8950 non-null   object\n",
      " 17  entities                            8950 non-null   object\n",
      " 18  stopwords                           8950 non-null   object\n",
      " 19  statement_tokens_without_stopwords  8950 non-null   object\n",
      " 20  num_tokens_without_stopwords        8950 non-null   int64 \n",
      " 21  pos_info_without_stopwords          8950 non-null   object\n",
      " 22  pos_freq_without_stopwords          8950 non-null   object\n",
      " 23  lemma_freq_without_stopwords        8950 non-null   object\n",
      " 24  tag_freq_without_stopwords          8950 non-null   object\n",
      " 25  processed_subject                   8950 non-null   object\n",
      " 26  speaker_entities                    8950 non-null   object\n",
      " 27  speaker_type                        8950 non-null   object\n",
      " 28  speaker_job_tokens                  8950 non-null   object\n",
      " 29  state_info_tokens                   8950 non-null   object\n",
      " 30  party_affiliation_tokens            8950 non-null   object\n",
      "dtypes: int64(4), object(27)\n",
      "memory usage: 2.1+ MB\n"
     ]
    }
   ],
   "source": [
    "df.info()"
   ]
  },
  {
   "cell_type": "markdown",
   "metadata": {},
   "source": [
    "Seleccion de categorias a a modelar"
   ]
  },
  {
   "cell_type": "code",
   "execution_count": 7,
   "metadata": {},
   "outputs": [],
   "source": [
    "X = df['statement']\n",
    "y = df['label']"
   ]
  },
  {
   "cell_type": "code",
   "execution_count": 8,
   "metadata": {},
   "outputs": [
    {
     "name": "stdout",
     "output_type": "stream",
     "text": [
      "Accuracy: 0.6208530805687204\n",
      "Classification Report:\n",
      "              precision    recall  f1-score   support\n",
      "\n",
      "           0       0.44      0.38      0.40      1014\n",
      "           1       0.70      0.75      0.72      1940\n",
      "\n",
      "    accuracy                           0.62      2954\n",
      "   macro avg       0.57      0.56      0.56      2954\n",
      "weighted avg       0.61      0.62      0.61      2954\n",
      "\n",
      "Confusion Matrix:\n",
      "[[ 381  633]\n",
      " [ 487 1453]]\n"
     ]
    }
   ],
   "source": [
    "X_train, X_test, y_train, y_test = train_test_split(X, y, test_size=0.33, random_state=42)\n",
    "\n",
    "count_vect = CountVectorizer()\n",
    "X_train_counts = count_vect.fit_transform(X_train)\n",
    "\n",
    "tfidf_transformer = TfidfTransformer()\n",
    "X_train_tfidf = tfidf_transformer.fit_transform(X_train_counts)\n",
    "\n",
    "vectorizer = TfidfVectorizer()\n",
    "X_train_tfidf = vectorizer.fit_transform(X_train)\n",
    "\n",
    "clf = LinearSVC()\n",
    "clf.fit(X_train_tfidf, y_train)\n",
    "\n",
    "X_test_tfidf = vectorizer.transform(X_test)\n",
    "\n",
    "y_pred = clf.predict(X_test_tfidf)\n",
    "\n",
    "accuracy = accuracy_score(y_test, y_pred)\n",
    "print(f'Accuracy: {accuracy}')\n",
    "print('Classification Report:')\n",
    "print(classification_report(y_test, y_pred))\n",
    "print('Confusion Matrix:')\n",
    "print(confusion_matrix(y_test, y_pred))\n",
    "\n"
   ]
  },
  {
   "cell_type": "code",
   "execution_count": 7,
   "metadata": {},
   "outputs": [
    {
     "name": "stdout",
     "output_type": "stream",
     "text": [
      "Fitting 5 folds for each of 6 candidates, totalling 30 fits\n",
      "[CV] END .........clf__C=0.5, prep__text__ngram_range=(1, 2); total time=   0.4s\n",
      "[CV] END .........clf__C=0.5, prep__text__ngram_range=(1, 2); total time=   0.4s\n",
      "[CV] END .........clf__C=0.5, prep__text__ngram_range=(1, 2); total time=   0.5s\n",
      "[CV] END .........clf__C=0.5, prep__text__ngram_range=(1, 2); total time=   0.5s\n",
      "[CV] END .........clf__C=0.5, prep__text__ngram_range=(1, 2); total time=   0.5s\n",
      "[CV] END .........clf__C=0.5, prep__text__ngram_range=(1, 3); total time=   0.5s\n",
      "[CV] END .........clf__C=0.5, prep__text__ngram_range=(1, 3); total time=   0.6s\n",
      "[CV] END .........clf__C=0.5, prep__text__ngram_range=(1, 3); total time=   0.4s\n",
      "[CV] END .........clf__C=0.5, prep__text__ngram_range=(1, 3); total time=   0.4s\n",
      "[CV] END .........clf__C=0.5, prep__text__ngram_range=(1, 3); total time=   0.5s\n",
      "[CV] END ...........clf__C=1, prep__text__ngram_range=(1, 2); total time=   0.3s\n",
      "[CV] END ...........clf__C=1, prep__text__ngram_range=(1, 2); total time=   0.4s\n",
      "[CV] END ...........clf__C=1, prep__text__ngram_range=(1, 2); total time=   0.3s\n",
      "[CV] END ...........clf__C=1, prep__text__ngram_range=(1, 2); total time=   0.3s\n",
      "[CV] END ...........clf__C=1, prep__text__ngram_range=(1, 2); total time=   0.3s\n",
      "[CV] END ...........clf__C=1, prep__text__ngram_range=(1, 3); total time=   0.4s\n",
      "[CV] END ...........clf__C=1, prep__text__ngram_range=(1, 3); total time=   0.3s\n",
      "[CV] END ...........clf__C=1, prep__text__ngram_range=(1, 3); total time=   0.3s\n",
      "[CV] END ...........clf__C=1, prep__text__ngram_range=(1, 3); total time=   0.4s\n",
      "[CV] END ...........clf__C=1, prep__text__ngram_range=(1, 3); total time=   0.4s\n",
      "[CV] END ...........clf__C=2, prep__text__ngram_range=(1, 2); total time=   0.4s\n",
      "[CV] END ...........clf__C=2, prep__text__ngram_range=(1, 2); total time=   0.3s\n",
      "[CV] END ...........clf__C=2, prep__text__ngram_range=(1, 2); total time=   0.4s\n",
      "[CV] END ...........clf__C=2, prep__text__ngram_range=(1, 2); total time=   0.3s\n",
      "[CV] END ...........clf__C=2, prep__text__ngram_range=(1, 2); total time=   0.3s\n",
      "[CV] END ...........clf__C=2, prep__text__ngram_range=(1, 3); total time=   0.4s\n",
      "[CV] END ...........clf__C=2, prep__text__ngram_range=(1, 3); total time=   0.4s\n",
      "[CV] END ...........clf__C=2, prep__text__ngram_range=(1, 3); total time=   0.3s\n",
      "[CV] END ...........clf__C=2, prep__text__ngram_range=(1, 3); total time=   0.4s\n",
      "[CV] END ...........clf__C=2, prep__text__ngram_range=(1, 3); total time=   0.3s\n",
      "\n",
      " Mejor combinación: {'clf__C': 0.5, 'prep__text__ngram_range': (1, 3)}\n",
      "Mejor F1‑macro CV: 0.5731\n",
      "\n",
      "=========  MÉTRICAS EN TEST  =========\n",
      "Accuracy : 0.5982\n",
      "\n",
      "Classification Report:\n",
      "               precision    recall  f1-score   support\n",
      "\n",
      "           0     0.4330    0.4534    0.4430      1041\n",
      "           1     0.6947    0.6769    0.6857      1913\n",
      "\n",
      "    accuracy                         0.5982      2954\n",
      "   macro avg     0.5639    0.5652    0.5644      2954\n",
      "weighted avg     0.6025    0.5982    0.6002      2954\n",
      "\n",
      "Confusion Matrix:\n",
      " [[ 472  569]\n",
      " [ 618 1295]]\n"
     ]
    }
   ],
   "source": [
    "import pandas as pd\n",
    "from sklearn.model_selection import train_test_split, GridSearchCV\n",
    "from sklearn.compose import ColumnTransformer\n",
    "from sklearn.preprocessing import OneHotEncoder, StandardScaler\n",
    "from sklearn.feature_extraction.text import TfidfVectorizer\n",
    "from sklearn.linear_model import LogisticRegression\n",
    "from sklearn.metrics import classification_report, confusion_matrix, accuracy_score\n",
    "from imblearn.pipeline import Pipeline as ImbPipeline\n",
    "from imblearn.over_sampling import SMOTE\n",
    "from sklearn.svm import LinearSVC\n",
    "\n",
    "\n",
    "X = df.copy()\n",
    "y = df['label']\n",
    "\n",
    "X_train, X_test, y_train, y_test = train_test_split(X, y, test_size=0.33, random_state=42, stratify=y)\n",
    "\n",
    "text_col = 'statement'\n",
    "cat_cols  = ['subject', 'party_affiliation_uni', 'speaker_type']\n",
    "num_cols  = ['num_tokens', 'num_sentences', 'num_tokens_without_stopwords']\n",
    "\n",
    "# 6) Pre‑procesado\n",
    "txt_vect = TfidfVectorizer(\n",
    "            ngram_range=(1,2),\n",
    "            min_df=2, max_df=0.9,\n",
    "            sublinear_tf=True,\n",
    "            stop_words='english')\n",
    "\n",
    "preprocess = ColumnTransformer([\n",
    "        ('text', txt_vect, text_col),\n",
    "        ('cat',  OneHotEncoder(handle_unknown='ignore'), cat_cols)])\n",
    "\n",
    "pipe_svc = ImbPipeline(steps=[\n",
    "        ('prep', preprocess),\n",
    "        ('clf',  LinearSVC(class_weight='balanced'))\n",
    "\n",
    "])\n",
    "\n",
    "param_grid_svc = {\n",
    "    'prep__text__ngram_range': [(1,2), (1,3)],\n",
    "    'clf__C': [0.5, 1, 2]\n",
    "}\n",
    "\n",
    "grid_svc = GridSearchCV(pipe_svc,\n",
    "                        param_grid_svc,\n",
    "                        scoring='f1_macro',\n",
    "                        cv=5,\n",
    "                        n_jobs=-1,\n",
    "                        verbose=2)\n",
    "grid_svc.fit(X_train, y_train)\n",
    "\n",
    "print(\"\\n Mejor combinación:\", grid_svc.best_params_) \n",
    "print(\"Mejor F1‑macro CV:\", round(grid_svc.best_score_, 4)) \n",
    "\n",
    "# 10) Evaluación en test ------------------------------------------------------\n",
    "y_pred = grid_svc.predict(X_test)\n",
    "\n",
    "print(\"\\n=========  MÉTRICAS EN TEST  =========\")\n",
    "print(\"Accuracy :\", round(accuracy_score(y_test, y_pred), 4))\n",
    "print(\"\\nClassification Report:\\n\",\n",
    "      classification_report(y_test, y_pred, digits=4))\n",
    "print(\"Confusion Matrix:\\n\", confusion_matrix(y_test, y_pred))\n"
   ]
  },
  {
   "cell_type": "code",
   "execution_count": 8,
   "metadata": {},
   "outputs": [
    {
     "name": "stdout",
     "output_type": "stream",
     "text": [
      "Fitting 5 folds for each of 12 candidates, totalling 60 fits\n"
     ]
    },
    {
     "name": "stderr",
     "output_type": "stream",
     "text": [
      "/home/ana.garcia.suarez/LBBYs_CH2/venv/lib/python3.11/site-packages/sklearn/feature_selection/_univariate_selection.py:783: UserWarning: k=40000 is greater than n_features=7703. All the features will be returned.\n",
      "  warnings.warn(\n",
      "/home/ana.garcia.suarez/LBBYs_CH2/venv/lib/python3.11/site-packages/sklearn/feature_selection/_univariate_selection.py:783: UserWarning: k=40000 is greater than n_features=7616. All the features will be returned.\n",
      "  warnings.warn(\n",
      "/home/ana.garcia.suarez/LBBYs_CH2/venv/lib/python3.11/site-packages/sklearn/feature_selection/_univariate_selection.py:783: UserWarning: k=40000 is greater than n_features=7679. All the features will be returned.\n",
      "  warnings.warn(\n",
      "/home/ana.garcia.suarez/LBBYs_CH2/venv/lib/python3.11/site-packages/sklearn/feature_selection/_univariate_selection.py:783: UserWarning: k=40000 is greater than n_features=7622. All the features will be returned.\n",
      "  warnings.warn(\n"
     ]
    },
    {
     "name": "stdout",
     "output_type": "stream",
     "text": [
      "[CV] END ...clf__C=0.5, prep__text__vect__ngram_range=(1, 2); total time=   2.0s\n"
     ]
    },
    {
     "name": "stderr",
     "output_type": "stream",
     "text": [
      "/home/ana.garcia.suarez/LBBYs_CH2/venv/lib/python3.11/site-packages/sklearn/feature_selection/_univariate_selection.py:783: UserWarning: k=40000 is greater than n_features=7637. All the features will be returned.\n",
      "  warnings.warn(\n",
      "/home/ana.garcia.suarez/LBBYs_CH2/venv/lib/python3.11/site-packages/sklearn/svm/_base.py:1249: ConvergenceWarning: Liblinear failed to converge, increase the number of iterations.\n",
      "  warnings.warn(\n"
     ]
    },
    {
     "name": "stdout",
     "output_type": "stream",
     "text": [
      "[CV] END ...clf__C=0.5, prep__text__vect__ngram_range=(1, 2); total time=   7.7s\n",
      "[CV] END ...clf__C=0.5, prep__text__vect__ngram_range=(1, 2); total time=   7.8s\n"
     ]
    },
    {
     "name": "stderr",
     "output_type": "stream",
     "text": [
      "/home/ana.garcia.suarez/LBBYs_CH2/venv/lib/python3.11/site-packages/sklearn/feature_selection/_univariate_selection.py:783: UserWarning: k=40000 is greater than n_features=8675. All the features will be returned.\n",
      "  warnings.warn(\n",
      "/home/ana.garcia.suarez/LBBYs_CH2/venv/lib/python3.11/site-packages/sklearn/feature_selection/_univariate_selection.py:783: UserWarning: k=40000 is greater than n_features=8523. All the features will be returned.\n",
      "  warnings.warn(\n",
      "/home/ana.garcia.suarez/LBBYs_CH2/venv/lib/python3.11/site-packages/sklearn/svm/_base.py:1249: ConvergenceWarning: Liblinear failed to converge, increase the number of iterations.\n",
      "  warnings.warn(\n"
     ]
    },
    {
     "name": "stdout",
     "output_type": "stream",
     "text": [
      "[CV] END ...clf__C=0.5, prep__text__vect__ngram_range=(1, 2); total time=   8.5s\n"
     ]
    },
    {
     "name": "stderr",
     "output_type": "stream",
     "text": [
      "/home/ana.garcia.suarez/LBBYs_CH2/venv/lib/python3.11/site-packages/sklearn/feature_selection/_univariate_selection.py:783: UserWarning: k=40000 is greater than n_features=8610. All the features will be returned.\n",
      "  warnings.warn(\n",
      "/home/ana.garcia.suarez/LBBYs_CH2/venv/lib/python3.11/site-packages/sklearn/svm/_base.py:1249: ConvergenceWarning: Liblinear failed to converge, increase the number of iterations.\n",
      "  warnings.warn(\n"
     ]
    },
    {
     "name": "stdout",
     "output_type": "stream",
     "text": [
      "[CV] END ...clf__C=0.5, prep__text__vect__ngram_range=(1, 2); total time=   7.6s\n"
     ]
    },
    {
     "name": "stderr",
     "output_type": "stream",
     "text": [
      "/home/ana.garcia.suarez/LBBYs_CH2/venv/lib/python3.11/site-packages/sklearn/feature_selection/_univariate_selection.py:783: UserWarning: k=40000 is greater than n_features=8553. All the features will be returned.\n",
      "  warnings.warn(\n"
     ]
    },
    {
     "name": "stdout",
     "output_type": "stream",
     "text": [
      "[CV] END ...clf__C=0.5, prep__text__vect__ngram_range=(1, 3); total time=   2.8s\n"
     ]
    },
    {
     "name": "stderr",
     "output_type": "stream",
     "text": [
      "/home/ana.garcia.suarez/LBBYs_CH2/venv/lib/python3.11/site-packages/sklearn/feature_selection/_univariate_selection.py:783: UserWarning: k=40000 is greater than n_features=8556. All the features will be returned.\n",
      "  warnings.warn(\n",
      "/home/ana.garcia.suarez/LBBYs_CH2/venv/lib/python3.11/site-packages/sklearn/svm/_base.py:1249: ConvergenceWarning: Liblinear failed to converge, increase the number of iterations.\n",
      "  warnings.warn(\n"
     ]
    },
    {
     "name": "stdout",
     "output_type": "stream",
     "text": [
      "[CV] END ...clf__C=0.5, prep__text__vect__ngram_range=(1, 3); total time=   8.1s\n"
     ]
    },
    {
     "name": "stderr",
     "output_type": "stream",
     "text": [
      "/home/ana.garcia.suarez/LBBYs_CH2/venv/lib/python3.11/site-packages/sklearn/feature_selection/_univariate_selection.py:783: UserWarning: k=40000 is greater than n_features=7703. All the features will be returned.\n",
      "  warnings.warn(\n",
      "/home/ana.garcia.suarez/LBBYs_CH2/venv/lib/python3.11/site-packages/sklearn/svm/_base.py:1249: ConvergenceWarning: Liblinear failed to converge, increase the number of iterations.\n",
      "  warnings.warn(\n"
     ]
    },
    {
     "name": "stdout",
     "output_type": "stream",
     "text": [
      "[CV] END ...clf__C=0.5, prep__text__vect__ngram_range=(1, 3); total time=   8.3s\n"
     ]
    },
    {
     "name": "stderr",
     "output_type": "stream",
     "text": [
      "/home/ana.garcia.suarez/LBBYs_CH2/venv/lib/python3.11/site-packages/sklearn/feature_selection/_univariate_selection.py:783: UserWarning: k=40000 is greater than n_features=7616. All the features will be returned.\n",
      "  warnings.warn(\n",
      "/home/ana.garcia.suarez/LBBYs_CH2/venv/lib/python3.11/site-packages/sklearn/svm/_base.py:1249: ConvergenceWarning: Liblinear failed to converge, increase the number of iterations.\n",
      "  warnings.warn(\n"
     ]
    },
    {
     "name": "stdout",
     "output_type": "stream",
     "text": [
      "[CV] END ...clf__C=0.5, prep__text__vect__ngram_range=(1, 3); total time=   8.2s\n"
     ]
    },
    {
     "name": "stderr",
     "output_type": "stream",
     "text": [
      "/home/ana.garcia.suarez/LBBYs_CH2/venv/lib/python3.11/site-packages/sklearn/feature_selection/_univariate_selection.py:783: UserWarning: k=40000 is greater than n_features=7679. All the features will be returned.\n",
      "  warnings.warn(\n",
      "/home/ana.garcia.suarez/LBBYs_CH2/venv/lib/python3.11/site-packages/sklearn/svm/_base.py:1249: ConvergenceWarning: Liblinear failed to converge, increase the number of iterations.\n",
      "  warnings.warn(\n"
     ]
    },
    {
     "name": "stdout",
     "output_type": "stream",
     "text": [
      "[CV] END ...clf__C=0.5, prep__text__vect__ngram_range=(1, 3); total time=   8.4s\n"
     ]
    },
    {
     "name": "stderr",
     "output_type": "stream",
     "text": [
      "/home/ana.garcia.suarez/LBBYs_CH2/venv/lib/python3.11/site-packages/sklearn/feature_selection/_univariate_selection.py:783: UserWarning: k=40000 is greater than n_features=7622. All the features will be returned.\n",
      "  warnings.warn(\n"
     ]
    },
    {
     "name": "stdout",
     "output_type": "stream",
     "text": [
      "[CV] END .....clf__C=1, prep__text__vect__ngram_range=(1, 2); total time=   4.0s\n"
     ]
    },
    {
     "name": "stderr",
     "output_type": "stream",
     "text": [
      "/home/ana.garcia.suarez/LBBYs_CH2/venv/lib/python3.11/site-packages/sklearn/feature_selection/_univariate_selection.py:783: UserWarning: k=40000 is greater than n_features=7637. All the features will be returned.\n",
      "  warnings.warn(\n",
      "/home/ana.garcia.suarez/LBBYs_CH2/venv/lib/python3.11/site-packages/sklearn/svm/_base.py:1249: ConvergenceWarning: Liblinear failed to converge, increase the number of iterations.\n",
      "  warnings.warn(\n"
     ]
    },
    {
     "name": "stdout",
     "output_type": "stream",
     "text": [
      "[CV] END .....clf__C=1, prep__text__vect__ngram_range=(1, 2); total time=   7.9s\n"
     ]
    },
    {
     "name": "stderr",
     "output_type": "stream",
     "text": [
      "/home/ana.garcia.suarez/LBBYs_CH2/venv/lib/python3.11/site-packages/sklearn/feature_selection/_univariate_selection.py:783: UserWarning: k=40000 is greater than n_features=8675. All the features will be returned.\n",
      "  warnings.warn(\n",
      "/home/ana.garcia.suarez/LBBYs_CH2/venv/lib/python3.11/site-packages/sklearn/svm/_base.py:1249: ConvergenceWarning: Liblinear failed to converge, increase the number of iterations.\n",
      "  warnings.warn(\n"
     ]
    },
    {
     "name": "stdout",
     "output_type": "stream",
     "text": [
      "[CV] END .....clf__C=1, prep__text__vect__ngram_range=(1, 2); total time=   7.4s\n"
     ]
    },
    {
     "name": "stderr",
     "output_type": "stream",
     "text": [
      "/home/ana.garcia.suarez/LBBYs_CH2/venv/lib/python3.11/site-packages/sklearn/feature_selection/_univariate_selection.py:783: UserWarning: k=40000 is greater than n_features=8523. All the features will be returned.\n",
      "  warnings.warn(\n",
      "/home/ana.garcia.suarez/LBBYs_CH2/venv/lib/python3.11/site-packages/sklearn/svm/_base.py:1249: ConvergenceWarning: Liblinear failed to converge, increase the number of iterations.\n",
      "  warnings.warn(\n"
     ]
    },
    {
     "name": "stdout",
     "output_type": "stream",
     "text": [
      "[CV] END .....clf__C=1, prep__text__vect__ngram_range=(1, 2); total time=   7.1s\n"
     ]
    },
    {
     "name": "stderr",
     "output_type": "stream",
     "text": [
      "/home/ana.garcia.suarez/LBBYs_CH2/venv/lib/python3.11/site-packages/sklearn/feature_selection/_univariate_selection.py:783: UserWarning: k=40000 is greater than n_features=8610. All the features will be returned.\n",
      "  warnings.warn(\n",
      "/home/ana.garcia.suarez/LBBYs_CH2/venv/lib/python3.11/site-packages/sklearn/svm/_base.py:1249: ConvergenceWarning: Liblinear failed to converge, increase the number of iterations.\n",
      "  warnings.warn(\n"
     ]
    },
    {
     "name": "stdout",
     "output_type": "stream",
     "text": [
      "[CV] END .....clf__C=1, prep__text__vect__ngram_range=(1, 2); total time=   6.8s\n"
     ]
    },
    {
     "name": "stderr",
     "output_type": "stream",
     "text": [
      "/home/ana.garcia.suarez/LBBYs_CH2/venv/lib/python3.11/site-packages/sklearn/feature_selection/_univariate_selection.py:783: UserWarning: k=40000 is greater than n_features=8553. All the features will be returned.\n",
      "  warnings.warn(\n"
     ]
    },
    {
     "name": "stdout",
     "output_type": "stream",
     "text": [
      "[CV] END .....clf__C=1, prep__text__vect__ngram_range=(1, 3); total time=   2.9s\n"
     ]
    },
    {
     "name": "stderr",
     "output_type": "stream",
     "text": [
      "/home/ana.garcia.suarez/LBBYs_CH2/venv/lib/python3.11/site-packages/sklearn/feature_selection/_univariate_selection.py:783: UserWarning: k=40000 is greater than n_features=8556. All the features will be returned.\n",
      "  warnings.warn(\n",
      "/home/ana.garcia.suarez/LBBYs_CH2/venv/lib/python3.11/site-packages/sklearn/svm/_base.py:1249: ConvergenceWarning: Liblinear failed to converge, increase the number of iterations.\n",
      "  warnings.warn(\n"
     ]
    },
    {
     "name": "stdout",
     "output_type": "stream",
     "text": [
      "[CV] END .....clf__C=1, prep__text__vect__ngram_range=(1, 3); total time=   7.3s\n"
     ]
    },
    {
     "name": "stderr",
     "output_type": "stream",
     "text": [
      "/home/ana.garcia.suarez/LBBYs_CH2/venv/lib/python3.11/site-packages/sklearn/feature_selection/_univariate_selection.py:783: UserWarning: k=40000 is greater than n_features=7703. All the features will be returned.\n",
      "  warnings.warn(\n",
      "/home/ana.garcia.suarez/LBBYs_CH2/venv/lib/python3.11/site-packages/sklearn/svm/_base.py:1249: ConvergenceWarning: Liblinear failed to converge, increase the number of iterations.\n",
      "  warnings.warn(\n"
     ]
    },
    {
     "name": "stdout",
     "output_type": "stream",
     "text": [
      "[CV] END .....clf__C=1, prep__text__vect__ngram_range=(1, 3); total time=   7.6s\n"
     ]
    },
    {
     "name": "stderr",
     "output_type": "stream",
     "text": [
      "/home/ana.garcia.suarez/LBBYs_CH2/venv/lib/python3.11/site-packages/sklearn/feature_selection/_univariate_selection.py:783: UserWarning: k=40000 is greater than n_features=7616. All the features will be returned.\n",
      "  warnings.warn(\n",
      "/home/ana.garcia.suarez/LBBYs_CH2/venv/lib/python3.11/site-packages/sklearn/svm/_base.py:1249: ConvergenceWarning: Liblinear failed to converge, increase the number of iterations.\n",
      "  warnings.warn(\n"
     ]
    },
    {
     "name": "stdout",
     "output_type": "stream",
     "text": [
      "[CV] END .....clf__C=1, prep__text__vect__ngram_range=(1, 3); total time=   7.3s\n"
     ]
    },
    {
     "name": "stderr",
     "output_type": "stream",
     "text": [
      "/home/ana.garcia.suarez/LBBYs_CH2/venv/lib/python3.11/site-packages/sklearn/feature_selection/_univariate_selection.py:783: UserWarning: k=40000 is greater than n_features=7679. All the features will be returned.\n",
      "  warnings.warn(\n",
      "/home/ana.garcia.suarez/LBBYs_CH2/venv/lib/python3.11/site-packages/sklearn/svm/_base.py:1249: ConvergenceWarning: Liblinear failed to converge, increase the number of iterations.\n",
      "  warnings.warn(\n"
     ]
    },
    {
     "name": "stdout",
     "output_type": "stream",
     "text": [
      "[CV] END .....clf__C=1, prep__text__vect__ngram_range=(1, 3); total time=   7.6s\n"
     ]
    },
    {
     "name": "stderr",
     "output_type": "stream",
     "text": [
      "/home/ana.garcia.suarez/LBBYs_CH2/venv/lib/python3.11/site-packages/sklearn/feature_selection/_univariate_selection.py:783: UserWarning: k=40000 is greater than n_features=7622. All the features will be returned.\n",
      "  warnings.warn(\n"
     ]
    },
    {
     "name": "stdout",
     "output_type": "stream",
     "text": [
      "[CV] END .....clf__C=2, prep__text__vect__ngram_range=(1, 2); total time=   3.4s\n"
     ]
    },
    {
     "name": "stderr",
     "output_type": "stream",
     "text": [
      "/home/ana.garcia.suarez/LBBYs_CH2/venv/lib/python3.11/site-packages/sklearn/feature_selection/_univariate_selection.py:783: UserWarning: k=40000 is greater than n_features=7637. All the features will be returned.\n",
      "  warnings.warn(\n",
      "/home/ana.garcia.suarez/LBBYs_CH2/venv/lib/python3.11/site-packages/sklearn/svm/_base.py:1249: ConvergenceWarning: Liblinear failed to converge, increase the number of iterations.\n",
      "  warnings.warn(\n"
     ]
    },
    {
     "name": "stdout",
     "output_type": "stream",
     "text": [
      "[CV] END .....clf__C=2, prep__text__vect__ngram_range=(1, 2); total time=   6.7s\n"
     ]
    },
    {
     "name": "stderr",
     "output_type": "stream",
     "text": [
      "/home/ana.garcia.suarez/LBBYs_CH2/venv/lib/python3.11/site-packages/sklearn/svm/_base.py:1249: ConvergenceWarning: Liblinear failed to converge, increase the number of iterations.\n",
      "  warnings.warn(\n"
     ]
    },
    {
     "name": "stdout",
     "output_type": "stream",
     "text": [
      "[CV] END .....clf__C=2, prep__text__vect__ngram_range=(1, 2); total time=   6.6s\n"
     ]
    },
    {
     "name": "stderr",
     "output_type": "stream",
     "text": [
      "/home/ana.garcia.suarez/LBBYs_CH2/venv/lib/python3.11/site-packages/sklearn/feature_selection/_univariate_selection.py:783: UserWarning: k=40000 is greater than n_features=8675. All the features will be returned.\n",
      "  warnings.warn(\n",
      "/home/ana.garcia.suarez/LBBYs_CH2/venv/lib/python3.11/site-packages/sklearn/feature_selection/_univariate_selection.py:783: UserWarning: k=40000 is greater than n_features=8523. All the features will be returned.\n",
      "  warnings.warn(\n",
      "/home/ana.garcia.suarez/LBBYs_CH2/venv/lib/python3.11/site-packages/sklearn/svm/_base.py:1249: ConvergenceWarning: Liblinear failed to converge, increase the number of iterations.\n",
      "  warnings.warn(\n"
     ]
    },
    {
     "name": "stdout",
     "output_type": "stream",
     "text": [
      "[CV] END .....clf__C=2, prep__text__vect__ngram_range=(1, 2); total time=   6.7s\n"
     ]
    },
    {
     "name": "stderr",
     "output_type": "stream",
     "text": [
      "/home/ana.garcia.suarez/LBBYs_CH2/venv/lib/python3.11/site-packages/sklearn/feature_selection/_univariate_selection.py:783: UserWarning: k=40000 is greater than n_features=8610. All the features will be returned.\n",
      "  warnings.warn(\n",
      "/home/ana.garcia.suarez/LBBYs_CH2/venv/lib/python3.11/site-packages/sklearn/svm/_base.py:1249: ConvergenceWarning: Liblinear failed to converge, increase the number of iterations.\n",
      "  warnings.warn(\n"
     ]
    },
    {
     "name": "stdout",
     "output_type": "stream",
     "text": [
      "[CV] END .....clf__C=2, prep__text__vect__ngram_range=(1, 2); total time=   7.1s\n"
     ]
    },
    {
     "name": "stderr",
     "output_type": "stream",
     "text": [
      "/home/ana.garcia.suarez/LBBYs_CH2/venv/lib/python3.11/site-packages/sklearn/feature_selection/_univariate_selection.py:783: UserWarning: k=40000 is greater than n_features=8553. All the features will be returned.\n",
      "  warnings.warn(\n"
     ]
    },
    {
     "name": "stdout",
     "output_type": "stream",
     "text": [
      "[CV] END .....clf__C=2, prep__text__vect__ngram_range=(1, 3); total time=   3.7s\n"
     ]
    },
    {
     "name": "stderr",
     "output_type": "stream",
     "text": [
      "/home/ana.garcia.suarez/LBBYs_CH2/venv/lib/python3.11/site-packages/sklearn/feature_selection/_univariate_selection.py:783: UserWarning: k=40000 is greater than n_features=8556. All the features will be returned.\n",
      "  warnings.warn(\n",
      "/home/ana.garcia.suarez/LBBYs_CH2/venv/lib/python3.11/site-packages/sklearn/svm/_base.py:1249: ConvergenceWarning: Liblinear failed to converge, increase the number of iterations.\n",
      "  warnings.warn(\n"
     ]
    },
    {
     "name": "stdout",
     "output_type": "stream",
     "text": [
      "[CV] END .....clf__C=2, prep__text__vect__ngram_range=(1, 3); total time=   7.0s\n"
     ]
    },
    {
     "name": "stderr",
     "output_type": "stream",
     "text": [
      "/home/ana.garcia.suarez/LBBYs_CH2/venv/lib/python3.11/site-packages/sklearn/feature_selection/_univariate_selection.py:783: UserWarning: k=40000 is greater than n_features=7703. All the features will be returned.\n",
      "  warnings.warn(\n",
      "/home/ana.garcia.suarez/LBBYs_CH2/venv/lib/python3.11/site-packages/sklearn/svm/_base.py:1249: ConvergenceWarning: Liblinear failed to converge, increase the number of iterations.\n",
      "  warnings.warn(\n"
     ]
    },
    {
     "name": "stdout",
     "output_type": "stream",
     "text": [
      "[CV] END .....clf__C=2, prep__text__vect__ngram_range=(1, 3); total time=   7.6s\n"
     ]
    },
    {
     "name": "stderr",
     "output_type": "stream",
     "text": [
      "/home/ana.garcia.suarez/LBBYs_CH2/venv/lib/python3.11/site-packages/sklearn/feature_selection/_univariate_selection.py:783: UserWarning: k=40000 is greater than n_features=7616. All the features will be returned.\n",
      "  warnings.warn(\n",
      "/home/ana.garcia.suarez/LBBYs_CH2/venv/lib/python3.11/site-packages/sklearn/svm/_base.py:1249: ConvergenceWarning: Liblinear failed to converge, increase the number of iterations.\n",
      "  warnings.warn(\n"
     ]
    },
    {
     "name": "stdout",
     "output_type": "stream",
     "text": [
      "[CV] END .....clf__C=2, prep__text__vect__ngram_range=(1, 3); total time=   7.1s\n"
     ]
    },
    {
     "name": "stderr",
     "output_type": "stream",
     "text": [
      "/home/ana.garcia.suarez/LBBYs_CH2/venv/lib/python3.11/site-packages/sklearn/feature_selection/_univariate_selection.py:783: UserWarning: k=40000 is greater than n_features=7679. All the features will be returned.\n",
      "  warnings.warn(\n",
      "/home/ana.garcia.suarez/LBBYs_CH2/venv/lib/python3.11/site-packages/sklearn/svm/_base.py:1249: ConvergenceWarning: Liblinear failed to converge, increase the number of iterations.\n",
      "  warnings.warn(\n"
     ]
    },
    {
     "name": "stdout",
     "output_type": "stream",
     "text": [
      "[CV] END .....clf__C=2, prep__text__vect__ngram_range=(1, 3); total time=   7.1s\n"
     ]
    },
    {
     "name": "stderr",
     "output_type": "stream",
     "text": [
      "/home/ana.garcia.suarez/LBBYs_CH2/venv/lib/python3.11/site-packages/sklearn/feature_selection/_univariate_selection.py:783: UserWarning: k=40000 is greater than n_features=7622. All the features will be returned.\n",
      "  warnings.warn(\n"
     ]
    },
    {
     "name": "stdout",
     "output_type": "stream",
     "text": [
      "[CV] END .....clf__C=5, prep__text__vect__ngram_range=(1, 2); total time=   5.6s\n"
     ]
    },
    {
     "name": "stderr",
     "output_type": "stream",
     "text": [
      "/home/ana.garcia.suarez/LBBYs_CH2/venv/lib/python3.11/site-packages/sklearn/feature_selection/_univariate_selection.py:783: UserWarning: k=40000 is greater than n_features=7637. All the features will be returned.\n",
      "  warnings.warn(\n",
      "/home/ana.garcia.suarez/LBBYs_CH2/venv/lib/python3.11/site-packages/sklearn/svm/_base.py:1249: ConvergenceWarning: Liblinear failed to converge, increase the number of iterations.\n",
      "  warnings.warn(\n"
     ]
    },
    {
     "name": "stdout",
     "output_type": "stream",
     "text": [
      "[CV] END .....clf__C=5, prep__text__vect__ngram_range=(1, 2); total time=   6.0s\n"
     ]
    },
    {
     "name": "stderr",
     "output_type": "stream",
     "text": [
      "/home/ana.garcia.suarez/LBBYs_CH2/venv/lib/python3.11/site-packages/sklearn/feature_selection/_univariate_selection.py:783: UserWarning: k=40000 is greater than n_features=8675. All the features will be returned.\n",
      "  warnings.warn(\n",
      "/home/ana.garcia.suarez/LBBYs_CH2/venv/lib/python3.11/site-packages/sklearn/svm/_base.py:1249: ConvergenceWarning: Liblinear failed to converge, increase the number of iterations.\n",
      "  warnings.warn(\n"
     ]
    },
    {
     "name": "stdout",
     "output_type": "stream",
     "text": [
      "[CV] END .....clf__C=5, prep__text__vect__ngram_range=(1, 2); total time=   6.1s\n"
     ]
    },
    {
     "name": "stderr",
     "output_type": "stream",
     "text": [
      "/home/ana.garcia.suarez/LBBYs_CH2/venv/lib/python3.11/site-packages/sklearn/feature_selection/_univariate_selection.py:783: UserWarning: k=40000 is greater than n_features=8523. All the features will be returned.\n",
      "  warnings.warn(\n",
      "/home/ana.garcia.suarez/LBBYs_CH2/venv/lib/python3.11/site-packages/sklearn/svm/_base.py:1249: ConvergenceWarning: Liblinear failed to converge, increase the number of iterations.\n",
      "  warnings.warn(\n"
     ]
    },
    {
     "name": "stdout",
     "output_type": "stream",
     "text": [
      "[CV] END .....clf__C=5, prep__text__vect__ngram_range=(1, 2); total time=   6.3s\n"
     ]
    },
    {
     "name": "stderr",
     "output_type": "stream",
     "text": [
      "/home/ana.garcia.suarez/LBBYs_CH2/venv/lib/python3.11/site-packages/sklearn/feature_selection/_univariate_selection.py:783: UserWarning: k=40000 is greater than n_features=8610. All the features will be returned.\n",
      "  warnings.warn(\n",
      "/home/ana.garcia.suarez/LBBYs_CH2/venv/lib/python3.11/site-packages/sklearn/svm/_base.py:1249: ConvergenceWarning: Liblinear failed to converge, increase the number of iterations.\n",
      "  warnings.warn(\n"
     ]
    },
    {
     "name": "stdout",
     "output_type": "stream",
     "text": [
      "[CV] END .....clf__C=5, prep__text__vect__ngram_range=(1, 2); total time=   5.9s\n"
     ]
    },
    {
     "name": "stderr",
     "output_type": "stream",
     "text": [
      "/home/ana.garcia.suarez/LBBYs_CH2/venv/lib/python3.11/site-packages/sklearn/feature_selection/_univariate_selection.py:783: UserWarning: k=40000 is greater than n_features=8553. All the features will be returned.\n",
      "  warnings.warn(\n"
     ]
    },
    {
     "name": "stdout",
     "output_type": "stream",
     "text": [
      "[CV] END .....clf__C=5, prep__text__vect__ngram_range=(1, 3); total time=   4.6s\n"
     ]
    },
    {
     "name": "stderr",
     "output_type": "stream",
     "text": [
      "/home/ana.garcia.suarez/LBBYs_CH2/venv/lib/python3.11/site-packages/sklearn/feature_selection/_univariate_selection.py:783: UserWarning: k=40000 is greater than n_features=8556. All the features will be returned.\n",
      "  warnings.warn(\n",
      "/home/ana.garcia.suarez/LBBYs_CH2/venv/lib/python3.11/site-packages/sklearn/svm/_base.py:1249: ConvergenceWarning: Liblinear failed to converge, increase the number of iterations.\n",
      "  warnings.warn(\n"
     ]
    },
    {
     "name": "stdout",
     "output_type": "stream",
     "text": [
      "[CV] END .....clf__C=5, prep__text__vect__ngram_range=(1, 3); total time=   6.9s\n"
     ]
    },
    {
     "name": "stderr",
     "output_type": "stream",
     "text": [
      "/home/ana.garcia.suarez/LBBYs_CH2/venv/lib/python3.11/site-packages/sklearn/feature_selection/_univariate_selection.py:783: UserWarning: k=40000 is greater than n_features=7703. All the features will be returned.\n",
      "  warnings.warn(\n",
      "/home/ana.garcia.suarez/LBBYs_CH2/venv/lib/python3.11/site-packages/sklearn/svm/_base.py:1249: ConvergenceWarning: Liblinear failed to converge, increase the number of iterations.\n",
      "  warnings.warn(\n"
     ]
    },
    {
     "name": "stdout",
     "output_type": "stream",
     "text": [
      "[CV] END .....clf__C=5, prep__text__vect__ngram_range=(1, 3); total time=   7.8s\n"
     ]
    },
    {
     "name": "stderr",
     "output_type": "stream",
     "text": [
      "/home/ana.garcia.suarez/LBBYs_CH2/venv/lib/python3.11/site-packages/sklearn/feature_selection/_univariate_selection.py:783: UserWarning: k=40000 is greater than n_features=7616. All the features will be returned.\n",
      "  warnings.warn(\n",
      "/home/ana.garcia.suarez/LBBYs_CH2/venv/lib/python3.11/site-packages/sklearn/svm/_base.py:1249: ConvergenceWarning: Liblinear failed to converge, increase the number of iterations.\n",
      "  warnings.warn(\n"
     ]
    },
    {
     "name": "stdout",
     "output_type": "stream",
     "text": [
      "[CV] END .....clf__C=5, prep__text__vect__ngram_range=(1, 3); total time=   8.4s\n"
     ]
    },
    {
     "name": "stderr",
     "output_type": "stream",
     "text": [
      "/home/ana.garcia.suarez/LBBYs_CH2/venv/lib/python3.11/site-packages/sklearn/feature_selection/_univariate_selection.py:783: UserWarning: k=40000 is greater than n_features=7679. All the features will be returned.\n",
      "  warnings.warn(\n",
      "/home/ana.garcia.suarez/LBBYs_CH2/venv/lib/python3.11/site-packages/sklearn/svm/_base.py:1249: ConvergenceWarning: Liblinear failed to converge, increase the number of iterations.\n",
      "  warnings.warn(\n"
     ]
    },
    {
     "name": "stdout",
     "output_type": "stream",
     "text": [
      "[CV] END .....clf__C=5, prep__text__vect__ngram_range=(1, 3); total time=  10.4s\n"
     ]
    },
    {
     "name": "stderr",
     "output_type": "stream",
     "text": [
      "/home/ana.garcia.suarez/LBBYs_CH2/venv/lib/python3.11/site-packages/sklearn/feature_selection/_univariate_selection.py:783: UserWarning: k=40000 is greater than n_features=7622. All the features will be returned.\n",
      "  warnings.warn(\n"
     ]
    },
    {
     "name": "stdout",
     "output_type": "stream",
     "text": [
      "[CV] END ....clf__C=10, prep__text__vect__ngram_range=(1, 2); total time=   8.3s\n"
     ]
    },
    {
     "name": "stderr",
     "output_type": "stream",
     "text": [
      "/home/ana.garcia.suarez/LBBYs_CH2/venv/lib/python3.11/site-packages/sklearn/feature_selection/_univariate_selection.py:783: UserWarning: k=40000 is greater than n_features=7637. All the features will be returned.\n",
      "  warnings.warn(\n",
      "/home/ana.garcia.suarez/LBBYs_CH2/venv/lib/python3.11/site-packages/sklearn/svm/_base.py:1249: ConvergenceWarning: Liblinear failed to converge, increase the number of iterations.\n",
      "  warnings.warn(\n"
     ]
    },
    {
     "name": "stdout",
     "output_type": "stream",
     "text": [
      "[CV] END ....clf__C=10, prep__text__vect__ngram_range=(1, 2); total time=   7.7s\n"
     ]
    },
    {
     "name": "stderr",
     "output_type": "stream",
     "text": [
      "/home/ana.garcia.suarez/LBBYs_CH2/venv/lib/python3.11/site-packages/sklearn/feature_selection/_univariate_selection.py:783: UserWarning: k=40000 is greater than n_features=8675. All the features will be returned.\n",
      "  warnings.warn(\n",
      "/home/ana.garcia.suarez/LBBYs_CH2/venv/lib/python3.11/site-packages/sklearn/svm/_base.py:1249: ConvergenceWarning: Liblinear failed to converge, increase the number of iterations.\n",
      "  warnings.warn(\n"
     ]
    },
    {
     "name": "stdout",
     "output_type": "stream",
     "text": [
      "[CV] END ....clf__C=10, prep__text__vect__ngram_range=(1, 2); total time=   7.0s\n"
     ]
    },
    {
     "name": "stderr",
     "output_type": "stream",
     "text": [
      "/home/ana.garcia.suarez/LBBYs_CH2/venv/lib/python3.11/site-packages/sklearn/feature_selection/_univariate_selection.py:783: UserWarning: k=40000 is greater than n_features=8523. All the features will be returned.\n",
      "  warnings.warn(\n",
      "/home/ana.garcia.suarez/LBBYs_CH2/venv/lib/python3.11/site-packages/sklearn/svm/_base.py:1249: ConvergenceWarning: Liblinear failed to converge, increase the number of iterations.\n",
      "  warnings.warn(\n"
     ]
    },
    {
     "name": "stdout",
     "output_type": "stream",
     "text": [
      "[CV] END ....clf__C=10, prep__text__vect__ngram_range=(1, 2); total time=   6.5s\n"
     ]
    },
    {
     "name": "stderr",
     "output_type": "stream",
     "text": [
      "/home/ana.garcia.suarez/LBBYs_CH2/venv/lib/python3.11/site-packages/sklearn/feature_selection/_univariate_selection.py:783: UserWarning: k=40000 is greater than n_features=8610. All the features will be returned.\n",
      "  warnings.warn(\n",
      "/home/ana.garcia.suarez/LBBYs_CH2/venv/lib/python3.11/site-packages/sklearn/svm/_base.py:1249: ConvergenceWarning: Liblinear failed to converge, increase the number of iterations.\n",
      "  warnings.warn(\n"
     ]
    },
    {
     "name": "stdout",
     "output_type": "stream",
     "text": [
      "[CV] END ....clf__C=10, prep__text__vect__ngram_range=(1, 2); total time=   6.0s\n",
      "[CV] END ....clf__C=10, prep__text__vect__ngram_range=(1, 3); total time=   4.1s\n"
     ]
    },
    {
     "name": "stderr",
     "output_type": "stream",
     "text": [
      "/home/ana.garcia.suarez/LBBYs_CH2/venv/lib/python3.11/site-packages/sklearn/feature_selection/_univariate_selection.py:783: UserWarning: k=40000 is greater than n_features=8553. All the features will be returned.\n",
      "  warnings.warn(\n",
      "/home/ana.garcia.suarez/LBBYs_CH2/venv/lib/python3.11/site-packages/sklearn/feature_selection/_univariate_selection.py:783: UserWarning: k=40000 is greater than n_features=8556. All the features will be returned.\n",
      "  warnings.warn(\n",
      "/home/ana.garcia.suarez/LBBYs_CH2/venv/lib/python3.11/site-packages/sklearn/svm/_base.py:1249: ConvergenceWarning: Liblinear failed to converge, increase the number of iterations.\n",
      "  warnings.warn(\n"
     ]
    },
    {
     "name": "stdout",
     "output_type": "stream",
     "text": [
      "[CV] END ....clf__C=10, prep__text__vect__ngram_range=(1, 3); total time=   6.0s\n"
     ]
    },
    {
     "name": "stderr",
     "output_type": "stream",
     "text": [
      "/home/ana.garcia.suarez/LBBYs_CH2/venv/lib/python3.11/site-packages/sklearn/feature_selection/_univariate_selection.py:783: UserWarning: k=40000 is greater than n_features=7703. All the features will be returned.\n",
      "  warnings.warn(\n",
      "/home/ana.garcia.suarez/LBBYs_CH2/venv/lib/python3.11/site-packages/sklearn/svm/_base.py:1249: ConvergenceWarning: Liblinear failed to converge, increase the number of iterations.\n",
      "  warnings.warn(\n"
     ]
    },
    {
     "name": "stdout",
     "output_type": "stream",
     "text": [
      "[CV] END ....clf__C=10, prep__text__vect__ngram_range=(1, 3); total time=   6.4s\n"
     ]
    },
    {
     "name": "stderr",
     "output_type": "stream",
     "text": [
      "/home/ana.garcia.suarez/LBBYs_CH2/venv/lib/python3.11/site-packages/sklearn/svm/_base.py:1249: ConvergenceWarning: Liblinear failed to converge, increase the number of iterations.\n",
      "  warnings.warn(\n",
      "/home/ana.garcia.suarez/LBBYs_CH2/venv/lib/python3.11/site-packages/sklearn/feature_selection/_univariate_selection.py:783: UserWarning: k=40000 is greater than n_features=7616. All the features will be returned.\n",
      "  warnings.warn(\n"
     ]
    },
    {
     "name": "stdout",
     "output_type": "stream",
     "text": [
      "[CV] END ....clf__C=10, prep__text__vect__ngram_range=(1, 3); total time=   6.2s\n"
     ]
    },
    {
     "name": "stderr",
     "output_type": "stream",
     "text": [
      "/home/ana.garcia.suarez/LBBYs_CH2/venv/lib/python3.11/site-packages/sklearn/feature_selection/_univariate_selection.py:783: UserWarning: k=40000 is greater than n_features=7679. All the features will be returned.\n",
      "  warnings.warn(\n",
      "/home/ana.garcia.suarez/LBBYs_CH2/venv/lib/python3.11/site-packages/sklearn/svm/_base.py:1249: ConvergenceWarning: Liblinear failed to converge, increase the number of iterations.\n",
      "  warnings.warn(\n"
     ]
    },
    {
     "name": "stdout",
     "output_type": "stream",
     "text": [
      "[CV] END ....clf__C=10, prep__text__vect__ngram_range=(1, 3); total time=   6.6s\n"
     ]
    },
    {
     "name": "stderr",
     "output_type": "stream",
     "text": [
      "/home/ana.garcia.suarez/LBBYs_CH2/venv/lib/python3.11/site-packages/sklearn/feature_selection/_univariate_selection.py:783: UserWarning: k=40000 is greater than n_features=7622. All the features will be returned.\n",
      "  warnings.warn(\n"
     ]
    },
    {
     "name": "stdout",
     "output_type": "stream",
     "text": [
      "[CV] END ....clf__C=20, prep__text__vect__ngram_range=(1, 2); total time=   4.3s\n"
     ]
    },
    {
     "name": "stderr",
     "output_type": "stream",
     "text": [
      "/home/ana.garcia.suarez/LBBYs_CH2/venv/lib/python3.11/site-packages/sklearn/feature_selection/_univariate_selection.py:783: UserWarning: k=40000 is greater than n_features=7637. All the features will be returned.\n",
      "  warnings.warn(\n",
      "/home/ana.garcia.suarez/LBBYs_CH2/venv/lib/python3.11/site-packages/sklearn/svm/_base.py:1249: ConvergenceWarning: Liblinear failed to converge, increase the number of iterations.\n",
      "  warnings.warn(\n"
     ]
    },
    {
     "name": "stdout",
     "output_type": "stream",
     "text": [
      "[CV] END ....clf__C=20, prep__text__vect__ngram_range=(1, 2); total time=   5.5s\n"
     ]
    },
    {
     "name": "stderr",
     "output_type": "stream",
     "text": [
      "/home/ana.garcia.suarez/LBBYs_CH2/venv/lib/python3.11/site-packages/sklearn/feature_selection/_univariate_selection.py:783: UserWarning: k=40000 is greater than n_features=8675. All the features will be returned.\n",
      "  warnings.warn(\n",
      "/home/ana.garcia.suarez/LBBYs_CH2/venv/lib/python3.11/site-packages/sklearn/svm/_base.py:1249: ConvergenceWarning: Liblinear failed to converge, increase the number of iterations.\n",
      "  warnings.warn(\n"
     ]
    },
    {
     "name": "stdout",
     "output_type": "stream",
     "text": [
      "[CV] END ....clf__C=20, prep__text__vect__ngram_range=(1, 2); total time=   5.8s\n"
     ]
    },
    {
     "name": "stderr",
     "output_type": "stream",
     "text": [
      "/home/ana.garcia.suarez/LBBYs_CH2/venv/lib/python3.11/site-packages/sklearn/feature_selection/_univariate_selection.py:783: UserWarning: k=40000 is greater than n_features=8523. All the features will be returned.\n",
      "  warnings.warn(\n",
      "/home/ana.garcia.suarez/LBBYs_CH2/venv/lib/python3.11/site-packages/sklearn/svm/_base.py:1249: ConvergenceWarning: Liblinear failed to converge, increase the number of iterations.\n",
      "  warnings.warn(\n",
      "/home/ana.garcia.suarez/LBBYs_CH2/venv/lib/python3.11/site-packages/sklearn/svm/_base.py:1249: ConvergenceWarning: Liblinear failed to converge, increase the number of iterations.\n",
      "  warnings.warn(\n"
     ]
    },
    {
     "name": "stdout",
     "output_type": "stream",
     "text": [
      "[CV] END ....clf__C=20, prep__text__vect__ngram_range=(1, 2); total time=   6.0s\n",
      "[CV] END ....clf__C=20, prep__text__vect__ngram_range=(1, 2); total time=   5.4s\n"
     ]
    },
    {
     "name": "stderr",
     "output_type": "stream",
     "text": [
      "/home/ana.garcia.suarez/LBBYs_CH2/venv/lib/python3.11/site-packages/sklearn/feature_selection/_univariate_selection.py:783: UserWarning: k=40000 is greater than n_features=8610. All the features will be returned.\n",
      "  warnings.warn(\n",
      "/home/ana.garcia.suarez/LBBYs_CH2/venv/lib/python3.11/site-packages/sklearn/feature_selection/_univariate_selection.py:783: UserWarning: k=40000 is greater than n_features=8553. All the features will be returned.\n",
      "  warnings.warn(\n",
      "/home/ana.garcia.suarez/LBBYs_CH2/venv/lib/python3.11/site-packages/sklearn/svm/_base.py:1249: ConvergenceWarning: Liblinear failed to converge, increase the number of iterations.\n",
      "  warnings.warn(\n"
     ]
    },
    {
     "name": "stdout",
     "output_type": "stream",
     "text": [
      "[CV] END ....clf__C=20, prep__text__vect__ngram_range=(1, 3); total time=   5.9s\n"
     ]
    },
    {
     "name": "stderr",
     "output_type": "stream",
     "text": [
      "/home/ana.garcia.suarez/LBBYs_CH2/venv/lib/python3.11/site-packages/sklearn/feature_selection/_univariate_selection.py:783: UserWarning: k=40000 is greater than n_features=8556. All the features will be returned.\n",
      "  warnings.warn(\n",
      "/home/ana.garcia.suarez/LBBYs_CH2/venv/lib/python3.11/site-packages/sklearn/svm/_base.py:1249: ConvergenceWarning: Liblinear failed to converge, increase the number of iterations.\n",
      "  warnings.warn(\n"
     ]
    },
    {
     "name": "stdout",
     "output_type": "stream",
     "text": [
      "[CV] END ....clf__C=20, prep__text__vect__ngram_range=(1, 3); total time=   6.1s\n"
     ]
    },
    {
     "name": "stderr",
     "output_type": "stream",
     "text": [
      "/home/ana.garcia.suarez/LBBYs_CH2/venv/lib/python3.11/site-packages/sklearn/svm/_base.py:1249: ConvergenceWarning: Liblinear failed to converge, increase the number of iterations.\n",
      "  warnings.warn(\n",
      "/home/ana.garcia.suarez/LBBYs_CH2/venv/lib/python3.11/site-packages/sklearn/svm/_base.py:1249: ConvergenceWarning: Liblinear failed to converge, increase the number of iterations.\n",
      "  warnings.warn(\n"
     ]
    },
    {
     "name": "stdout",
     "output_type": "stream",
     "text": [
      "[CV] END ....clf__C=20, prep__text__vect__ngram_range=(1, 3); total time=   5.7s\n",
      "[CV] END ....clf__C=20, prep__text__vect__ngram_range=(1, 3); total time=   5.9s\n"
     ]
    },
    {
     "name": "stderr",
     "output_type": "stream",
     "text": [
      "/home/ana.garcia.suarez/LBBYs_CH2/venv/lib/python3.11/site-packages/sklearn/svm/_base.py:1249: ConvergenceWarning: Liblinear failed to converge, increase the number of iterations.\n",
      "  warnings.warn(\n"
     ]
    },
    {
     "name": "stdout",
     "output_type": "stream",
     "text": [
      "[CV] END ....clf__C=20, prep__text__vect__ngram_range=(1, 3); total time=   3.9s\n"
     ]
    },
    {
     "name": "stderr",
     "output_type": "stream",
     "text": [
      "/home/ana.garcia.suarez/LBBYs_CH2/venv/lib/python3.11/site-packages/sklearn/feature_selection/_univariate_selection.py:783: UserWarning: k=40000 is greater than n_features=10574. All the features will be returned.\n",
      "  warnings.warn(\n"
     ]
    },
    {
     "name": "stdout",
     "output_type": "stream",
     "text": [
      "Mejor F1_macro CV: 0.5741\n",
      "Mejor set: {'clf__C': 0.5, 'prep__text__vect__ngram_range': (1, 3)}\n",
      "Accuracy : 0.5961\n",
      "              precision    recall  f1-score   support\n",
      "\n",
      "           0     0.4361    0.4986    0.4653      1041\n",
      "           1     0.7041    0.6492    0.6756      1913\n",
      "\n",
      "    accuracy                         0.5961      2954\n",
      "   macro avg     0.5701    0.5739    0.5704      2954\n",
      "weighted avg     0.6097    0.5961    0.6014      2954\n",
      "\n"
     ]
    },
    {
     "name": "stderr",
     "output_type": "stream",
     "text": [
      "/home/ana.garcia.suarez/LBBYs_CH2/venv/lib/python3.11/site-packages/sklearn/svm/_base.py:1249: ConvergenceWarning: Liblinear failed to converge, increase the number of iterations.\n",
      "  warnings.warn(\n"
     ]
    }
   ],
   "source": [
    "from sklearn.feature_selection import chi2, SelectKBest\n",
    "from sklearn.svm import LinearSVC\n",
    "from sklearn.pipeline import Pipeline\n",
    "from sklearn.compose import ColumnTransformer\n",
    "from sklearn.preprocessing import OneHotEncoder, StandardScaler\n",
    "from sklearn.feature_extraction.text import TfidfVectorizer\n",
    "from sklearn.model_selection import GridSearchCV, train_test_split\n",
    "from sklearn.metrics import classification_report, accuracy_score\n",
    "import pandas as pd\n",
    "\n",
    "# ---------- datos ----------\n",
    "X = df.copy()\n",
    "y = df['label']\n",
    "X_train, X_test, y_train, y_test = train_test_split(\n",
    "        X, y, test_size=0.33, random_state=42, stratify=y)\n",
    "\n",
    "text_col = 'statement'\n",
    "cat_cols = ['subject', 'party_affiliation_uni', 'speaker_type']\n",
    "num_cols = ['num_tokens', 'num_sentences', 'num_tokens_without_stopwords']\n",
    "\n",
    "txt_vect = TfidfVectorizer(\n",
    "            ngram_range=(1,3),          # uni‑bi‑trigram\n",
    "            min_df=2, max_df=0.9,\n",
    "            sublinear_tf=True,\n",
    "            stop_words='english')\n",
    "\n",
    "preprocess = ColumnTransformer([\n",
    "    ('text', Pipeline([\n",
    "        ('vect', txt_vect),\n",
    "        ('chi',  SelectKBest(chi2, k=40000))  # ≈ 40‑60k funciona bien\n",
    "    ]), text_col),\n",
    "    ('cat',  OneHotEncoder(min_frequency=10, handle_unknown='ignore'), cat_cols),\n",
    "    ('num',  StandardScaler(), num_cols)\n",
    "])\n",
    "\n",
    "pipe = Pipeline([\n",
    "    ('prep', preprocess),\n",
    "    ('clf',  LinearSVC(class_weight='balanced',\n",
    "                       max_iter=10000,\n",
    "                       tol=1e-4))\n",
    "])\n",
    "\n",
    "param_grid = {\n",
    "    'clf__C': [0.5, 1, 2, 5, 10, 20],\n",
    "    'prep__text__vect__ngram_range': [(1,2), (1,3)]\n",
    "}\n",
    "\n",
    "grid = GridSearchCV(pipe,\n",
    "                    param_grid,\n",
    "                    scoring='f1_macro',\n",
    "                    cv=5,\n",
    "                    n_jobs=-1,\n",
    "                    verbose=2)\n",
    "\n",
    "grid.fit(X_train, y_train)\n",
    "\n",
    "print(\"Mejor F1_macro CV:\", round(grid.best_score_,4))\n",
    "print(\"Mejor set:\", grid.best_params_)\n",
    "\n",
    "y_pred = grid.predict(X_test)\n",
    "print(\"Accuracy :\", round(accuracy_score(y_test, y_pred),4))\n",
    "print(classification_report(y_test, y_pred, digits=4))\n"
   ]
  }
 ],
 "metadata": {
  "kernelspec": {
   "display_name": "venv",
   "language": "python",
   "name": "python3"
  },
  "language_info": {
   "codemirror_mode": {
    "name": "ipython",
    "version": 3
   },
   "file_extension": ".py",
   "mimetype": "text/x-python",
   "name": "python",
   "nbconvert_exporter": "python",
   "pygments_lexer": "ipython3",
   "version": "3.11.2"
  }
 },
 "nbformat": 4,
 "nbformat_minor": 2
}
