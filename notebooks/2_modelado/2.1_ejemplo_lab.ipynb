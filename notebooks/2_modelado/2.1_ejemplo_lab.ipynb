{
 "cells": [
  {
   "cell_type": "markdown",
   "metadata": {},
   "source": [
    "# Procesado "
   ]
  },
  {
   "cell_type": "markdown",
   "metadata": {},
   "source": []
  },
  {
   "cell_type": "code",
   "execution_count": 11,
   "metadata": {},
   "outputs": [],
   "source": [
    "import pandas as pd\n",
    "from sklearn.model_selection import train_test_split\n",
    "from sklearn.feature_extraction.text import CountVectorizer, TfidfTransformer, TfidfVectorizer\n",
    "from sklearn.svm import LinearSVC\n",
    "from sklearn.metrics import accuracy_score, classification_report, confusion_matrix\n",
    "import joblib\n",
    "import pandas as pd\n",
    "import datetime"
   ]
  },
  {
   "cell_type": "code",
   "execution_count": 9,
   "metadata": {},
   "outputs": [],
   "source": [
    "df = pd.read_csv(\"../../data/processed/train_preprocess_v1.csv\")\n",
    "df_test = pd.read_csv(\"../../data/processed/test_preprocess_v1.csv\")\n"
   ]
  },
  {
   "cell_type": "markdown",
   "metadata": {},
   "source": [
    "## Procesado inicial "
   ]
  },
  {
   "cell_type": "code",
   "execution_count": 6,
   "metadata": {},
   "outputs": [
    {
     "name": "stdout",
     "output_type": "stream",
     "text": [
      "<class 'pandas.core.frame.DataFrame'>\n",
      "RangeIndex: 8950 entries, 0 to 8949\n",
      "Data columns (total 31 columns):\n",
      " #   Column                              Non-Null Count  Dtype \n",
      "---  ------                              --------------  ----- \n",
      " 0   id                                  8950 non-null   object\n",
      " 1   label                               8950 non-null   int64 \n",
      " 2   statement                           8950 non-null   object\n",
      " 3   subject                             8950 non-null   object\n",
      " 4   speaker                             8950 non-null   object\n",
      " 5   speaker_job                         8950 non-null   object\n",
      " 6   state_info                          8950 non-null   object\n",
      " 7   party_affiliation                   8950 non-null   object\n",
      " 8   party_affiliation_uni               8950 non-null   object\n",
      " 9   party_affiliation_category_map      8950 non-null   object\n",
      " 10  statement_tokens                    8950 non-null   object\n",
      " 11  num_tokens                          8950 non-null   int64 \n",
      " 12  num_sentences                       8950 non-null   int64 \n",
      " 13  pos_info                            8950 non-null   object\n",
      " 14  pos_freq                            8950 non-null   object\n",
      " 15  lemma_freq                          8950 non-null   object\n",
      " 16  tag_freq                            8950 non-null   object\n",
      " 17  entities                            8950 non-null   object\n",
      " 18  stopwords                           8950 non-null   object\n",
      " 19  statement_tokens_without_stopwords  8950 non-null   object\n",
      " 20  num_tokens_without_stopwords        8950 non-null   int64 \n",
      " 21  pos_info_without_stopwords          8950 non-null   object\n",
      " 22  pos_freq_without_stopwords          8950 non-null   object\n",
      " 23  lemma_freq_without_stopwords        8950 non-null   object\n",
      " 24  tag_freq_without_stopwords          8950 non-null   object\n",
      " 25  processed_subject                   8950 non-null   object\n",
      " 26  speaker_entities                    8950 non-null   object\n",
      " 27  speaker_type                        8950 non-null   object\n",
      " 28  speaker_job_tokens                  8950 non-null   object\n",
      " 29  state_info_tokens                   8950 non-null   object\n",
      " 30  party_affiliation_tokens            8950 non-null   object\n",
      "dtypes: int64(4), object(27)\n",
      "memory usage: 2.1+ MB\n"
     ]
    }
   ],
   "source": [
    "df.info()"
   ]
  },
  {
   "cell_type": "markdown",
   "metadata": {},
   "source": [
    "Seleccion de categorias a a modelar"
   ]
  },
  {
   "cell_type": "code",
   "execution_count": 12,
   "metadata": {},
   "outputs": [],
   "source": [
    "X = df['statement']\n",
    "y = df['label']"
   ]
  },
  {
   "cell_type": "code",
   "execution_count": 13,
   "metadata": {},
   "outputs": [
    {
     "name": "stdout",
     "output_type": "stream",
     "text": [
      "Accuracy: 0.6208530805687204\n",
      "Classification Report:\n",
      "              precision    recall  f1-score   support\n",
      "\n",
      "           0       0.44      0.38      0.40      1014\n",
      "           1       0.70      0.75      0.72      1940\n",
      "\n",
      "    accuracy                           0.62      2954\n",
      "   macro avg       0.57      0.56      0.56      2954\n",
      "weighted avg       0.61      0.62      0.61      2954\n",
      "\n",
      "Confusion Matrix:\n",
      "[[ 381  633]\n",
      " [ 487 1453]]\n"
     ]
    }
   ],
   "source": [
    "X_train, X_test, y_train, y_test = train_test_split(X, y, test_size=0.33, random_state=42)\n",
    "\n",
    "count_vect = CountVectorizer()\n",
    "X_train_counts = count_vect.fit_transform(X_train)\n",
    "\n",
    "tfidf_transformer = TfidfTransformer()\n",
    "X_train_tfidf = tfidf_transformer.fit_transform(X_train_counts)\n",
    "\n",
    "vectorizer = TfidfVectorizer()\n",
    "X_train_tfidf = vectorizer.fit_transform(X_train)\n",
    "\n",
    "clf = LinearSVC()\n",
    "clf.fit(X_train_tfidf, y_train)\n",
    "\n",
    "X_test_tfidf = vectorizer.transform(X_test)\n",
    "\n",
    "y_pred = clf.predict(X_test_tfidf)\n",
    "\n",
    "accuracy = accuracy_score(y_test, y_pred)\n",
    "print(f'Accuracy: {accuracy}')\n",
    "print('Classification Report:')\n",
    "print(classification_report(y_test, y_pred))\n",
    "print('Confusion Matrix:')\n",
    "print(confusion_matrix(y_test, y_pred))\n",
    "\n"
   ]
  },
  {
   "cell_type": "code",
   "execution_count": 14,
   "metadata": {},
   "outputs": [
    {
     "name": "stdout",
     "output_type": "stream",
     "text": [
      "✅ Submission generada correctamente: 'svc_submission_20250513.csv'\n",
      "            id  label\n",
      "0  dc32e5ffa8b      0\n",
      "1  aa49bb41cab      1\n",
      "2  dddc8d12ac1      1\n",
      "3  bcfe8f51667      1\n",
      "4  eedbbaff5ab      1\n"
     ]
    }
   ],
   "source": [
    "X_test_raw = df_test['statement']\n",
    "X_test_counts = count_vect.transform(X_test_raw)\n",
    "X_test_tfidf   = tfidf_transformer.transform(X_test_counts)\n",
    "\n",
    "y_pred = clf.predict(X_test_tfidf)\n",
    "\n",
    "#  Crear el DataFrame de submission\n",
    "submission = pd.DataFrame({\n",
    "    'id':    df_test['id'],\n",
    "    'label': y_pred\n",
    "})\n",
    "\n",
    "#  Guardar a CSV con fecha en el nombre\n",
    "filename = f\"svc_submission_{datetime.datetime.now().strftime('%Y%m%d')}.csv\"\n",
    "submission.to_csv(filename, index=False, columns=['id', 'label'])\n",
    "\n",
    "print(f\"✅ Submission generada correctamente: '{filename}'\")\n",
    "print(submission.head())"
   ]
  }
 ],
 "metadata": {
  "kernelspec": {
   "display_name": "venv",
   "language": "python",
   "name": "python3"
  },
  "language_info": {
   "codemirror_mode": {
    "name": "ipython",
    "version": 3
   },
   "file_extension": ".py",
   "mimetype": "text/x-python",
   "name": "python",
   "nbconvert_exporter": "python",
   "pygments_lexer": "ipython3",
   "version": "3.11.2"
  }
 },
 "nbformat": 4,
 "nbformat_minor": 2
}
