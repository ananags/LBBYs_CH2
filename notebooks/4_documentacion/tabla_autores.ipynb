{
 "cells": [
  {
   "cell_type": "markdown",
   "metadata": {},
   "source": [
    "# Tabla de autoría de notebooks\n"
   ]
  },
  {
   "cell_type": "markdown",
   "metadata": {
    "vscode": {
     "languageId": "plaintext"
    }
   },
   "source": [
    "**Descripción:**  \n",
    "Este notebook contiene una tabla que identifica qué miembros del equipo han participado en la elaboración de cada uno de los notebooks desarrollados durante la competición. \n",
    "\n",
    "Cada fila representa un notebook, y cada columna corresponde a un miembro del equipo. La marca **\"X\"** indica que el miembro ha contribuido significativamente a ese notebook."
   ]
  },
  {
   "cell_type": "markdown",
   "metadata": {},
   "source": [
    "| Notebook                                   | Dayrin | Ángel | Sofía | Ana  | Inés | Andrea |\n",
    "|-------------------------------------------|--------|-------|--------|------|------|--------|\n",
    "| 1_analisis_dataset.ipynb                  |        |       |        |  X   |      |        |\n",
    "| 2_preprocesado.ipynb                      |        |       |        |  X   |      |        |\n",
    "| 1_Training_Random_Forest.ipynb            |        |  X    |        |      |      |        |\n",
    "| 2_CatBoost_Simple.ipynb                   |        |       |        |      |      |   X    |\n",
    "| 3_CatBoost_FE.ipynb                       |        |       |        |      |      |   X    |\n",
    "| 4_CatBoostNewProcessing.ipynb                       |        |       |        |      |      |   X    |\n",
    "| 1_LogisticRegression.ipynb                |        |       |   X    |      |      |        |\n",
    "| 1_CNN_Model.ipynb                         |   X    |       |        |      |      |        |\n",
    "| 2_GRU.ipynb                               |        |       |        |      |  X   |        |\n",
    "| 3_LSTM_keras.ipynb                        |        |       |   X    |      |      |        |\n",
    "| Gaussian_NB.ipynb                         |        |       |        |  X   |      |        |\n",
    "| KNN_Model.ipynb                           |   X    |       |        |      |      |        |\n",
    "| SVC.ipynb                                 |        |       |        |      |  X   |        |\n",
    "| 1_Distilbert.ipynb                        |        |  X    |        |      |      |        |\n",
    "| 2_DistilBERT_Statements_Topic.ipynb       |        |       |        |      |      |   X    |\n",
    "| 1_BERT.ipynb                              |        |       |        |      |      |   X    |\n",
    "| 1_BiLSTM.ipynb                            |        |       |        |  X   |      |        |\n",
    "\n",
    "\n",
    "\n"
   ]
  },
  {
   "cell_type": "markdown",
   "metadata": {},
   "source": [
    "# "
   ]
  }
 ],
 "metadata": {
  "language_info": {
   "name": "python"
  }
 },
 "nbformat": 4,
 "nbformat_minor": 2
}
